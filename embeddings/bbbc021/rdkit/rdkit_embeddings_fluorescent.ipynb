{
 "cells": [
  {
   "cell_type": "code",
   "execution_count": 330,
   "id": "da06e3bf-cf32-441e-8e02-f1f88dde5ec0",
   "metadata": {},
   "outputs": [],
   "source": [
    "import sys \n",
    "sys.path.insert(0, \"home/icb/alessandro.palma/\")  # this depends on the notebook depth and must be adapted per notebook\n",
    "import numpy as np\n",
    "from joblib import Parallel, delayed\n",
    "from tqdm.notebook import tqdm\n",
    "import pandas as pd \n",
    "import os\n",
    "from joblib import Parallel, delayed\n",
    "from tqdm.notebook import tqdm"
   ]
  },
  {
   "cell_type": "code",
   "execution_count": 331,
   "id": "78364629-9565-4070-89eb-7c3aec2dec1e",
   "metadata": {},
   "outputs": [],
   "source": [
    "# Name of the dataset \n",
    "dataset_name = 'BBBC021'\n",
    "data_dir = '/lustre/groups/ml01/workspace/alessandro.palma/imCPA/fluorescence/metadata_processed/dataset'\n",
    "\n",
    "# Get the training and ood splits (containing the whole set of drugs in the dataset)\n",
    "dataset = pd.read_csv(os.path.join(data_dir, 'dataset_splits.csv'))"
   ]
  },
  {
   "cell_type": "code",
   "execution_count": 414,
   "id": "3332d82a",
   "metadata": {},
   "outputs": [],
   "source": [
    "# drug2smile = {drug: smile for drug, smile in zip(dataset.CPD_NAME, dataset.SMILES)}\n",
    "# drug_names = np.sort(np.unique(dataset.CPD_NAME))  # Sorted drug names\n",
    "# moa_names = np.sort(np.unique(dataset.MOA))  # Sorted MOA names \n",
    "# smile_names = np.array([drug2smile[drug] for drug in drug_names])  # Sorted smile names based on drug sorting \n",
    "# print(list(zip(drug_names,smile_names)))"
   ]
  },
  {
   "cell_type": "code",
   "execution_count": 332,
   "id": "09008ed4-1121-4782-8e6f-5da578a0c506",
   "metadata": {},
   "outputs": [],
   "source": [
    "smiles = np.unique(dataset.SMILES)"
   ]
  },
  {
   "cell_type": "code",
   "execution_count": 333,
   "id": "4e460ebb-44f5-4da6-8516-83cb45cdaa68",
   "metadata": {},
   "outputs": [],
   "source": [
    "from descriptastorus.descriptors.DescriptorGenerator import MakeGenerator"
   ]
  },
  {
   "cell_type": "code",
   "execution_count": 334,
   "id": "7ac090fc-8230-4708-90b7-6b0c844f2de0",
   "metadata": {},
   "outputs": [],
   "source": [
    "# Create the generator for rdkit features \n",
    "generator = MakeGenerator((\"RDKit2D\",))"
   ]
  },
  {
   "cell_type": "code",
   "execution_count": 335,
   "id": "ba40a0f1-d58c-47f0-92bc-9a8ce179a8b9",
   "metadata": {},
   "outputs": [
    {
     "name": "stdout",
     "output_type": "stream",
     "text": [
      "RDKit2D_calculated(bool)\n",
      "BalabanJ(float64)\n",
      "BertzCT(float64)\n",
      "Chi0(float64)\n",
      "Chi0n(float64)\n",
      "Chi0v(float64)\n",
      "Chi1(float64)\n",
      "Chi1n(float64)\n",
      "Chi1v(float64)\n",
      "Chi2n(float64)\n",
      "Chi2v(float64)\n",
      "Chi3n(float64)\n",
      "Chi3v(float64)\n",
      "Chi4n(float64)\n",
      "Chi4v(float64)\n",
      "EState_VSA1(float64)\n",
      "EState_VSA10(float64)\n",
      "EState_VSA11(float64)\n",
      "EState_VSA2(float64)\n",
      "EState_VSA3(float64)\n",
      "EState_VSA4(float64)\n",
      "EState_VSA5(float64)\n",
      "EState_VSA6(float64)\n",
      "EState_VSA7(float64)\n",
      "EState_VSA8(float64)\n",
      "EState_VSA9(float64)\n",
      "ExactMolWt(float64)\n",
      "FpDensityMorgan1(float64)\n",
      "FpDensityMorgan2(float64)\n",
      "FpDensityMorgan3(float64)\n",
      "FractionCSP3(float64)\n",
      "HallKierAlpha(float64)\n",
      "HeavyAtomCount(float64)\n",
      "HeavyAtomMolWt(float64)\n",
      "Ipc(float64)\n",
      "Kappa1(float64)\n",
      "Kappa2(float64)\n",
      "Kappa3(float64)\n",
      "LabuteASA(float64)\n",
      "MaxAbsEStateIndex(float64)\n",
      "MaxAbsPartialCharge(float64)\n",
      "MaxEStateIndex(float64)\n",
      "MaxPartialCharge(float64)\n",
      "MinAbsEStateIndex(float64)\n",
      "MinAbsPartialCharge(float64)\n",
      "MinEStateIndex(float64)\n",
      "MinPartialCharge(float64)\n",
      "MolLogP(float64)\n",
      "MolMR(float64)\n",
      "MolWt(float64)\n",
      "NHOHCount(float64)\n",
      "NOCount(float64)\n",
      "NumAliphaticCarbocycles(float64)\n",
      "NumAliphaticHeterocycles(float64)\n",
      "NumAliphaticRings(float64)\n",
      "NumAromaticCarbocycles(float64)\n",
      "NumAromaticHeterocycles(float64)\n",
      "NumAromaticRings(float64)\n",
      "NumHAcceptors(float64)\n",
      "NumHDonors(float64)\n",
      "NumHeteroatoms(float64)\n",
      "NumRadicalElectrons(float64)\n",
      "NumRotatableBonds(float64)\n",
      "NumSaturatedCarbocycles(float64)\n",
      "NumSaturatedHeterocycles(float64)\n",
      "NumSaturatedRings(float64)\n",
      "NumValenceElectrons(float64)\n",
      "PEOE_VSA1(float64)\n",
      "PEOE_VSA10(float64)\n",
      "PEOE_VSA11(float64)\n",
      "PEOE_VSA12(float64)\n",
      "PEOE_VSA13(float64)\n",
      "PEOE_VSA14(float64)\n",
      "PEOE_VSA2(float64)\n",
      "PEOE_VSA3(float64)\n",
      "PEOE_VSA4(float64)\n",
      "PEOE_VSA5(float64)\n",
      "PEOE_VSA6(float64)\n",
      "PEOE_VSA7(float64)\n",
      "PEOE_VSA8(float64)\n",
      "PEOE_VSA9(float64)\n",
      "RingCount(float64)\n",
      "SMR_VSA1(float64)\n",
      "SMR_VSA10(float64)\n",
      "SMR_VSA2(float64)\n",
      "SMR_VSA3(float64)\n",
      "SMR_VSA4(float64)\n",
      "SMR_VSA5(float64)\n",
      "SMR_VSA6(float64)\n",
      "SMR_VSA7(float64)\n",
      "SMR_VSA8(float64)\n",
      "SMR_VSA9(float64)\n",
      "SlogP_VSA1(float64)\n",
      "SlogP_VSA10(float64)\n",
      "SlogP_VSA11(float64)\n",
      "SlogP_VSA12(float64)\n",
      "SlogP_VSA2(float64)\n",
      "SlogP_VSA3(float64)\n",
      "SlogP_VSA4(float64)\n",
      "SlogP_VSA5(float64)\n",
      "SlogP_VSA6(float64)\n",
      "SlogP_VSA7(float64)\n",
      "SlogP_VSA8(float64)\n",
      "SlogP_VSA9(float64)\n",
      "TPSA(float64)\n",
      "VSA_EState1(float64)\n",
      "VSA_EState10(float64)\n",
      "VSA_EState2(float64)\n",
      "VSA_EState3(float64)\n",
      "VSA_EState4(float64)\n",
      "VSA_EState5(float64)\n",
      "VSA_EState6(float64)\n",
      "VSA_EState7(float64)\n",
      "VSA_EState8(float64)\n",
      "VSA_EState9(float64)\n",
      "fr_Al_COO(float64)\n",
      "fr_Al_OH(float64)\n",
      "fr_Al_OH_noTert(float64)\n",
      "fr_ArN(float64)\n",
      "fr_Ar_COO(float64)\n",
      "fr_Ar_N(float64)\n",
      "fr_Ar_NH(float64)\n",
      "fr_Ar_OH(float64)\n",
      "fr_COO(float64)\n",
      "fr_COO2(float64)\n",
      "fr_C_O(float64)\n",
      "fr_C_O_noCOO(float64)\n",
      "fr_C_S(float64)\n",
      "fr_HOCCN(float64)\n",
      "fr_Imine(float64)\n",
      "fr_NH0(float64)\n",
      "fr_NH1(float64)\n",
      "fr_NH2(float64)\n",
      "fr_N_O(float64)\n",
      "fr_Ndealkylation1(float64)\n",
      "fr_Ndealkylation2(float64)\n",
      "fr_Nhpyrrole(float64)\n",
      "fr_SH(float64)\n",
      "fr_aldehyde(float64)\n",
      "fr_alkyl_carbamate(float64)\n",
      "fr_alkyl_halide(float64)\n",
      "fr_allylic_oxid(float64)\n",
      "fr_amide(float64)\n",
      "fr_amidine(float64)\n",
      "fr_aniline(float64)\n",
      "fr_aryl_methyl(float64)\n",
      "fr_azide(float64)\n",
      "fr_azo(float64)\n",
      "fr_barbitur(float64)\n",
      "fr_benzene(float64)\n",
      "fr_benzodiazepine(float64)\n",
      "fr_bicyclic(float64)\n",
      "fr_diazo(float64)\n",
      "fr_dihydropyridine(float64)\n",
      "fr_epoxide(float64)\n",
      "fr_ester(float64)\n",
      "fr_ether(float64)\n",
      "fr_furan(float64)\n",
      "fr_guanido(float64)\n",
      "fr_halogen(float64)\n",
      "fr_hdrzine(float64)\n",
      "fr_hdrzone(float64)\n",
      "fr_imidazole(float64)\n",
      "fr_imide(float64)\n",
      "fr_isocyan(float64)\n",
      "fr_isothiocyan(float64)\n",
      "fr_ketone(float64)\n",
      "fr_ketone_Topliss(float64)\n",
      "fr_lactam(float64)\n",
      "fr_lactone(float64)\n",
      "fr_methoxy(float64)\n",
      "fr_morpholine(float64)\n",
      "fr_nitrile(float64)\n",
      "fr_nitro(float64)\n",
      "fr_nitro_arom(float64)\n",
      "fr_nitro_arom_nonortho(float64)\n",
      "fr_nitroso(float64)\n",
      "fr_oxazole(float64)\n",
      "fr_oxime(float64)\n",
      "fr_para_hydroxylation(float64)\n",
      "fr_phenol(float64)\n",
      "fr_phenol_noOrthoHbond(float64)\n",
      "fr_phos_acid(float64)\n",
      "fr_phos_ester(float64)\n",
      "fr_piperdine(float64)\n",
      "fr_piperzine(float64)\n",
      "fr_priamide(float64)\n",
      "fr_prisulfonamd(float64)\n",
      "fr_pyridine(float64)\n",
      "fr_quatN(float64)\n",
      "fr_sulfide(float64)\n",
      "fr_sulfonamd(float64)\n",
      "fr_sulfone(float64)\n",
      "fr_term_acetylene(float64)\n",
      "fr_tetrazole(float64)\n",
      "fr_thiazole(float64)\n",
      "fr_thiocyan(float64)\n",
      "fr_thiophene(float64)\n",
      "fr_unbrch_alkane(float64)\n",
      "fr_urea(float64)\n",
      "qed(float64)\n"
     ]
    }
   ],
   "source": [
    "for name, numpy_type in generator.GetColumns():\n",
    "    print(f\"{name}({numpy_type.__name__})\")"
   ]
  },
  {
   "cell_type": "code",
   "execution_count": 336,
   "id": "af5f52a1-45ec-4334-81b8-cae81ad4da56",
   "metadata": {},
   "outputs": [],
   "source": [
    "n_jobs = 16\n",
    "data = Parallel(n_jobs=n_jobs)(delayed(generator.process)(smile) for smile in smiles )"
   ]
  },
  {
   "cell_type": "code",
   "execution_count": 337,
   "id": "32fd3c55",
   "metadata": {},
   "outputs": [
    {
     "data": {
      "text/plain": [
       "201"
      ]
     },
     "execution_count": 337,
     "metadata": {},
     "output_type": "execute_result"
    }
   ],
   "source": [
    "len(data[0])"
   ]
  },
  {
   "cell_type": "code",
   "execution_count": 338,
   "id": "1a9e8137-9276-4837-be1e-dbb9dfc5877d",
   "metadata": {},
   "outputs": [],
   "source": [
    "embedding = np.array(data)"
   ]
  },
  {
   "cell_type": "markdown",
   "id": "35365917-74fb-4364-a7db-5ac878e01ba7",
   "metadata": {},
   "source": [
    "Check for the presence of nans or infinity"
   ]
  },
  {
   "cell_type": "code",
   "execution_count": 339,
   "id": "6b72a69e-6213-4ef2-8385-1c23c54a5c6c",
   "metadata": {},
   "outputs": [
    {
     "name": "stdout",
     "output_type": "stream",
     "text": [
      "drug_idx:\n",
      " [29 29 29 29]\n",
      "feature_idx:\n",
      " [40 42 44 46]\n"
     ]
    }
   ],
   "source": [
    "# Check for nans\n",
    "drug_idx, feature_idx = np.where(np.isnan(embedding))\n",
    "print(f'drug_idx:\\n {drug_idx}')\n",
    "print(f'feature_idx:\\n {feature_idx}')"
   ]
  },
  {
   "cell_type": "code",
   "execution_count": 340,
   "id": "65d2c08a-0730-43f4-9302-96798af79c8e",
   "metadata": {},
   "outputs": [
    {
     "name": "stdout",
     "output_type": "stream",
     "text": [
      "drug_idx:\n",
      " []\n",
      "feature_idx:\n",
      " []\n"
     ]
    }
   ],
   "source": [
    "drug_idx_infs, feature_idx_infs = np.where(np.isinf(embedding))\n",
    "print(f'drug_idx:\\n {drug_idx_infs}')\n",
    "print(f'feature_idx:\\n {feature_idx_infs}')"
   ]
  },
  {
   "cell_type": "code",
   "execution_count": 341,
   "id": "b3fe478d-122d-45e4-b4a4-f57198570e2a",
   "metadata": {},
   "outputs": [],
   "source": [
    "drug_idx = np.concatenate((drug_idx, drug_idx_infs))\n",
    "feature_idx = np.concatenate((feature_idx, feature_idx_infs))"
   ]
  },
  {
   "cell_type": "code",
   "execution_count": 342,
   "id": "083fbf95-371d-4a0e-8143-3614616d232a",
   "metadata": {},
   "outputs": [
    {
     "data": {
      "text/plain": [
       "array([['MaxAbsPartialCharge', <class 'numpy.float64'>],\n",
       "       ['MaxPartialCharge', <class 'numpy.float64'>],\n",
       "       ['MinAbsPartialCharge', <class 'numpy.float64'>],\n",
       "       ['MinPartialCharge', <class 'numpy.float64'>]], dtype=object)"
      ]
     },
     "execution_count": 342,
     "metadata": {},
     "output_type": "execute_result"
    }
   ],
   "source": [
    "# Features where the data has nan values\n",
    "np.array(generator.GetColumns())[np.unique(feature_idx)]"
   ]
  },
  {
   "cell_type": "code",
   "execution_count": 343,
   "id": "6cfc7777-9035-4231-8943-ee8337bca1bc",
   "metadata": {},
   "outputs": [
    {
     "data": {
      "text/plain": [
       "array([nan, nan, nan, nan])"
      ]
     },
     "execution_count": 343,
     "metadata": {},
     "output_type": "execute_result"
    }
   ],
   "source": [
    "# Check if indeed the content is NaN \n",
    "embedding[drug_idx, feature_idx] "
   ]
  },
  {
   "cell_type": "code",
   "execution_count": 344,
   "id": "bac457bc-19c5-47cb-ad27-f6a4f9752372",
   "metadata": {},
   "outputs": [],
   "source": [
    "# Turn values to 0\n",
    "embedding[drug_idx, feature_idx] = 0"
   ]
  },
  {
   "cell_type": "code",
   "execution_count": 345,
   "id": "332df54f",
   "metadata": {},
   "outputs": [
    {
     "data": {
      "text/plain": [
       "(35, 201)"
      ]
     },
     "execution_count": 345,
     "metadata": {},
     "output_type": "execute_result"
    }
   ],
   "source": [
    "embedding.shape"
   ]
  },
  {
   "cell_type": "code",
   "execution_count": 346,
   "id": "1c7f50ea",
   "metadata": {},
   "outputs": [
    {
     "data": {
      "text/plain": [
       "array([[1.00000000e+00, 1.48570577e+00, 1.97632897e+03, ...,\n",
       "        0.00000000e+00, 0.00000000e+00, 1.46809486e-01],\n",
       "       [1.00000000e+00, 1.38744766e+00, 2.28034627e+03, ...,\n",
       "        0.00000000e+00, 0.00000000e+00, 1.29786194e-01],\n",
       "       [1.00000000e+00, 2.35135123e+00, 7.99282308e+02, ...,\n",
       "        0.00000000e+00, 0.00000000e+00, 7.46761834e-01],\n",
       "       ...,\n",
       "       [1.00000000e+00, 1.96860059e+00, 9.16871713e+02, ...,\n",
       "        6.00000000e+00, 0.00000000e+00, 1.39316778e-01],\n",
       "       [1.00000000e+00, 1.84369326e+00, 1.09130210e+03, ...,\n",
       "        0.00000000e+00, 0.00000000e+00, 4.16226728e-01],\n",
       "       [1.00000000e+00, 2.05243415e+00, 9.42959069e+02, ...,\n",
       "        0.00000000e+00, 0.00000000e+00, 5.32981213e-01]])"
      ]
     },
     "execution_count": 346,
     "metadata": {},
     "output_type": "execute_result"
    }
   ],
   "source": [
    "embedding"
   ]
  },
  {
   "cell_type": "markdown",
   "id": "91c013a3-c6d0-46a6-8fec-060c077b1eaa",
   "metadata": {},
   "source": [
    "## Save and normalize"
   ]
  },
  {
   "cell_type": "code",
   "execution_count": 347,
   "id": "7117ada3-fdb2-4483-9c3e-244a0249baf9",
   "metadata": {},
   "outputs": [
    {
     "name": "stdout",
     "output_type": "stream",
     "text": [
      "Deleting columns with std<=0.01: ['latent_61', 'latent_84', 'latent_90', 'latent_103', 'latent_119', 'latent_127', 'latent_129', 'latent_133', 'latent_134', 'latent_135', 'latent_137', 'latent_143', 'latent_146', 'latent_147', 'latent_148', 'latent_150', 'latent_152', 'latent_153', 'latent_157', 'latent_158', 'latent_160', 'latent_161', 'latent_164', 'latent_165', 'latent_168', 'latent_171', 'latent_172', 'latent_176', 'latent_177', 'latent_178', 'latent_182', 'latent_183', 'latent_187', 'latent_189', 'latent_191', 'latent_192', 'latent_193', 'latent_194', 'latent_196', 'latent_199']\n"
     ]
    }
   ],
   "source": [
    "# Convert to df\n",
    "df = pd.DataFrame(data=embedding, index=smiles, columns=[f'latent_{i}' for i in range(embedding.shape[1])]) \n",
    "\n",
    "# Drop first feature from generator (RDKit2D_calculated)\n",
    "df.drop(columns=['latent_0'], inplace=True)\n",
    "\n",
    "# Drop columns with 0 standard deviation\n",
    "threshold = 0.01\n",
    "columns=[f'latent_{idx+1}' for idx in np.where(df.std() <= threshold)[0]]\n",
    "print(f'Deleting columns with std<={threshold}: {columns}')\n",
    "df.drop(columns=[f'latent_{idx+1}' for idx in np.where(df.std() <= 0.01)[0]], inplace=True)"
   ]
  },
  {
   "cell_type": "code",
   "execution_count": 348,
   "id": "680821e9-5a0b-4700-819a-9a0349ce7035",
   "metadata": {},
   "outputs": [
    {
     "data": {
      "text/plain": [
       "(array([], dtype=int64),)"
      ]
     },
     "execution_count": 348,
     "metadata": {},
     "output_type": "execute_result"
    }
   ],
   "source": [
    "# Control if the right columns were removed\n",
    "np.where(df.std() <= threshold)"
   ]
  },
  {
   "cell_type": "code",
   "execution_count": 349,
   "id": "692b49e3-34ed-49cc-8d51-706308b1b092",
   "metadata": {},
   "outputs": [],
   "source": [
    "# Normalize features \n",
    "normalized_df=(df-df.mean())/df.std()"
   ]
  },
  {
   "cell_type": "code",
   "execution_count": 350,
   "id": "39cd0219-f8f2-4cc2-b93c-1fcf3800374c",
   "metadata": {},
   "outputs": [
    {
     "data": {
      "text/plain": [
       "Index(['CC(=O)O[C@@]12CO[C@@H]1C[C@H](O)[C@]3(C)[C@@H]2[C@H](OC(=O)c4ccccc4)[C@]5(O)C[C@H](OC(=O)[C@H](O)[C@@H](NC(=O)OC(C)(C)C)c6ccccc6)C(=C([C@@H](O)C3=O)C5(C)C)C',\n",
       "       'CC(=O)O[C@H]1C(=O)[C@]2(C)[C@@H](O)C[C@H]3OC[C@@]3(OC(=O)C)[C@H]2[C@H](OC(=O)c4ccccc4)[C@]5(O)C[C@H](OC(=O)[C@H](O)[C@@H](NC(=O)c6ccccc6)c7ccccc7)C(=C1C5(C)C)C',\n",
       "       'CC(C)(C)n1nc(c2ccc(Cl)cc2)c3c(N)ncnc13',\n",
       "       'CC(C)C[C@H](NC(=O)[C@H](CC(C)C)NC(=O)[C@H](CC(C)C)NC(=O)OCc1ccccc1)C=O',\n",
       "       'CC(C)[C@H](O)C1(NC(=O)[C@H](C)[C@@H]1O)C(=O)SC[C@H](NC(=O)C)C(=O)O',\n",
       "       'CC1CC(C)C(=O)C(C1)C(O)CC2CC(=O)NC(=O)C2',\n",
       "       'CCC(C)(C)C(=O)O[C@H]1C[C@@H](C)C=C2C=C[C@H](C)[C@H](CC[C@@H]3C[C@@H](O)CC(=O)O3)[C@@H]12',\n",
       "       'CCC(C)C(NC(=O)OCc1ccccc1)C(=O)NC(CCC(=O)OC(C)(C)C)C(=O)NC(C)C(=O)NC(CC(C)C)C=O',\n",
       "       'CCC1CN2CCc3cc(OC)c(OC)cc3C2CC1CC4NCCc5cc(OC)c(OC)cc45',\n",
       "       'CCCCC(NC(=O)[C@H](CC(C)C)NC(=O)[C@H](CC(C)C)NC(=O)C)C=O',\n",
       "       'CCC\\\\C=C\\\\C=C\\\\C(=O)O[C@H]1\\\\C(=C\\\\C(=O)OC)\\\\C[C@H]2C[C@@H](OC(=O)C[C@H](O)C[C@@H]3C[C@H](OC(=O)C)C(C)(C)[C@](O)(C[C@@H]4C\\\\C(=C\\\\C(=O)OC)\\\\C[C@@H](O4)\\\\C=C\\\\C(C)(C)[C@]1(O)O2)O3)[C@@H](C)O',\n",
       "       'CCOc1cc(OC[C@H]2CCCN2)c3c(Nc4cnn(CC(=O)Nc5cccc(F)c5F)c4)ncnc3c1',\n",
       "       'CC[C@@H](N(CCCN)C(=O)c1ccc(C)cc1)C2=Nc3ccsc3C(=O)N2Cc4ccccc4',\n",
       "       'CC[C@@]1(O)C(=O)OCC2=C1C=C3N(Cc4cc5ccccc5nc34)C2=O',\n",
       "       'CC[C@H](C)C(=O)O[C@H]1C[C@@H](C)C=C2C=C[C@H](C)[C@H](CC[C@@H]3C[C@@H](O)CC(=O)O3)[C@@H]12',\n",
       "       'CC[C@]1(O)C[C@H]2CN(CCc3c([nH]c4ccccc34)[C@@](C2)(C(=O)OC)c5cc6c(cc5OC)N(C=O)[C@H]7[C@](O)([C@H](OC(=O)C)[C@]8(CC)C=CCN9CC[C@]67[C@H]89)C(=O)OC)C1',\n",
       "       'CN(Cc1cnc2nc(N)nc(N)c2n1)c3ccc(cc3)C(=O)N[C@@H](CCC(=O)O)C(=O)O',\n",
       "       'CNC1CCc2cc(OC)c(OC)c(OC)c2C3=CC=C(OC)C(=O)C=C13',\n",
       "       'COC(=O)Nc1nc2cc(ccc2[nH]1)C(=O)c3cccs3',\n",
       "       'COC12C3NC3CN1C4=C(C2COC(=O)N)C(=O)C(=C(C)C4=O)N',\n",
       "       'COC1=CC=C2C(=CC1=O)[C@H](CCc3cc(OC)c(OC)c(OC)c23)NC(=O)C',\n",
       "       'COc1cc(OC[C@H]2CCCN2)c3c(Nc4cnn(CC(=O)Nc5cccc(F)c5F)c4)ncnc3c1',\n",
       "       'COc1cc(cc(OC)c1O)[C@H]2[C@@H]3C(COC3=O)[C@H](O[C@@H]4O[C@@H]5CO[C@@H](C)O[C@H]5[C@H](O)[C@H]4O)c6cc7OCOc7cc26',\n",
       "       'COc1ccc(C[C@H]2NC[C@H](O)[C@H]2OC(=O)C)cc1', 'CS(=O)C',\n",
       "       'C[C@@H]1CCC[C@@H](O)\\\\C=C\\\\C(=O)O[C@]23[C@@H](\\\\C=C\\\\C1)[C@H](O)C(=C)[C@@H](C)[C@H]2[C@H](Cc4ccccc4)NC3=O',\n",
       "       'C[C@H]1CCC[C@@]2(C)O[C@H]2C[C@H](OC(=O)C[C@H](O)C(C)(C)C(=O)[C@H](C)[C@H]1O)\\\\C(=C\\\\c3csc(C)n3)\\\\C',\n",
       "       'C[C@H]1CC[C@@H]2C[C@H](C[C@@](O)(O2)[C@@H]3CSC(=O)N3)OC(=O)\\\\C=C(\\\\C)/CC\\\\C=C/1',\n",
       "       'C[C@H]1C\\\\C=C\\\\[C@H]2[C@H](O)C(=C)[C@@H](C)[C@H]3[C@@H](Cc4ccccc4)NC(=O)C23C(OC(=O)C)\\\\C=C\\\\C(C)(O)C1=O',\n",
       "       'N[Pt](N)(Cl)Cl', 'OC(=O)CCCc1ccc(cc1)N(CCCl)CCCl',\n",
       "       'OCC1OC(CC1O)N2C=C(F)C(=O)NC2=O',\n",
       "       'OCCNCCNc1ccc(NCCNCCO)c2C(=O)c3c(O)ccc(O)c3C(=O)c12',\n",
       "       '[O-][N+](=O)c1ccc(cc1)c2nc(c3ccc(F)cc3)c([nH]2)c4ccncc4',\n",
       "       '[O-][N+](=O)c1ccc2[nH]c3c(CC(=O)Nc4ccccc34)c2c1'],\n",
       "      dtype='object')"
      ]
     },
     "execution_count": 350,
     "metadata": {},
     "output_type": "execute_result"
    }
   ],
   "source": [
    "normalized_df.index"
   ]
  },
  {
   "cell_type": "code",
   "execution_count": 351,
   "id": "a9e1a8de-4f77-4b2b-8786-6e23636e30ba",
   "metadata": {},
   "outputs": [],
   "source": [
    "model_name = 'rdkit2D'\n",
    "fname = f'{model_name}_embedding_{dataset_name}.csv'\n",
    "embedding_dir = '/lustre/groups/ml01/workspace/alessandro.palma/imCPA/fluorescence/metadata_processed/embeddings'\n",
    "\n",
    "if not os.path.exists(embedding_dir):\n",
    "    os.mkdir(embedding_dir)"
   ]
  },
  {
   "cell_type": "code",
   "execution_count": 352,
   "id": "912df04f-f94a-4bf8-ba9e-2904c28d777d",
   "metadata": {},
   "outputs": [],
   "source": [
    "normalized_df.to_csv(os.path.join(embedding_dir, fname))"
   ]
  },
  {
   "cell_type": "code",
   "execution_count": 353,
   "id": "6d628b94-e44a-44fe-ab67-4398cf64b278",
   "metadata": {},
   "outputs": [
    {
     "data": {
      "text/plain": [
       "35"
      ]
     },
     "execution_count": 353,
     "metadata": {},
     "output_type": "execute_result"
    }
   ],
   "source": [
    "len(normalized_df.index)"
   ]
  },
  {
   "cell_type": "code",
   "execution_count": 354,
   "id": "a826c980-eb90-458c-820e-f2603b659007",
   "metadata": {},
   "outputs": [
    {
     "data": {
      "text/plain": [
       "array(['CC(=O)O[C@@]12CO[C@@H]1C[C@H](O)[C@]3(C)[C@@H]2[C@H](OC(=O)c4ccccc4)[C@]5(O)C[C@H](OC(=O)[C@H](O)[C@@H](NC(=O)OC(C)(C)C)c6ccccc6)C(=C([C@@H](O)C3=O)C5(C)C)C',\n",
       "       'CC(=O)O[C@H]1C(=O)[C@]2(C)[C@@H](O)C[C@H]3OC[C@@]3(OC(=O)C)[C@H]2[C@H](OC(=O)c4ccccc4)[C@]5(O)C[C@H](OC(=O)[C@H](O)[C@@H](NC(=O)c6ccccc6)c7ccccc7)C(=C1C5(C)C)C',\n",
       "       'CC(C)(C)n1nc(c2ccc(Cl)cc2)c3c(N)ncnc13',\n",
       "       'CC(C)C[C@H](NC(=O)[C@H](CC(C)C)NC(=O)[C@H](CC(C)C)NC(=O)OCc1ccccc1)C=O',\n",
       "       'CC(C)[C@H](O)C1(NC(=O)[C@H](C)[C@@H]1O)C(=O)SC[C@H](NC(=O)C)C(=O)O',\n",
       "       'CC1CC(C)C(=O)C(C1)C(O)CC2CC(=O)NC(=O)C2',\n",
       "       'CCC(C)(C)C(=O)O[C@H]1C[C@@H](C)C=C2C=C[C@H](C)[C@H](CC[C@@H]3C[C@@H](O)CC(=O)O3)[C@@H]12',\n",
       "       'CCC(C)C(NC(=O)OCc1ccccc1)C(=O)NC(CCC(=O)OC(C)(C)C)C(=O)NC(C)C(=O)NC(CC(C)C)C=O',\n",
       "       'CCC1CN2CCc3cc(OC)c(OC)cc3C2CC1CC4NCCc5cc(OC)c(OC)cc45',\n",
       "       'CCCCC(NC(=O)[C@H](CC(C)C)NC(=O)[C@H](CC(C)C)NC(=O)C)C=O',\n",
       "       'CCC\\\\\\\\C=C\\\\\\\\C=C\\\\\\\\C(=O)O[C@H]1\\\\\\\\C(=C\\\\\\\\C(=O)OC)\\\\\\\\C[C@H]2C[C@@H](OC(=O)C[C@H](O)C[C@@H]3C[C@H](OC(=O)C)C(C)(C)[C@](O)(C[C@@H]4C\\\\\\\\C(=C\\\\\\\\C(=O)OC)\\\\\\\\C[C@@H](O4)\\\\\\\\C=C\\\\\\\\C(C)(C)[C@]1(O)O2)O3)[C@@H](C)O',\n",
       "       'CCOc1cc(OC[C@H]2CCCN2)c3c(Nc4cnn(CC(=O)Nc5cccc(F)c5F)c4)ncnc3c1',\n",
       "       'CC[C@@H](N(CCCN)C(=O)c1ccc(C)cc1)C2=Nc3ccsc3C(=O)N2Cc4ccccc4',\n",
       "       'CC[C@@]1(O)C(=O)OCC2=C1C=C3N(Cc4cc5ccccc5nc34)C2=O',\n",
       "       'CC[C@H](C)C(=O)O[C@H]1C[C@@H](C)C=C2C=C[C@H](C)[C@H](CC[C@@H]3C[C@@H](O)CC(=O)O3)[C@@H]12',\n",
       "       'CC[C@]1(O)C[C@H]2CN(CCc3c([nH]c4ccccc34)[C@@](C2)(C(=O)OC)c5cc6c(cc5OC)N(C=O)[C@H]7[C@](O)([C@H](OC(=O)C)[C@]8(CC)C=CCN9CC[C@]67[C@H]89)C(=O)OC)C1',\n",
       "       'CN(Cc1cnc2nc(N)nc(N)c2n1)c3ccc(cc3)C(=O)N[C@@H](CCC(=O)O)C(=O)O',\n",
       "       'CNC1CCc2cc(OC)c(OC)c(OC)c2C3=CC=C(OC)C(=O)C=C13',\n",
       "       'COC(=O)Nc1nc2cc(ccc2[nH]1)C(=O)c3cccs3',\n",
       "       'COC12C3NC3CN1C4=C(C2COC(=O)N)C(=O)C(=C(C)C4=O)N',\n",
       "       'COC1=CC=C2C(=CC1=O)[C@H](CCc3cc(OC)c(OC)c(OC)c23)NC(=O)C',\n",
       "       'COc1cc(OC[C@H]2CCCN2)c3c(Nc4cnn(CC(=O)Nc5cccc(F)c5F)c4)ncnc3c1',\n",
       "       'COc1cc(cc(OC)c1O)[C@H]2[C@@H]3C(COC3=O)[C@H](O[C@@H]4O[C@@H]5CO[C@@H](C)O[C@H]5[C@H](O)[C@H]4O)c6cc7OCOc7cc26',\n",
       "       'COc1ccc(C[C@H]2NC[C@H](O)[C@H]2OC(=O)C)cc1', 'CS(=O)C',\n",
       "       'C[C@@H]1CCC[C@@H](O)\\\\\\\\C=C\\\\\\\\C(=O)O[C@]23[C@@H](\\\\\\\\C=C\\\\\\\\C1)[C@H](O)C(=C)[C@@H](C)[C@H]2[C@H](Cc4ccccc4)NC3=O',\n",
       "       'C[C@H]1CCC[C@@]2(C)O[C@H]2C[C@H](OC(=O)C[C@H](O)C(C)(C)C(=O)[C@H](C)[C@H]1O)\\\\\\\\C(=C\\\\\\\\c3csc(C)n3)\\\\\\\\C',\n",
       "       'C[C@H]1CC[C@@H]2C[C@H](C[C@@](O)(O2)[C@@H]3CSC(=O)N3)OC(=O)\\\\\\\\C=C(\\\\\\\\C)/CC\\\\\\\\C=C/1',\n",
       "       'C[C@H]1C\\\\\\\\C=C\\\\\\\\[C@H]2[C@H](O)C(=C)[C@@H](C)[C@H]3[C@@H](Cc4ccccc4)NC(=O)C23C(OC(=O)C)\\\\\\\\C=C\\\\\\\\C(C)(O)C1=O',\n",
       "       'N[Pt](N)(Cl)Cl', 'OC(=O)CCCc1ccc(cc1)N(CCCl)CCCl',\n",
       "       'OCC1OC(CC1O)N2C=C(F)C(=O)NC2=O',\n",
       "       'OCCNCCNc1ccc(NCCNCCO)c2C(=O)c3c(O)ccc(O)c3C(=O)c12',\n",
       "       '[O-][N+](=O)c1ccc(cc1)c2nc(c3ccc(F)cc3)c([nH]2)c4ccncc4',\n",
       "       '[O-][N+](=O)c1ccc2[nH]c3c(CC(=O)Nc4ccccc34)c2c1'], dtype=object)"
      ]
     },
     "execution_count": 354,
     "metadata": {},
     "output_type": "execute_result"
    }
   ],
   "source": [
    "np.unique(normalized_df.index)"
   ]
  },
  {
   "cell_type": "code",
   "execution_count": 355,
   "id": "0c564e7d",
   "metadata": {},
   "outputs": [],
   "source": [
    "from sklearn.decomposition import PCA\n",
    "import matplotlib.pyplot as plt\n",
    "import seaborn as sns"
   ]
  },
  {
   "cell_type": "code",
   "execution_count": 356,
   "id": "6a41af5f",
   "metadata": {},
   "outputs": [],
   "source": [
    "pca = PCA(n_components=2)\n",
    "pcs = pca.fit_transform(normalized_df.values)"
   ]
  },
  {
   "cell_type": "code",
   "execution_count": 357,
   "id": "2e34f6c8",
   "metadata": {},
   "outputs": [
    {
     "name": "stderr",
     "output_type": "stream",
     "text": [
      "/home/icb/alessandro.palma/miniconda3/envs/imgCPA/lib/python3.9/site-packages/seaborn/_decorators.py:36: FutureWarning: Pass the following variables as keyword args: x, y. From version 0.12, the only valid positional argument will be `data`, and passing other arguments without an explicit keyword will result in an error or misinterpretation.\n",
      "  warnings.warn(\n"
     ]
    },
    {
     "data": {
      "text/plain": [
       "<AxesSubplot:>"
      ]
     },
     "execution_count": 357,
     "metadata": {},
     "output_type": "execute_result"
    },
    {
     "data": {
      "image/png": "[encoded data removed]",
      "text/plain": [
       "<Figure size 432x288 with 1 Axes>"
      ]
     },
     "metadata": {
      "needs_background": "light"
     },
     "output_type": "display_data"
    }
   ],
   "source": [
    "sns.scatterplot(pcs[:,0], pcs[:,1], hue =normalized_df.index, legend=False)"
   ]
  },
  {
   "cell_type": "markdown",
   "id": "bc915a4f",
   "metadata": {},
   "source": [
    "## Try Morgan fingerprints"
   ]
  },
  {
   "cell_type": "code",
   "execution_count": 382,
   "id": "26c58bb6",
   "metadata": {},
   "outputs": [],
   "source": [
    "from rdkit.Chem import AllChem\n",
    "from rdkit.Chem import DataStructs"
   ]
  },
  {
   "cell_type": "code",
   "execution_count": 383,
   "id": "0e33b5cb",
   "metadata": {
    "scrolled": true
   },
   "outputs": [
    {
     "name": "stdout",
     "output_type": "stream",
     "text": [
      "[0 2 0 ... 0 0 0]\n",
      "[0 2 0 ... 0 0 0]\n",
      "[0 0 0 ... 0 0 0]\n",
      "[0 6 0 ... 0 0 0]\n",
      "[0 3 0 ... 0 0 0]\n",
      "[0 1 0 ... 0 0 0]\n",
      "[1 0 0 ... 0 0 0]\n",
      "[0 6 0 ... 0 0 0]\n",
      "[0 0 0 ... 0 0 0]\n",
      "[0 5 0 ... 0 0 0]\n",
      "[0 1 0 ... 0 0 0]\n",
      "[0 0 0 ... 0 0 0]\n",
      "[0 1 0 ... 0 0 0]\n",
      "[0 0 0 ... 0 0 0]\n",
      "[1 1 0 ... 0 0 0]\n",
      "[1 0 0 ... 0 0 0]\n",
      "[0 1 0 ... 0 0 0]\n",
      "[0 0 0 ... 0 0 0]\n",
      "[0 0 0 ... 0 0 0]\n",
      "[0 0 0 ... 0 1 0]\n",
      "[0 0 0 ... 0 0 0]\n",
      "[0 0 0 ... 0 0 0]\n",
      "[0 0 0 ... 0 0 0]\n",
      "[0 0 0 ... 0 0 0]\n",
      "[0 0 0 ... 0 0 0]\n",
      "[0 0 0 ... 0 0 0]\n",
      "[0 0 0 ... 0 0 0]\n",
      "[0 0 0 ... 0 0 0]\n",
      "[0 0 0 ... 0 0 0]\n",
      "[0 0 0 ... 0 0 0]\n",
      "[0 0 0 ... 0 0 0]\n",
      "[0 0 0 ... 0 0 0]\n",
      "[0 0 0 ... 0 0 0]\n",
      "[0 0 0 ... 0 0 0]\n",
      "[0 0 0 ... 0 0 0]\n"
     ]
    }
   ],
   "source": [
    "morgan_fp = []\n",
    "for smile in smiles:\n",
    "    mol = Chem.MolFromSmiles(smile)\n",
    "    fp1 = AllChem.GetHashedMorganFingerprint(mol,2, nBits=1024)\n",
    "    array = np.zeros((1,), dtype=np.int8)\n",
    "    DataStructs.ConvertToNumpyArray(fp1, array)\n",
    "    print(array)\n",
    "    morgan_fp.append(array)"
   ]
  },
  {
   "cell_type": "code",
   "execution_count": 384,
   "id": "d21b5ced",
   "metadata": {},
   "outputs": [
    {
     "name": "stdout",
     "output_type": "stream",
     "text": [
      "['GetLength', 'GetNonzeroElements', 'GetTotalVal', 'ToBinary', 'UpdateFromSequence', '__add__', '__and__', '__class__', '__delattr__', '__dir__', '__eq__', '__format__', '__ge__', '__getattribute__', '__getinitargs__', '__getitem__', '__gt__', '__hash__', '__iadd__', '__idiv__', '__imul__', '__init__', '__init_subclass__', '__isub__', '__le__', '__lt__', '__ne__', '__new__', '__or__', '__reduce__', '__reduce_ex__', '__repr__', '__setattr__', '__setitem__', '__sizeof__', '__str__', '__sub__', '__subclasshook__']\n"
     ]
    }
   ],
   "source": [
    "object_methods = [method_name for method_name in dir(fp1)\n",
    "                  if callable(getattr(fp1, method_name))]\n",
    "print(object_methods)"
   ]
  },
  {
   "cell_type": "code",
   "execution_count": 385,
   "id": "17ab236b",
   "metadata": {},
   "outputs": [
    {
     "name": "stderr",
     "output_type": "stream",
     "text": [
      "/home/icb/alessandro.palma/miniconda3/envs/imgCPA/lib/python3.9/site-packages/seaborn/_decorators.py:36: FutureWarning: Pass the following variables as keyword args: x, y. From version 0.12, the only valid positional argument will be `data`, and passing other arguments without an explicit keyword will result in an error or misinterpretation.\n",
      "  warnings.warn(\n"
     ]
    },
    {
     "data": {
      "text/plain": [
       "<AxesSubplot:>"
      ]
     },
     "execution_count": 385,
     "metadata": {},
     "output_type": "execute_result"
    },
    {
     "data": {
      "image/png": "[encoded data removed]",
      "text/plain": [
       "<Figure size 432x288 with 1 Axes>"
      ]
     },
     "metadata": {
      "needs_background": "light"
     },
     "output_type": "display_data"
    }
   ],
   "source": [
    "morgan_fp_array = np.array(morgan_fp) \n",
    "pca = PCA(n_components=2)\n",
    "pcs = pca.fit_transform(morgan_fp)\n",
    "sns.scatterplot(pcs[:,0], pcs[:,1], hue =normalized_df.index, legend=False)"
   ]
  },
  {
   "cell_type": "code",
   "execution_count": 387,
   "id": "0046d0c8",
   "metadata": {},
   "outputs": [],
   "source": [
    "morgan_fp_df = pd.DataFrame(morgan_fp_array)"
   ]
  },
  {
   "cell_type": "code",
   "execution_count": 388,
   "id": "732894ab",
   "metadata": {},
   "outputs": [],
   "source": [
    "morgan_fp_df.index = smiles"
   ]
  },
  {
   "cell_type": "code",
   "execution_count": 389,
   "id": "739f4406",
   "metadata": {
    "scrolled": true
   },
   "outputs": [
    {
     "data": {
      "text/plain": [
       "<bound method NDFrame.to_csv of                                                     0     1     2     3     \\\n",
       "CC(=O)O[C@@]12CO[C@@H]1C[C@H](O)[C@]3(C)[C@@H]2...     0     2     0     0   \n",
       "CC(=O)O[C@H]1C(=O)[C@]2(C)[C@@H](O)C[C@H]3OC[C@...     0     2     0     0   \n",
       "CC(C)(C)n1nc(c2ccc(Cl)cc2)c3c(N)ncnc13                 0     0     0     0   \n",
       "CC(C)C[C@H](NC(=O)[C@H](CC(C)C)NC(=O)[C@H](CC(C...     0     6     0     0   \n",
       "CC(C)[C@H](O)C1(NC(=O)[C@H](C)[C@@H]1O)C(=O)SC[...     0     3     0     0   \n",
       "CC1CC(C)C(=O)C(C1)C(O)CC2CC(=O)NC(=O)C2                0     1     0     0   \n",
       "CCC(C)(C)C(=O)O[C@H]1C[C@@H](C)C=C2C=C[C@H](C)[...     1     0     0     0   \n",
       "CCC(C)C(NC(=O)OCc1ccccc1)C(=O)NC(CCC(=O)OC(C)(C...     0     6     0     0   \n",
       "CCC1CN2CCc3cc(OC)c(OC)cc3C2CC1CC4NCCc5cc(OC)c(O...     0     0     0     2   \n",
       "CCCCC(NC(=O)[C@H](CC(C)C)NC(=O)[C@H](CC(C)C)NC(...     0     5     0     0   \n",
       "CCC\\\\C=C\\\\C=C\\\\C(=O)O[C@H]1\\\\C(=C\\\\C(=O)OC)\\\\C[...     0     1     0     0   \n",
       "CCOc1cc(OC[C@H]2CCCN2)c3c(Nc4cnn(CC(=O)Nc5cccc(...     0     0     0     0   \n",
       "CC[C@@H](N(CCCN)C(=O)c1ccc(C)cc1)C2=Nc3ccsc3C(=...     0     1     0     0   \n",
       "CC[C@@]1(O)C(=O)OCC2=C1C=C3N(Cc4cc5ccccc5nc34)C2=O     0     0     0     0   \n",
       "CC[C@H](C)C(=O)O[C@H]1C[C@@H](C)C=C2C=C[C@H](C)...     1     1     0     0   \n",
       "CC[C@]1(O)C[C@H]2CN(CCc3c([nH]c4ccccc34)[C@@](C...     1     0     0     0   \n",
       "CN(Cc1cnc2nc(N)nc(N)c2n1)c3ccc(cc3)C(=O)N[C@@H]...     0     1     0     0   \n",
       "CNC1CCc2cc(OC)c(OC)c(OC)c2C3=CC=C(OC)C(=O)C=C13        0     0     0     1   \n",
       "COC(=O)Nc1nc2cc(ccc2[nH]1)C(=O)c3cccs3                 0     0     0     0   \n",
       "COC12C3NC3CN1C4=C(C2COC(=O)N)C(=O)C(=C(C)C4=O)N        0     0     0     0   \n",
       "COC1=CC=C2C(=CC1=O)[C@H](CCc3cc(OC)c(OC)c(OC)c2...     0     0     0     1   \n",
       "COc1cc(OC[C@H]2CCCN2)c3c(Nc4cnn(CC(=O)Nc5cccc(F...     0     0     0     0   \n",
       "COc1cc(cc(OC)c1O)[C@H]2[C@@H]3C(COC3=O)[C@H](O[...     0     0     0     2   \n",
       "COc1ccc(C[C@H]2NC[C@H](O)[C@H]2OC(=O)C)cc1             0     0     0     0   \n",
       "CS(=O)C                                                0     0     0     0   \n",
       "C[C@@H]1CCC[C@@H](O)\\\\C=C\\\\C(=O)O[C@]23[C@@H](\\...     0     0     0     1   \n",
       "C[C@H]1CCC[C@@]2(C)O[C@H]2C[C@H](OC(=O)C[C@H](O...     0     0     0     0   \n",
       "C[C@H]1CC[C@@H]2C[C@H](C[C@@](O)(O2)[C@@H]3CSC(...     0     0     0     0   \n",
       "C[C@H]1C\\\\C=C\\\\[C@H]2[C@H](O)C(=C)[C@@H](C)[C@H...     0     0     0     0   \n",
       "N[Pt](N)(Cl)Cl                                         0     0     0     0   \n",
       "OC(=O)CCCc1ccc(cc1)N(CCCl)CCCl                         0     0     0     0   \n",
       "OCC1OC(CC1O)N2C=C(F)C(=O)NC2=O                         0     0     0     0   \n",
       "OCCNCCNc1ccc(NCCNCCO)c2C(=O)c3c(O)ccc(O)c3C(=O)c12     0     0     0     0   \n",
       "[O-][N+](=O)c1ccc(cc1)c2nc(c3ccc(F)cc3)c([nH]2)...     0     0     0     0   \n",
       "[O-][N+](=O)c1ccc2[nH]c3c(CC(=O)Nc4ccccc34)c2c1        0     0     0     0   \n",
       "\n",
       "                                                    4     5     6     7     \\\n",
       "CC(=O)O[C@@]12CO[C@@H]1C[C@H](O)[C@]3(C)[C@@H]2...     0     0     0     0   \n",
       "CC(=O)O[C@H]1C(=O)[C@]2(C)[C@@H](O)C[C@H]3OC[C@...     0     0     0     0   \n",
       "CC(C)(C)n1nc(c2ccc(Cl)cc2)c3c(N)ncnc13                 0     0     0     0   \n",
       "CC(C)C[C@H](NC(=O)[C@H](CC(C)C)NC(=O)[C@H](CC(C...     0     0     0     0   \n",
       "CC(C)[C@H](O)C1(NC(=O)[C@H](C)[C@@H]1O)C(=O)SC[...     0     0     0     0   \n",
       "CC1CC(C)C(=O)C(C1)C(O)CC2CC(=O)NC(=O)C2                0     0     0     0   \n",
       "CCC(C)(C)C(=O)O[C@H]1C[C@@H](C)C=C2C=C[C@H](C)[...     0     1     0     0   \n",
       "CCC(C)C(NC(=O)OCc1ccccc1)C(=O)NC(CCC(=O)OC(C)(C...     0     0     0     0   \n",
       "CCC1CN2CCc3cc(OC)c(OC)cc3C2CC1CC4NCCc5cc(OC)c(O...     0     0     0     0   \n",
       "CCCCC(NC(=O)[C@H](CC(C)C)NC(=O)[C@H](CC(C)C)NC(...     0     0     0     0   \n",
       "CCC\\\\C=C\\\\C=C\\\\C(=O)O[C@H]1\\\\C(=C\\\\C(=O)OC)\\\\C[...     0     1     0     0   \n",
       "CCOc1cc(OC[C@H]2CCCN2)c3c(Nc4cnn(CC(=O)Nc5cccc(...     1     0     0     0   \n",
       "CC[C@@H](N(CCCN)C(=O)c1ccc(C)cc1)C2=Nc3ccsc3C(=...     0     0     0     0   \n",
       "CC[C@@]1(O)C(=O)OCC2=C1C=C3N(Cc4cc5ccccc5nc34)C2=O     0     0     0     0   \n",
       "CC[C@H](C)C(=O)O[C@H]1C[C@@H](C)C=C2C=C[C@H](C)...     0     0     0     0   \n",
       "CC[C@]1(O)C[C@H]2CN(CCc3c([nH]c4ccccc34)[C@@](C...     0     0     0     0   \n",
       "CN(Cc1cnc2nc(N)nc(N)c2n1)c3ccc(cc3)C(=O)N[C@@H]...     0     0     0     0   \n",
       "CNC1CCc2cc(OC)c(OC)c(OC)c2C3=CC=C(OC)C(=O)C=C13        0     0     0     0   \n",
       "COC(=O)Nc1nc2cc(ccc2[nH]1)C(=O)c3cccs3                 0     0     0     0   \n",
       "COC12C3NC3CN1C4=C(C2COC(=O)N)C(=O)C(=C(C)C4=O)N        0     0     0     0   \n",
       "COC1=CC=C2C(=CC1=O)[C@H](CCc3cc(OC)c(OC)c(OC)c2...     0     0     0     0   \n",
       "COc1cc(OC[C@H]2CCCN2)c3c(Nc4cnn(CC(=O)Nc5cccc(F...     1     0     0     0   \n",
       "COc1cc(cc(OC)c1O)[C@H]2[C@@H]3C(COC3=O)[C@H](O[...     0     0     0     1   \n",
       "COc1ccc(C[C@H]2NC[C@H](O)[C@H]2OC(=O)C)cc1             0     0     0     0   \n",
       "CS(=O)C                                                0     0     0     0   \n",
       "C[C@@H]1CCC[C@@H](O)\\\\C=C\\\\C(=O)O[C@]23[C@@H](\\...     1     0     0     0   \n",
       "C[C@H]1CCC[C@@]2(C)O[C@H]2C[C@H](OC(=O)C[C@H](O...     1     0     0     0   \n",
       "C[C@H]1CC[C@@H]2C[C@H](C[C@@](O)(O2)[C@@H]3CSC(...     0     0     0     0   \n",
       "C[C@H]1C\\\\C=C\\\\[C@H]2[C@H](O)C(=C)[C@@H](C)[C@H...     0     0     0     0   \n",
       "N[Pt](N)(Cl)Cl                                         0     0     0     0   \n",
       "OC(=O)CCCc1ccc(cc1)N(CCCl)CCCl                         2     0     0     0   \n",
       "OCC1OC(CC1O)N2C=C(F)C(=O)NC2=O                         1     0     0     0   \n",
       "OCCNCCNc1ccc(NCCNCCO)c2C(=O)c3c(O)ccc(O)c3C(=O)c12     0     0     0     0   \n",
       "[O-][N+](=O)c1ccc(cc1)c2nc(c3ccc(F)cc3)c([nH]2)...     0     0     0     0   \n",
       "[O-][N+](=O)c1ccc2[nH]c3c(CC(=O)Nc4ccccc34)c2c1        0     0     0     0   \n",
       "\n",
       "                                                    8     9     ...  1014  \\\n",
       "CC(=O)O[C@@]12CO[C@@H]1C[C@H](O)[C@]3(C)[C@@H]2...     0     0  ...     0   \n",
       "CC(=O)O[C@H]1C(=O)[C@]2(C)[C@@H](O)C[C@H]3OC[C@...     0     0  ...     0   \n",
       "CC(C)(C)n1nc(c2ccc(Cl)cc2)c3c(N)ncnc13                 0     0  ...     0   \n",
       "CC(C)C[C@H](NC(=O)[C@H](CC(C)C)NC(=O)[C@H](CC(C...     0     0  ...     0   \n",
       "CC(C)[C@H](O)C1(NC(=O)[C@H](C)[C@@H]1O)C(=O)SC[...     0     0  ...     0   \n",
       "CC1CC(C)C(=O)C(C1)C(O)CC2CC(=O)NC(=O)C2                0     0  ...     0   \n",
       "CCC(C)(C)C(=O)O[C@H]1C[C@@H](C)C=C2C=C[C@H](C)[...     0     0  ...     0   \n",
       "CCC(C)C(NC(=O)OCc1ccccc1)C(=O)NC(CCC(=O)OC(C)(C...     0     0  ...     0   \n",
       "CCC1CN2CCc3cc(OC)c(OC)cc3C2CC1CC4NCCc5cc(OC)c(O...     0     0  ...     0   \n",
       "CCCCC(NC(=O)[C@H](CC(C)C)NC(=O)[C@H](CC(C)C)NC(...     0     0  ...     0   \n",
       "CCC\\\\C=C\\\\C=C\\\\C(=O)O[C@H]1\\\\C(=C\\\\C(=O)OC)\\\\C[...     0     0  ...     0   \n",
       "CCOc1cc(OC[C@H]2CCCN2)c3c(Nc4cnn(CC(=O)Nc5cccc(...     1     0  ...     0   \n",
       "CC[C@@H](N(CCCN)C(=O)c1ccc(C)cc1)C2=Nc3ccsc3C(=...     0     0  ...     0   \n",
       "CC[C@@]1(O)C(=O)OCC2=C1C=C3N(Cc4cc5ccccc5nc34)C2=O     0     0  ...     0   \n",
       "CC[C@H](C)C(=O)O[C@H]1C[C@@H](C)C=C2C=C[C@H](C)...     0     0  ...     0   \n",
       "CC[C@]1(O)C[C@H]2CN(CCc3c([nH]c4ccccc34)[C@@](C...     1     0  ...     0   \n",
       "CN(Cc1cnc2nc(N)nc(N)c2n1)c3ccc(cc3)C(=O)N[C@@H]...     0     0  ...     0   \n",
       "CNC1CCc2cc(OC)c(OC)c(OC)c2C3=CC=C(OC)C(=O)C=C13        0     0  ...     0   \n",
       "COC(=O)Nc1nc2cc(ccc2[nH]1)C(=O)c3cccs3                 0     1  ...     0   \n",
       "COC12C3NC3CN1C4=C(C2COC(=O)N)C(=O)C(=C(C)C4=O)N        0     0  ...     0   \n",
       "COC1=CC=C2C(=CC1=O)[C@H](CCc3cc(OC)c(OC)c(OC)c2...     0     0  ...     0   \n",
       "COc1cc(OC[C@H]2CCCN2)c3c(Nc4cnn(CC(=O)Nc5cccc(F...     1     0  ...     0   \n",
       "COc1cc(cc(OC)c1O)[C@H]2[C@@H]3C(COC3=O)[C@H](O[...     0     0  ...     0   \n",
       "COc1ccc(C[C@H]2NC[C@H](O)[C@H]2OC(=O)C)cc1             0     0  ...     0   \n",
       "CS(=O)C                                                0     0  ...     0   \n",
       "C[C@@H]1CCC[C@@H](O)\\\\C=C\\\\C(=O)O[C@]23[C@@H](\\...     0     0  ...     0   \n",
       "C[C@H]1CCC[C@@]2(C)O[C@H]2C[C@H](OC(=O)C[C@H](O...     0     0  ...     0   \n",
       "C[C@H]1CC[C@@H]2C[C@H](C[C@@](O)(O2)[C@@H]3CSC(...     0     0  ...     0   \n",
       "C[C@H]1C\\\\C=C\\\\[C@H]2[C@H](O)C(=C)[C@@H](C)[C@H...     0     0  ...     0   \n",
       "N[Pt](N)(Cl)Cl                                         0     0  ...     0   \n",
       "OC(=O)CCCc1ccc(cc1)N(CCCl)CCCl                         0     0  ...     0   \n",
       "OCC1OC(CC1O)N2C=C(F)C(=O)NC2=O                         0     0  ...     0   \n",
       "OCCNCCNc1ccc(NCCNCCO)c2C(=O)c3c(O)ccc(O)c3C(=O)c12     0     0  ...     0   \n",
       "[O-][N+](=O)c1ccc(cc1)c2nc(c3ccc(F)cc3)c([nH]2)...     0     0  ...     0   \n",
       "[O-][N+](=O)c1ccc2[nH]c3c(CC(=O)Nc4ccccc34)c2c1        0     0  ...     0   \n",
       "\n",
       "                                                    1015  1016  1017  1018  \\\n",
       "CC(=O)O[C@@]12CO[C@@H]1C[C@H](O)[C@]3(C)[C@@H]2...     0     0     1     0   \n",
       "CC(=O)O[C@H]1C(=O)[C@]2(C)[C@@H](O)C[C@H]3OC[C@...     0     0     2     0   \n",
       "CC(C)(C)n1nc(c2ccc(Cl)cc2)c3c(N)ncnc13                 0     0     0     0   \n",
       "CC(C)C[C@H](NC(=O)[C@H](CC(C)C)NC(=O)[C@H](CC(C...     0     0     0     1   \n",
       "CC(C)[C@H](O)C1(NC(=O)[C@H](C)[C@@H]1O)C(=O)SC[...     0     0     1     0   \n",
       "CC1CC(C)C(=O)C(C1)C(O)CC2CC(=O)NC(=O)C2                0     0     0     0   \n",
       "CCC(C)(C)C(=O)O[C@H]1C[C@@H](C)C=C2C=C[C@H](C)[...     1     0     0     0   \n",
       "CCC(C)C(NC(=O)OCc1ccccc1)C(=O)NC(CCC(=O)OC(C)(C...     0     0     0     1   \n",
       "CCC1CN2CCc3cc(OC)c(OC)cc3C2CC1CC4NCCc5cc(OC)c(O...     0     0     0     0   \n",
       "CCCCC(NC(=O)[C@H](CC(C)C)NC(=O)[C@H](CC(C)C)NC(...     0     0     1     0   \n",
       "CCC\\\\C=C\\\\C=C\\\\C(=O)O[C@H]1\\\\C(=C\\\\C(=O)OC)\\\\C[...     0     0     1     0   \n",
       "CCOc1cc(OC[C@H]2CCCN2)c3c(Nc4cnn(CC(=O)Nc5cccc(...     0     0     0     0   \n",
       "CC[C@@H](N(CCCN)C(=O)c1ccc(C)cc1)C2=Nc3ccsc3C(=...     0     0     0     0   \n",
       "CC[C@@]1(O)C(=O)OCC2=C1C=C3N(Cc4cc5ccccc5nc34)C2=O     0     0     0     0   \n",
       "CC[C@H](C)C(=O)O[C@H]1C[C@@H](C)C=C2C=C[C@H](C)...     1     0     0     0   \n",
       "CC[C@]1(O)C[C@H]2CN(CCc3c([nH]c4ccccc34)[C@@](C...     0     0     1     0   \n",
       "CN(Cc1cnc2nc(N)nc(N)c2n1)c3ccc(cc3)C(=O)N[C@@H]...     0     0     0     0   \n",
       "CNC1CCc2cc(OC)c(OC)c(OC)c2C3=CC=C(OC)C(=O)C=C13        0     0     0     0   \n",
       "COC(=O)Nc1nc2cc(ccc2[nH]1)C(=O)c3cccs3                 0     0     0     0   \n",
       "COC12C3NC3CN1C4=C(C2COC(=O)N)C(=O)C(=C(C)C4=O)N        0     0     0     0   \n",
       "COC1=CC=C2C(=CC1=O)[C@H](CCc3cc(OC)c(OC)c(OC)c2...     0     0     1     0   \n",
       "COc1cc(OC[C@H]2CCCN2)c3c(Nc4cnn(CC(=O)Nc5cccc(F...     0     0     0     0   \n",
       "COc1cc(cc(OC)c1O)[C@H]2[C@@H]3C(COC3=O)[C@H](O[...     0     0     0     0   \n",
       "COc1ccc(C[C@H]2NC[C@H](O)[C@H]2OC(=O)C)cc1             0     0     1     0   \n",
       "CS(=O)C                                                0     0     0     0   \n",
       "C[C@@H]1CCC[C@@H](O)\\\\C=C\\\\C(=O)O[C@]23[C@@H](\\...     0     0     0     0   \n",
       "C[C@H]1CCC[C@@]2(C)O[C@H]2C[C@H](OC(=O)C[C@H](O...     0     0     1     0   \n",
       "C[C@H]1CC[C@@H]2C[C@H](C[C@@](O)(O2)[C@@H]3CSC(...     0     0     0     0   \n",
       "C[C@H]1C\\\\C=C\\\\[C@H]2[C@H](O)C(=C)[C@@H](C)[C@H...     0     0     1     0   \n",
       "N[Pt](N)(Cl)Cl                                         0     0     0     0   \n",
       "OC(=O)CCCc1ccc(cc1)N(CCCl)CCCl                         0     0     0     0   \n",
       "OCC1OC(CC1O)N2C=C(F)C(=O)NC2=O                         0     0     0     0   \n",
       "OCCNCCNc1ccc(NCCNCCO)c2C(=O)c3c(O)ccc(O)c3C(=O)c12     0     0     0     0   \n",
       "[O-][N+](=O)c1ccc(cc1)c2nc(c3ccc(F)cc3)c([nH]2)...     0     0     0     0   \n",
       "[O-][N+](=O)c1ccc2[nH]c3c(CC(=O)Nc4ccccc34)c2c1        0     0     0     0   \n",
       "\n",
       "                                                    1019  1020  1021  1022  \\\n",
       "CC(=O)O[C@@]12CO[C@@H]1C[C@H](O)[C@]3(C)[C@@H]2...     6     0     0     0   \n",
       "CC(=O)O[C@H]1C(=O)[C@]2(C)[C@@H](O)C[C@H]3OC[C@...     6     0     0     0   \n",
       "CC(C)(C)n1nc(c2ccc(Cl)cc2)c3c(N)ncnc13                 0     0     0     0   \n",
       "CC(C)C[C@H](NC(=O)[C@H](CC(C)C)NC(=O)[C@H](CC(C...     0     0     0     0   \n",
       "CC(C)[C@H](O)C1(NC(=O)[C@H](C)[C@@H]1O)C(=O)SC[...     2     0     0     0   \n",
       "CC1CC(C)C(=O)C(C1)C(O)CC2CC(=O)NC(=O)C2                4     0     0     0   \n",
       "CCC(C)(C)C(=O)O[C@H]1C[C@@H](C)C=C2C=C[C@H](C)[...     7     0     0     0   \n",
       "CCC(C)C(NC(=O)OCc1ccccc1)C(=O)NC(CCC(=O)OC(C)(C...     0     0     0     0   \n",
       "CCC1CN2CCc3cc(OC)c(OC)cc3C2CC1CC4NCCc5cc(OC)c(O...     4     0     0     0   \n",
       "CCCCC(NC(=O)[C@H](CC(C)C)NC(=O)[C@H](CC(C)C)NC(...     0     0     0     0   \n",
       "CCC\\\\C=C\\\\C=C\\\\C(=O)O[C@H]1\\\\C(=C\\\\C(=O)OC)\\\\C[...     8     0     0     0   \n",
       "CCOc1cc(OC[C@H]2CCCN2)c3c(Nc4cnn(CC(=O)Nc5cccc(...     1     0     0     0   \n",
       "CC[C@@H](N(CCCN)C(=O)c1ccc(C)cc1)C2=Nc3ccsc3C(=...     0     0     0     0   \n",
       "CC[C@@]1(O)C(=O)OCC2=C1C=C3N(Cc4cc5ccccc5nc34)C2=O     0     0     0     0   \n",
       "CC[C@H](C)C(=O)O[C@H]1C[C@@H](C)C=C2C=C[C@H](C)...     7     0     0     0   \n",
       "CC[C@]1(O)C[C@H]2CN(CCc3c([nH]c4ccccc34)[C@@](C...     4     0     0     0   \n",
       "CN(Cc1cnc2nc(N)nc(N)c2n1)c3ccc(cc3)C(=O)N[C@@H]...     0     0     0     0   \n",
       "CNC1CCc2cc(OC)c(OC)c(OC)c2C3=CC=C(OC)C(=O)C=C13        1     0     0     0   \n",
       "COC(=O)Nc1nc2cc(ccc2[nH]1)C(=O)c3cccs3                 0     0     0     0   \n",
       "COC12C3NC3CN1C4=C(C2COC(=O)N)C(=O)C(=C(C)C4=O)N        3     0     0     1   \n",
       "COC1=CC=C2C(=CC1=O)[C@H](CCc3cc(OC)c(OC)c(OC)c2...     1     0     0     0   \n",
       "COc1cc(OC[C@H]2CCCN2)c3c(Nc4cnn(CC(=O)Nc5cccc(F...     1     0     0     0   \n",
       "COc1cc(cc(OC)c1O)[C@H]2[C@@H]3C(COC3=O)[C@H](O[...    10     0     0     0   \n",
       "COc1ccc(C[C@H]2NC[C@H](O)[C@H]2OC(=O)C)cc1             3     0     0     0   \n",
       "CS(=O)C                                                0     0     0     0   \n",
       "C[C@@H]1CCC[C@@H](O)\\\\C=C\\\\C(=O)O[C@]23[C@@H](\\...     7     0     0     0   \n",
       "C[C@H]1CCC[C@@]2(C)O[C@H]2C[C@H](OC(=O)C[C@H](O...     6     0     0     0   \n",
       "C[C@H]1CC[C@@H]2C[C@H](C[C@@](O)(O2)[C@@H]3CSC(...     4     0     0     0   \n",
       "C[C@H]1C\\\\C=C\\\\[C@H]2[C@H](O)C(=C)[C@@H](C)[C@H...     7     0     0     0   \n",
       "N[Pt](N)(Cl)Cl                                         0     0     0     0   \n",
       "OC(=O)CCCc1ccc(cc1)N(CCCl)CCCl                         0     0     0     0   \n",
       "OCC1OC(CC1O)N2C=C(F)C(=O)NC2=O                         3     0     0     0   \n",
       "OCCNCCNc1ccc(NCCNCCO)c2C(=O)c3c(O)ccc(O)c3C(=O)c12     0     0     0     0   \n",
       "[O-][N+](=O)c1ccc(cc1)c2nc(c3ccc(F)cc3)c([nH]2)...     0     0     0     0   \n",
       "[O-][N+](=O)c1ccc2[nH]c3c(CC(=O)Nc4ccccc34)c2c1        0     0     0     0   \n",
       "\n",
       "                                                    1023  \n",
       "CC(=O)O[C@@]12CO[C@@H]1C[C@H](O)[C@]3(C)[C@@H]2...     0  \n",
       "CC(=O)O[C@H]1C(=O)[C@]2(C)[C@@H](O)C[C@H]3OC[C@...     0  \n",
       "CC(C)(C)n1nc(c2ccc(Cl)cc2)c3c(N)ncnc13                 0  \n",
       "CC(C)C[C@H](NC(=O)[C@H](CC(C)C)NC(=O)[C@H](CC(C...     0  \n",
       "CC(C)[C@H](O)C1(NC(=O)[C@H](C)[C@@H]1O)C(=O)SC[...     0  \n",
       "CC1CC(C)C(=O)C(C1)C(O)CC2CC(=O)NC(=O)C2                0  \n",
       "CCC(C)(C)C(=O)O[C@H]1C[C@@H](C)C=C2C=C[C@H](C)[...     0  \n",
       "CCC(C)C(NC(=O)OCc1ccccc1)C(=O)NC(CCC(=O)OC(C)(C...     0  \n",
       "CCC1CN2CCc3cc(OC)c(OC)cc3C2CC1CC4NCCc5cc(OC)c(O...     0  \n",
       "CCCCC(NC(=O)[C@H](CC(C)C)NC(=O)[C@H](CC(C)C)NC(...     0  \n",
       "CCC\\\\C=C\\\\C=C\\\\C(=O)O[C@H]1\\\\C(=C\\\\C(=O)OC)\\\\C[...     0  \n",
       "CCOc1cc(OC[C@H]2CCCN2)c3c(Nc4cnn(CC(=O)Nc5cccc(...     0  \n",
       "CC[C@@H](N(CCCN)C(=O)c1ccc(C)cc1)C2=Nc3ccsc3C(=...     0  \n",
       "CC[C@@]1(O)C(=O)OCC2=C1C=C3N(Cc4cc5ccccc5nc34)C2=O     0  \n",
       "CC[C@H](C)C(=O)O[C@H]1C[C@@H](C)C=C2C=C[C@H](C)...     0  \n",
       "CC[C@]1(O)C[C@H]2CN(CCc3c([nH]c4ccccc34)[C@@](C...     0  \n",
       "CN(Cc1cnc2nc(N)nc(N)c2n1)c3ccc(cc3)C(=O)N[C@@H]...     0  \n",
       "CNC1CCc2cc(OC)c(OC)c(OC)c2C3=CC=C(OC)C(=O)C=C13        0  \n",
       "COC(=O)Nc1nc2cc(ccc2[nH]1)C(=O)c3cccs3                 0  \n",
       "COC12C3NC3CN1C4=C(C2COC(=O)N)C(=O)C(=C(C)C4=O)N        0  \n",
       "COC1=CC=C2C(=CC1=O)[C@H](CCc3cc(OC)c(OC)c(OC)c2...     0  \n",
       "COc1cc(OC[C@H]2CCCN2)c3c(Nc4cnn(CC(=O)Nc5cccc(F...     0  \n",
       "COc1cc(cc(OC)c1O)[C@H]2[C@@H]3C(COC3=O)[C@H](O[...     0  \n",
       "COc1ccc(C[C@H]2NC[C@H](O)[C@H]2OC(=O)C)cc1             0  \n",
       "CS(=O)C                                                0  \n",
       "C[C@@H]1CCC[C@@H](O)\\\\C=C\\\\C(=O)O[C@]23[C@@H](\\...     0  \n",
       "C[C@H]1CCC[C@@]2(C)O[C@H]2C[C@H](OC(=O)C[C@H](O...     0  \n",
       "C[C@H]1CC[C@@H]2C[C@H](C[C@@](O)(O2)[C@@H]3CSC(...     0  \n",
       "C[C@H]1C\\\\C=C\\\\[C@H]2[C@H](O)C(=C)[C@@H](C)[C@H...     0  \n",
       "N[Pt](N)(Cl)Cl                                         0  \n",
       "OC(=O)CCCc1ccc(cc1)N(CCCl)CCCl                         0  \n",
       "OCC1OC(CC1O)N2C=C(F)C(=O)NC2=O                         0  \n",
       "OCCNCCNc1ccc(NCCNCCO)c2C(=O)c3c(O)ccc(O)c3C(=O)c12     0  \n",
       "[O-][N+](=O)c1ccc(cc1)c2nc(c3ccc(F)cc3)c([nH]2)...     0  \n",
       "[O-][N+](=O)c1ccc2[nH]c3c(CC(=O)Nc4ccccc34)c2c1        0  \n",
       "\n",
       "[35 rows x 1024 columns]>"
      ]
     },
     "execution_count": 389,
     "metadata": {},
     "output_type": "execute_result"
    }
   ],
   "source": [
    "morgan_fp_df.to_csv"
   ]
  },
  {
   "cell_type": "code",
   "execution_count": 390,
   "id": "3c469c92",
   "metadata": {},
   "outputs": [],
   "source": [
    "model_name_morgan = 'MorganFP'\n",
    "fname_morgan = f'{model_name_morgan}_embedding_{dataset_name}.csv'\n",
    "embedding_dir = '/lustre/groups/ml01/workspace/alessandro.palma/imCPA/fluorescence/metadata_processed/embeddings'"
   ]
  },
  {
   "cell_type": "code",
   "execution_count": 391,
   "id": "1569fc46",
   "metadata": {},
   "outputs": [],
   "source": [
    "morgan_fp_df.to_csv(os.path.join(embedding_dir, fname_morgan))"
   ]
  }
 ],
 "metadata": {
  "kernelspec": {
   "display_name": "Python 3",
   "language": "python",
   "name": "python3"
  },
  "language_info": {
   "codemirror_mode": {
    "name": "ipython",
    "version": 3
   },
   "file_extension": ".py",
   "mimetype": "text/x-python",
   "name": "python",
   "nbconvert_exporter": "python",
   "pygments_lexer": "ipython3",
   "version": "3.9.7"
  }
 },
 "nbformat": 4,
 "nbformat_minor": 5
}
