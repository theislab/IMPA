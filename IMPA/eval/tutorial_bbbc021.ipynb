{
 "cells": [
  {
   "cell_type": "code",
   "execution_count": null,
   "metadata": {},
   "outputs": [],
   "source": []
  }
 ],
 "metadata": {
  "kernelspec": {
   "display_name": "scVelo-ml",
   "language": "python",
   "name": "python3"
  },
  "language_info": {
   "name": "python",
   "version": "3.9.16 (main, Jan 11 2023, 16:05:54) \n[GCC 11.2.0]"
  },
  "orig_nbformat": 4,
  "vscode": {
   "interpreter": {
    "hash": "1b7806cfa1e4eb5e724a3cbec8fcabd003bf5b66df0da3b657c471cbb7fafc73"
   }
  }
 },
 "nbformat": 4,
 "nbformat_minor": 2
}
