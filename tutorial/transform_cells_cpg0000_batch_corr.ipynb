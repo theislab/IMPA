{
 "cells": [
  {
   "cell_type": "markdown",
   "id": "b1b39a58-499e-4042-8ba5-9e312b5b874a",
   "metadata": {},
   "source": [
    "# Use IMPA to correct cpg0000"
   ]
  },
  {
   "cell_type": "markdown",
   "id": "91781fa4-cdf5-4e52-b42b-9f25178b3f8c",
   "metadata": {},
   "source": [
    "Import libraries "
   ]
  },
  {
   "cell_type": "code",
   "execution_count": 27,
   "id": "1ddc6713-160b-4b15-876a-c544878e4cca",
   "metadata": {},
   "outputs": [],
   "source": [
    "# Standard library imports\n",
    "import os\n",
    "from pathlib import Path\n",
    "\n",
    "# Third-party library imports\n",
    "from tutorial_utils import t2np\n",
    "import matplotlib.pyplot as plt\n",
    "import numpy as np\n",
    "import pandas as pd\n",
    "import seaborn as sns\n",
    "import yaml \n",
    "import torch\n",
    "from omegaconf import OmegaConf\n",
    "from tqdm import tqdm\n",
    "\n",
    "# Local application/library imports\n",
    "from IMPA.dataset.data_loader import CellDataLoader\n",
    "from IMPA.solver import IMPAmodule"
   ]
  },
  {
   "cell_type": "markdown",
   "id": "ecba84f8-aa84-43ed-996b-8f3313eec086",
   "metadata": {},
   "source": [
    "Read the configuration of interest "
   ]
  },
  {
   "cell_type": "code",
   "execution_count": 28,
   "id": "47e571c7-f741-411e-950a-56f12cfd8359",
   "metadata": {},
   "outputs": [],
   "source": [
    "path_to_config = \"../config_hydra/config/cpg0000_batch.yaml\""
   ]
  },
  {
   "cell_type": "code",
   "execution_count": 29,
   "id": "508cdabe-2d3b-4bb4-a187-65d156b40a3b",
   "metadata": {},
   "outputs": [
    {
     "name": "stdout",
     "output_type": "stream",
     "text": [
      "{'task_name': 'cpg0000_batch', 'img_size': 96, 'latent_dim': 100, 'hidden_dim': 512, 'style_dim': 64, 'stochastic': True, 'z_dimension': 10, 'dim_in': 64, 'lambda_reg': 1, 'lambda_cyc': 1, 'lambda_sty': 1, 'lambda_ds': 1, 'total_epochs': 150, 'ds_iter': 100000, 'resume_iter': 0, 'batch_size': 32, 'val_batch_size': 20, 'lr': 0.0001, 'f_lr': 0.0001, 'beta1': 0, 'beta2': 0.99, 'weight_decay': 0.0001, 'num_outs_per_domain': 10, 'single_style': True, 'ood_set': None, 'mol_list': None, 'balanced': False, 'trainable_emb': True, 'dataset_name': 'cpg0000', 'n_channels': 5, 'num_workers': 6, 'seed': 42, 'multimodal': False, 'batch_correction': True, 'batch_key': 'PLATE', 'use_condition_embeddings': False, 'add_controls': False, 'condition_embedding_dimension': None, 'n_mod': 1, 'modality_list': ['Compound'], 'image_path': 'project_folder/datasets/cpg0000/cpg0000_u2os_normalized_segmented_large', 'data_index_path': 'project_folder/datasets/cpg0000/metadata/metadata_large.csv', 'embedding_path': {'Compound': 'embeddings/cpg0000/cpd_embeddings.csv', 'CRISPR': 'embeddings/cpg0000/crispr_embeddings.csv', 'ORF': 'embeddings/cpg0000/orf_embeddings.csv'}, 'experiment_directory': 'project_folder/experiments/', 'sample_dir': 'sample', 'checkpoint_dir': 'checkpoint', 'basal_vs_real_folder': 'basal_vs_real', 'naming_key': 'dataset_name', 'embedding_folder': 'embeddings', 'resume_dir': '', 'augment_train': True, 'normalize': True, 'print_every': 10, 'sample_every': 1000, 'save_every': 500, 'eval_every': 500, 'encode_rdkit': False, 'num_layers_mapping_net': 1, 'filename': 'epoch_{epoch:04d}', 'monitor': 'fid_transformations', 'mode': 'min', 'save_last': True, 'offline': False, 'project': 'cpg0000_batch', 'log_model': False, 'accelerator': 'gpu', 'log_every_n_steps': 10}\n"
     ]
    }
   ],
   "source": [
    "# Reading the YAML file\n",
    "with open(path_to_config, 'r') as file:\n",
    "    config = yaml.safe_load(file)  # Use safe_load to avoid executing arbitrary code\n",
    "\n",
    "# Access the loaded data\n",
    "print(config)"
   ]
  },
  {
   "cell_type": "code",
   "execution_count": 30,
   "id": "eadf3b6a-bd49-4e86-83f8-af01d44f2033",
   "metadata": {},
   "outputs": [],
   "source": [
    "config[\"image_path\"] = \"../\" + config[\"image_path\"]\n",
    "config[\"data_index_path\"] = \"../\" + config[\"data_index_path\"]"
   ]
  },
  {
   "cell_type": "markdown",
   "id": "1d6844aa-3658-4dcc-badc-37bbad4a41f8",
   "metadata": {},
   "source": [
    "Create an omega config dict"
   ]
  },
  {
   "cell_type": "code",
   "execution_count": 31,
   "id": "fe3c02df-5def-4e84-abd6-77468e1a7c4b",
   "metadata": {},
   "outputs": [],
   "source": [
    "args = OmegaConf.create(config)"
   ]
  },
  {
   "cell_type": "markdown",
   "id": "805106c6-0a80-4194-bda5-8ab845fc4138",
   "metadata": {},
   "source": [
    "#### Initialize data loader"
   ]
  },
  {
   "cell_type": "code",
   "execution_count": 32,
   "id": "36f167a5-94b7-49ff-9d8a-bd69ab5af806",
   "metadata": {},
   "outputs": [
    {
     "name": "stdout",
     "output_type": "stream",
     "text": [
      "['transform_cells_bbbc021_six_drugs.ipynb', 'transform_cells_cpg0000_batch_corr.ipynb', 'transform_cells_rxrx1_batch_corr.ipynb', '__pycache__', 'transform_cells_bbbc021_all_unseen_prediction.ipynb', '.ipynb_checkpoints', 'transform_cells_cpg0000_pert_prediction.ipynb', 'tutorial_utils.py']\n"
     ]
    }
   ],
   "source": [
    "dataloader = CellDataLoader(args)"
   ]
  },
  {
   "cell_type": "markdown",
   "id": "15234d69-aca7-4b74-a8d5-8c608faf9633",
   "metadata": {},
   "source": [
    "## Initialize model "
   ]
  },
  {
   "cell_type": "code",
   "execution_count": 33,
   "id": "6c958df9-77b0-4b28-95c1-6037653ac720",
   "metadata": {},
   "outputs": [],
   "source": [
    "checkpoint_dir = \"/home/icb/alessandro.palma/environment/IMPA/IMPA/project_folder/experiments/20241204_655911b0-0791-4614-9bd9-3d13f57a79e8_cpg0000_batch\""
   ]
  },
  {
   "cell_type": "code",
   "execution_count": 78,
   "id": "718213ac-85c2-4fbe-9b13-cb57b6e3f994",
   "metadata": {
    "scrolled": true
   },
   "outputs": [
    {
     "name": "stdout",
     "output_type": "stream",
     "text": [
      "Number of parameters in generator: 24319877\n",
      "Number of parameters in style_encoder: 14330624\n",
      "Number of parameters in discriminator: 14302922\n",
      "Number of parameters in mapping_network: 7104\n",
      "Initializing embedding_matrix...\n",
      "Initializing generator...\n",
      "Initializing style_encoder...\n",
      "Initializing discriminator...\n",
      "Initializing mapping_network...\n",
      "IMPAmodule(\n",
      "  (embedding_matrix): Embedding(10, 100)\n",
      "  (generator): DataParallel(\n",
      "    (module): Generator(\n",
      "      (from_rgb): Conv2d(5, 64, kernel_size=(3, 3), stride=(1, 1), padding=(1, 1))\n",
      "      (encode): ModuleList(\n",
      "        (0): ResBlk(\n",
      "          (actv): LeakyReLU(negative_slope=0.2)\n",
      "          (conv1): Conv2d(64, 64, kernel_size=(3, 3), stride=(1, 1), padding=(1, 1))\n",
      "          (conv2): Conv2d(64, 128, kernel_size=(3, 3), stride=(1, 1), padding=(1, 1))\n",
      "          (norm1): InstanceNorm2d(64, eps=1e-05, momentum=0.1, affine=True, track_running_stats=False)\n",
      "          (norm2): InstanceNorm2d(64, eps=1e-05, momentum=0.1, affine=True, track_running_stats=False)\n",
      "          (conv1x1): Conv2d(64, 128, kernel_size=(1, 1), stride=(1, 1), bias=False)\n",
      "        )\n",
      "        (1): ResBlk(\n",
      "          (actv): LeakyReLU(negative_slope=0.2)\n",
      "          (conv1): Conv2d(128, 128, kernel_size=(3, 3), stride=(1, 1), padding=(1, 1))\n",
      "          (conv2): Conv2d(128, 256, kernel_size=(3, 3), stride=(1, 1), padding=(1, 1))\n",
      "          (norm1): InstanceNorm2d(128, eps=1e-05, momentum=0.1, affine=True, track_running_stats=False)\n",
      "          (norm2): InstanceNorm2d(128, eps=1e-05, momentum=0.1, affine=True, track_running_stats=False)\n",
      "          (conv1x1): Conv2d(128, 256, kernel_size=(1, 1), stride=(1, 1), bias=False)\n",
      "        )\n",
      "        (2): ResBlk(\n",
      "          (actv): LeakyReLU(negative_slope=0.2)\n",
      "          (conv1): Conv2d(256, 256, kernel_size=(3, 3), stride=(1, 1), padding=(1, 1))\n",
      "          (conv2): Conv2d(256, 512, kernel_size=(3, 3), stride=(1, 1), padding=(1, 1))\n",
      "          (norm1): InstanceNorm2d(256, eps=1e-05, momentum=0.1, affine=True, track_running_stats=False)\n",
      "          (norm2): InstanceNorm2d(256, eps=1e-05, momentum=0.1, affine=True, track_running_stats=False)\n",
      "          (conv1x1): Conv2d(256, 512, kernel_size=(1, 1), stride=(1, 1), bias=False)\n",
      "        )\n",
      "        (3-4): 2 x ResBlk(\n",
      "          (actv): LeakyReLU(negative_slope=0.2)\n",
      "          (conv1): Conv2d(512, 512, kernel_size=(3, 3), stride=(1, 1), padding=(1, 1))\n",
      "          (conv2): Conv2d(512, 512, kernel_size=(3, 3), stride=(1, 1), padding=(1, 1))\n",
      "          (norm1): InstanceNorm2d(512, eps=1e-05, momentum=0.1, affine=True, track_running_stats=False)\n",
      "          (norm2): InstanceNorm2d(512, eps=1e-05, momentum=0.1, affine=True, track_running_stats=False)\n",
      "        )\n",
      "      )\n",
      "      (decode): ModuleList(\n",
      "        (0-1): 2 x AdainResBlk(\n",
      "          (actv): LeakyReLU(negative_slope=0.2)\n",
      "          (conv1): Conv2d(512, 512, kernel_size=(3, 3), stride=(1, 1), padding=(1, 1))\n",
      "          (conv2): Conv2d(512, 512, kernel_size=(3, 3), stride=(1, 1), padding=(1, 1))\n",
      "          (norm1): AdaIN(\n",
      "            (norm): InstanceNorm2d(512, eps=1e-05, momentum=0.1, affine=False, track_running_stats=False)\n",
      "            (fc): Linear(in_features=64, out_features=1024, bias=True)\n",
      "          )\n",
      "          (norm2): AdaIN(\n",
      "            (norm): InstanceNorm2d(512, eps=1e-05, momentum=0.1, affine=False, track_running_stats=False)\n",
      "            (fc): Linear(in_features=64, out_features=1024, bias=True)\n",
      "          )\n",
      "        )\n",
      "        (2): AdainResBlk(\n",
      "          (actv): LeakyReLU(negative_slope=0.2)\n",
      "          (conv1): Conv2d(512, 256, kernel_size=(3, 3), stride=(1, 1), padding=(1, 1))\n",
      "          (conv2): Conv2d(256, 256, kernel_size=(3, 3), stride=(1, 1), padding=(1, 1))\n",
      "          (norm1): AdaIN(\n",
      "            (norm): InstanceNorm2d(512, eps=1e-05, momentum=0.1, affine=False, track_running_stats=False)\n",
      "            (fc): Linear(in_features=64, out_features=1024, bias=True)\n",
      "          )\n",
      "          (norm2): AdaIN(\n",
      "            (norm): InstanceNorm2d(256, eps=1e-05, momentum=0.1, affine=False, track_running_stats=False)\n",
      "            (fc): Linear(in_features=64, out_features=512, bias=True)\n",
      "          )\n",
      "          (conv1x1): Conv2d(512, 256, kernel_size=(1, 1), stride=(1, 1), bias=False)\n",
      "        )\n",
      "        (3): AdainResBlk(\n",
      "          (actv): LeakyReLU(negative_slope=0.2)\n",
      "          (conv1): Conv2d(256, 128, kernel_size=(3, 3), stride=(1, 1), padding=(1, 1))\n",
      "          (conv2): Conv2d(128, 128, kernel_size=(3, 3), stride=(1, 1), padding=(1, 1))\n",
      "          (norm1): AdaIN(\n",
      "            (norm): InstanceNorm2d(256, eps=1e-05, momentum=0.1, affine=False, track_running_stats=False)\n",
      "            (fc): Linear(in_features=64, out_features=512, bias=True)\n",
      "          )\n",
      "          (norm2): AdaIN(\n",
      "            (norm): InstanceNorm2d(128, eps=1e-05, momentum=0.1, affine=False, track_running_stats=False)\n",
      "            (fc): Linear(in_features=64, out_features=256, bias=True)\n",
      "          )\n",
      "          (conv1x1): Conv2d(256, 128, kernel_size=(1, 1), stride=(1, 1), bias=False)\n",
      "        )\n",
      "        (4): AdainResBlk(\n",
      "          (actv): LeakyReLU(negative_slope=0.2)\n",
      "          (conv1): Conv2d(128, 64, kernel_size=(3, 3), stride=(1, 1), padding=(1, 1))\n",
      "          (conv2): Conv2d(64, 64, kernel_size=(3, 3), stride=(1, 1), padding=(1, 1))\n",
      "          (norm1): AdaIN(\n",
      "            (norm): InstanceNorm2d(128, eps=1e-05, momentum=0.1, affine=False, track_running_stats=False)\n",
      "            (fc): Linear(in_features=64, out_features=256, bias=True)\n",
      "          )\n",
      "          (norm2): AdaIN(\n",
      "            (norm): InstanceNorm2d(64, eps=1e-05, momentum=0.1, affine=False, track_running_stats=False)\n",
      "            (fc): Linear(in_features=64, out_features=128, bias=True)\n",
      "          )\n",
      "          (conv1x1): Conv2d(128, 64, kernel_size=(1, 1), stride=(1, 1), bias=False)\n",
      "        )\n",
      "      )\n",
      "      (to_rgb): Sequential(\n",
      "        (0): InstanceNorm2d(64, eps=1e-05, momentum=0.1, affine=True, track_running_stats=False)\n",
      "        (1): LeakyReLU(negative_slope=0.2)\n",
      "        (2): Conv2d(64, 5, kernel_size=(1, 1), stride=(1, 1))\n",
      "      )\n",
      "    )\n",
      "  )\n",
      "  (style_encoder): DataParallel(\n",
      "    (module): StyleEncoder(\n",
      "      (conv): Sequential(\n",
      "        (0): Conv2d(5, 64, kernel_size=(3, 3), stride=(1, 1), padding=(1, 1))\n",
      "        (1): ResBlk(\n",
      "          (actv): LeakyReLU(negative_slope=0.2)\n",
      "          (conv1): Conv2d(64, 64, kernel_size=(3, 3), stride=(1, 1), padding=(1, 1))\n",
      "          (conv2): Conv2d(64, 128, kernel_size=(3, 3), stride=(1, 1), padding=(1, 1))\n",
      "          (conv1x1): Conv2d(64, 128, kernel_size=(1, 1), stride=(1, 1), bias=False)\n",
      "        )\n",
      "        (2): ResBlk(\n",
      "          (actv): LeakyReLU(negative_slope=0.2)\n",
      "          (conv1): Conv2d(128, 128, kernel_size=(3, 3), stride=(1, 1), padding=(1, 1))\n",
      "          (conv2): Conv2d(128, 256, kernel_size=(3, 3), stride=(1, 1), padding=(1, 1))\n",
      "          (conv1x1): Conv2d(128, 256, kernel_size=(1, 1), stride=(1, 1), bias=False)\n",
      "        )\n",
      "        (3): ResBlk(\n",
      "          (actv): LeakyReLU(negative_slope=0.2)\n",
      "          (conv1): Conv2d(256, 256, kernel_size=(3, 3), stride=(1, 1), padding=(1, 1))\n",
      "          (conv2): Conv2d(256, 512, kernel_size=(3, 3), stride=(1, 1), padding=(1, 1))\n",
      "          (conv1x1): Conv2d(256, 512, kernel_size=(1, 1), stride=(1, 1), bias=False)\n",
      "        )\n",
      "        (4): ResBlk(\n",
      "          (actv): LeakyReLU(negative_slope=0.2)\n",
      "          (conv1): Conv2d(512, 512, kernel_size=(3, 3), stride=(1, 1), padding=(1, 1))\n",
      "          (conv2): Conv2d(512, 512, kernel_size=(3, 3), stride=(1, 1), padding=(1, 1))\n",
      "        )\n",
      "        (5): ResBlk(\n",
      "          (actv): LeakyReLU(negative_slope=0.2)\n",
      "          (conv1): Conv2d(512, 512, kernel_size=(3, 3), stride=(1, 1), padding=(1, 1))\n",
      "          (conv2): Conv2d(512, 512, kernel_size=(3, 3), stride=(1, 1), padding=(1, 1))\n",
      "        )\n",
      "        (6): LeakyReLU(negative_slope=0.2)\n",
      "        (7): Conv2d(512, 512, kernel_size=(3, 3), stride=(1, 1))\n",
      "        (8): LeakyReLU(negative_slope=0.2)\n",
      "      )\n",
      "      (linear): Linear(in_features=512, out_features=64, bias=True)\n",
      "    )\n",
      "  )\n",
      "  (discriminator): DataParallel(\n",
      "    (module): Discriminator(\n",
      "      (conv_blocks): Sequential(\n",
      "        (0): Conv2d(5, 64, kernel_size=(3, 3), stride=(1, 1), padding=(1, 1))\n",
      "        (1): ResBlk(\n",
      "          (actv): LeakyReLU(negative_slope=0.2)\n",
      "          (conv1): Conv2d(64, 64, kernel_size=(3, 3), stride=(1, 1), padding=(1, 1))\n",
      "          (conv2): Conv2d(64, 128, kernel_size=(3, 3), stride=(1, 1), padding=(1, 1))\n",
      "          (conv1x1): Conv2d(64, 128, kernel_size=(1, 1), stride=(1, 1), bias=False)\n",
      "        )\n",
      "        (2): ResBlk(\n",
      "          (actv): LeakyReLU(negative_slope=0.2)\n",
      "          (conv1): Conv2d(128, 128, kernel_size=(3, 3), stride=(1, 1), padding=(1, 1))\n",
      "          (conv2): Conv2d(128, 256, kernel_size=(3, 3), stride=(1, 1), padding=(1, 1))\n",
      "          (conv1x1): Conv2d(128, 256, kernel_size=(1, 1), stride=(1, 1), bias=False)\n",
      "        )\n",
      "        (3): ResBlk(\n",
      "          (actv): LeakyReLU(negative_slope=0.2)\n",
      "          (conv1): Conv2d(256, 256, kernel_size=(3, 3), stride=(1, 1), padding=(1, 1))\n",
      "          (conv2): Conv2d(256, 512, kernel_size=(3, 3), stride=(1, 1), padding=(1, 1))\n",
      "          (conv1x1): Conv2d(256, 512, kernel_size=(1, 1), stride=(1, 1), bias=False)\n",
      "        )\n",
      "        (4): ResBlk(\n",
      "          (actv): LeakyReLU(negative_slope=0.2)\n",
      "          (conv1): Conv2d(512, 512, kernel_size=(3, 3), stride=(1, 1), padding=(1, 1))\n",
      "          (conv2): Conv2d(512, 512, kernel_size=(3, 3), stride=(1, 1), padding=(1, 1))\n",
      "        )\n",
      "        (5): ResBlk(\n",
      "          (actv): LeakyReLU(negative_slope=0.2)\n",
      "          (conv1): Conv2d(512, 512, kernel_size=(3, 3), stride=(1, 1), padding=(1, 1))\n",
      "          (conv2): Conv2d(512, 512, kernel_size=(3, 3), stride=(1, 1), padding=(1, 1))\n",
      "        )\n",
      "        (6): LeakyReLU(negative_slope=0.2, inplace=True)\n",
      "        (7): Conv2d(512, 512, kernel_size=(3, 3), stride=(1, 1))\n",
      "        (8): LeakyReLU(negative_slope=0.2, inplace=True)\n",
      "      )\n",
      "      (head): Conv2d(512, 10, kernel_size=(1, 1), stride=(1, 1))\n",
      "    )\n",
      "  )\n",
      "  (mapping_network): DataParallel(\n",
      "    (module): MappingNetwork(\n",
      "      (mapping_network): MappingNetworkSingleStyle(\n",
      "        (layers): Sequential(\n",
      "          (0): Linear(in_features=110, out_features=64, bias=True)\n",
      "        )\n",
      "      )\n",
      "    )\n",
      "  )\n",
      ")\n",
      "Loading checkpoint from /home/icb/alessandro.palma/environment/IMPA/IMPA/project_folder/experiments/20241204_655911b0-0791-4614-9bd9-3d13f57a79e8_cpg0000_batch/checkpoint/000030_nets.ckpt...\n",
      "Loading checkpoint from /home/icb/alessandro.palma/environment/IMPA/IMPA/project_folder/experiments/20241204_655911b0-0791-4614-9bd9-3d13f57a79e8_cpg0000_batch/checkpoint/000030_embeddings.ckpt...\n"
     ]
    }
   ],
   "source": [
    "solver = IMPAmodule(args, checkpoint_dir, dataloader)\n",
    "solver._load_checkpoint(30)"
   ]
  },
  {
   "cell_type": "code",
   "execution_count": 79,
   "id": "6ae3a348-5d63-4c31-a694-7670b0e224b9",
   "metadata": {},
   "outputs": [],
   "source": [
    "train_dataloader = dataloader.train_dataloader()\n",
    "val_dataloader = dataloader.val_dataloader()"
   ]
  },
  {
   "cell_type": "code",
   "execution_count": 80,
   "id": "1bdabae2-246d-47b7-aa91-b8251e15991a",
   "metadata": {},
   "outputs": [
    {
     "data": {
      "text/plain": [
       "{'BR00116996': 0,\n",
       " 'BR00116997': 1,\n",
       " 'BR00116998': 2,\n",
       " 'BR00116999': 3,\n",
       " 'BR00117010': 4,\n",
       " 'BR00117011': 5,\n",
       " 'BR00117012': 6,\n",
       " 'BR00117013': 7,\n",
       " 'BR00118039': 8,\n",
       " 'BR00118040': 9}"
      ]
     },
     "execution_count": 80,
     "metadata": {},
     "output_type": "execute_result"
    }
   ],
   "source": [
    "dataloader.mol2id"
   ]
  },
  {
   "cell_type": "markdown",
   "id": "8903a247-04a3-4562-879f-c90adf80e720",
   "metadata": {},
   "source": [
    "Let's convert the images to the same plate "
   ]
  },
  {
   "cell_type": "code",
   "execution_count": 81,
   "id": "c8e42a2b-758b-49aa-a78e-c4205d944a01",
   "metadata": {},
   "outputs": [
    {
     "name": "stderr",
     "output_type": "stream",
     "text": [
      "11it [00:00, 19.05it/s]\n"
     ]
    }
   ],
   "source": [
    "# Initilize empty dictionaries \n",
    "original = []\n",
    "transformed = []\n",
    "\n",
    "with torch.no_grad():\n",
    "    for i, batch in tqdm(enumerate(dataloader.test_dataloader())):\n",
    "        X_ori = batch[\"X\"]\n",
    "        # z original and z transported\n",
    "        z = torch.randn(X_ori.shape[0], 1, args.z_dimension).cuda().mean(1)\n",
    "\n",
    "        # Perturbation ID \n",
    "        id_pert = 0 * torch.ones(X_ori.shape[0]).long().cuda()\n",
    "        y = solver.embedding_matrix(id_pert)\n",
    "        y = torch.cat([y, z], dim=1)\n",
    "        y = solver.nets.mapping_network(y)\n",
    "\n",
    "        _, X_generated = solver.nets.generator(X_ori, y)\n",
    "\n",
    "        original.append(t2np(X_ori.detach().cpu(), batch_dim=True))\n",
    "        transformed.append(t2np(X_generated.detach().cpu(), batch_dim=True))\n",
    "\n",
    "        if i>10:\n",
    "            break\n",
    "            \n",
    "original = np.concatenate(original, axis=0) \n",
    "transformed = np.concatenate(transformed, axis=0) "
   ]
  },
  {
   "cell_type": "code",
   "execution_count": 82,
   "id": "1e4349c9-dc16-4284-8b08-7935bbb80a54",
   "metadata": {},
   "outputs": [
    {
     "data": {
      "text/plain": [
       "tensor([7, 5, 7, 9, 1, 1, 7, 9, 8, 7, 2, 0, 5, 4, 7, 3, 2, 1, 0, 8])"
      ]
     },
     "execution_count": 82,
     "metadata": {},
     "output_type": "execute_result"
    }
   ],
   "source": [
    "batch[\"mols\"]"
   ]
  },
  {
   "cell_type": "markdown",
   "id": "0a284d76-90e7-4511-b6b4-09e750d27d90",
   "metadata": {},
   "source": [
    "**Plot the results**"
   ]
  },
  {
   "cell_type": "code",
   "execution_count": 83,
   "id": "22a38821-118d-4078-80cb-72b685593354",
   "metadata": {},
   "outputs": [
    {
     "name": "stdout",
     "output_type": "stream",
     "text": [
      "Original 0\n"
     ]
    },
    {
     "data": {
      "image/png": "[encoded data removed]",
      "text/plain": [
       "<Figure size 100x100 with 1 Axes>"
      ]
     },
     "metadata": {},
     "output_type": "display_data"
    },
    {
     "name": "stdout",
     "output_type": "stream",
     "text": [
      "Original 1\n"
     ]
    },
    {
     "data": {
      "image/png": "[encoded data removed]",
      "text/plain": [
       "<Figure size 100x100 with 1 Axes>"
      ]
     },
     "metadata": {},
     "output_type": "display_data"
    },
    {
     "name": "stdout",
     "output_type": "stream",
     "text": [
      "Original 2\n"
     ]
    },
    {
     "data": {
      "image/png": "[encoded data removed]",
      "text/plain": [
       "<Figure size 100x100 with 1 Axes>"
      ]
     },
     "metadata": {},
     "output_type": "display_data"
    },
    {
     "name": "stdout",
     "output_type": "stream",
     "text": [
      "Original 3\n"
     ]
    },
    {
     "data": {
      "image/png": "[encoded data removed]",
      "text/plain": [
       "<Figure size 100x100 with 1 Axes>"
      ]
     },
     "metadata": {},
     "output_type": "display_data"
    }
   ],
   "source": [
    "for i in range(len(original)):\n",
    "    print(f\"Original {i}\")\n",
    "    plt.figure(figsize=(1, 1))\n",
    "    plt.imshow(original[i][:, :, [1, 3, 4]])\n",
    "    plt.axis(\"off\")\n",
    "    plt.show()\n",
    "    if i==3:\n",
    "        break"
   ]
  },
  {
   "cell_type": "code",
   "execution_count": 84,
   "id": "ad6b2ad9-ef96-43f0-8322-b0f5cb0ad484",
   "metadata": {},
   "outputs": [
    {
     "name": "stdout",
     "output_type": "stream",
     "text": [
      "Tranformed 0\n"
     ]
    },
    {
     "data": {
      "image/png": "[encoded data removed]",
      "text/plain": [
       "<Figure size 100x100 with 1 Axes>"
      ]
     },
     "metadata": {},
     "output_type": "display_data"
    },
    {
     "name": "stdout",
     "output_type": "stream",
     "text": [
      "Tranformed 1\n"
     ]
    },
    {
     "data": {
      "image/png": "[encoded data removed]",
      "text/plain": [
       "<Figure size 100x100 with 1 Axes>"
      ]
     },
     "metadata": {},
     "output_type": "display_data"
    },
    {
     "name": "stdout",
     "output_type": "stream",
     "text": [
      "Tranformed 2\n"
     ]
    },
    {
     "data": {
      "image/png": "[encoded data removed]",
      "text/plain": [
       "<Figure size 100x100 with 1 Axes>"
      ]
     },
     "metadata": {},
     "output_type": "display_data"
    },
    {
     "name": "stdout",
     "output_type": "stream",
     "text": [
      "Tranformed 3\n"
     ]
    },
    {
     "data": {
      "image/png": "[encoded data removed]",
      "text/plain": [
       "<Figure size 100x100 with 1 Axes>"
      ]
     },
     "metadata": {},
     "output_type": "display_data"
    }
   ],
   "source": [
    "for i in range(len(transformed)):\n",
    "    print(f\"Tranformed {i}\")\n",
    "    plt.figure(figsize=(1, 1))\n",
    "    plt.imshow(transformed[i][:, :, [1, 3, 4]])\n",
    "    plt.axis(\"off\")\n",
    "    plt.show()\n",
    "    if i==3:\n",
    "        break"
   ]
  },
  {
   "cell_type": "code",
   "execution_count": null,
   "id": "b0682ed2-4b38-4fff-8f12-247c3b5c65dc",
   "metadata": {},
   "outputs": [],
   "source": []
  },
  {
   "cell_type": "code",
   "execution_count": null,
   "id": "08fa7794-b90e-4493-bf45-0bd6957ff37c",
   "metadata": {},
   "outputs": [],
   "source": []
  }
 ],
 "metadata": {
  "kernelspec": {
   "display_name": "Python 3 (ipykernel)",
   "language": "python",
   "name": "python3"
  },
  "language_info": {
   "codemirror_mode": {
    "name": "ipython",
    "version": 3
   },
   "file_extension": ".py",
   "mimetype": "text/x-python",
   "name": "python",
   "nbconvert_exporter": "python",
   "pygments_lexer": "ipython3",
   "version": "3.9.18"
  }
 },
 "nbformat": 4,
 "nbformat_minor": 5
}
