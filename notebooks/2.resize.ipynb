{
 "cells": [
  {
   "cell_type": "code",
   "execution_count": 3,
   "id": "fcc30cbd-d591-4ae8-ab18-132b4ddb5052",
   "metadata": {},
   "outputs": [
    {
     "name": "stdout",
     "output_type": "stream",
     "text": [
      "/mnt/home/icb/alessandro.palma/imCPA\n"
     ]
    }
   ],
   "source": [
    "cd .."
   ]
  },
  {
   "cell_type": "code",
   "execution_count": 4,
   "id": "15bab8f2-04b2-416a-a3af-6fd3145b062b",
   "metadata": {},
   "outputs": [],
   "source": [
    "# Import the files \n",
    "import tarfile\n",
    "import numpy as np\n",
    "import matplotlib.pyplot as plt\n",
    "import cv2\n",
    "import os\n",
    "import pandas as pd\n",
    "from PIL import Image\n",
    "import timeit,time\n",
    "import shutil\n",
    "from utils import *"
   ]
  },
  {
   "cell_type": "markdown",
   "id": "f756d0f7-2f34-4d81-b14f-30016ef0f2c1",
   "metadata": {},
   "source": [
    "## Create the npz files containing the data "
   ]
  },
  {
   "cell_type": "markdown",
   "id": "3ebe5f18-8f40-4bc8-b830-a5858e324c9a",
   "metadata": {},
   "source": [
    "Dump .npz data files"
   ]
  },
  {
   "cell_type": "code",
   "execution_count": 5,
   "id": "f0f0a4ab-3fe4-44c8-b1e9-48fe678aa266",
   "metadata": {},
   "outputs": [],
   "source": [
    "res_train = extract_filenames_and_molecules(input_path='/home/icb/alessandro.palma/imCPA/data/metadata_processed/datasplit-train.csv', \n",
    "                                            labels_path='/home/icb/alessandro.palma/imCPA/data/metadata_processed/labels/labels_train.npz',\n",
    "                                            data_path='/home/icb/alessandro.palma/data', fold='train')"
   ]
  },
  {
   "cell_type": "code",
   "execution_count": 6,
   "id": "d67a6b18-77a1-4c1f-a230-baecd16d3c13",
   "metadata": {},
   "outputs": [],
   "source": [
    "res_val = extract_filenames_and_molecules(input_path='/home/icb/alessandro.palma/imCPA/data/metadata_processed/datasplit-val.csv', \n",
    "                                            labels_path='/home/icb/alessandro.palma/imCPA/data/metadata_processed/labels/labels_valid.npz',\n",
    "                                            data_path='/home/icb/alessandro.palma/data', fold='val')"
   ]
  },
  {
   "cell_type": "code",
   "execution_count": 7,
   "id": "2b12c48d-a6a7-4f06-93bd-01f5aa6f581f",
   "metadata": {},
   "outputs": [],
   "source": [
    "res_test = extract_filenames_and_molecules(input_path='/home/icb/alessandro.palma/imCPA/data/metadata_processed/datasplit-test.csv', \n",
    "                                            labels_path='/home/icb/alessandro.palma/imCPA/data/metadata_processed/labels/labels_test.npz',\n",
    "                                            data_path='/home/icb/alessandro.palma/data', fold='test')"
   ]
  },
  {
   "cell_type": "code",
   "execution_count": 8,
   "id": "930e4a20-9a52-47eb-8c55-6454b6ff2450",
   "metadata": {},
   "outputs": [],
   "source": [
    "res_ood = extract_filenames_and_molecules(input_path='/home/icb/alessandro.palma/imCPA/data/metadata_processed/datasplit-ood.csv', \n",
    "                                            labels_path='/home/icb/alessandro.palma/imCPA/data/metadata_processed/labels/labels_ood.npz',\n",
    "                                            data_path='/home/icb/alessandro.palma/data', fold='ood')"
   ]
  },
  {
   "cell_type": "markdown",
   "id": "aafc8726-588c-48ad-a703-baea7f6d0bda",
   "metadata": {},
   "source": [
    "## Collect files into folders"
   ]
  },
  {
   "cell_type": "code",
   "execution_count": 8,
   "id": "e9f16754-7fd1-428a-95dc-8636e735964a",
   "metadata": {},
   "outputs": [],
   "source": [
    "path = '/home/icb/alessandro.palma/data/cellpainting_100'"
   ]
  },
  {
   "cell_type": "code",
   "execution_count": 6,
   "id": "714166db-0b12-4b18-b575-b0d9317f25cb",
   "metadata": {},
   "outputs": [],
   "source": [
    "samples = []\n",
    "for file in os.listdir(path): \n",
    "    if file.endswith('npz'):\n",
    "        sample_name = file.split('-')[0]\n",
    "\n",
    "        source = os.path.join(path, file)\n",
    "        dest = os.path.join(path, sample_name, file)\n",
    "\n",
    "        if sample_name not in samples:\n",
    "            samples.append(sample_name)\n",
    "            if not os.path.exists(os.path.join(path, sample_name)):\n",
    "                os.mkdir(os.path.join(path, sample_name))\n",
    "\n",
    "        shutil.move(source, dest)"
   ]
  },
  {
   "cell_type": "code",
   "execution_count": 7,
   "id": "3524d9f8-bd25-4e04-9d5e-cc04864ecc79",
   "metadata": {},
   "outputs": [],
   "source": [
    "c = 0\n",
    "for file in os.listdir(path): \n",
    "    dire = os.path.join(path, file)\n",
    "    for file in os.listdir(dire):\n",
    "        c+=1 "
   ]
  },
  {
   "cell_type": "code",
   "execution_count": 8,
   "id": "1f428aae-d447-422a-842a-5e125d1b896d",
   "metadata": {},
   "outputs": [],
   "source": [
    "# For all folders in the data folder\n",
    "for sample in os.listdir(path):\n",
    "    if not sample.endswith('npz'):\n",
    "        wells = []\n",
    "        # For all the files in the data folder \n",
    "        for file in os.listdir(os.path.join(path, sample)):\n",
    "            # Name of the well \n",
    "            well_name = file.split('-')[1].split('-')[0]\n",
    "            \n",
    "            # Source and destination files\n",
    "            source = os.path.join(path, sample, file)\n",
    "            dest = os.path.join(path, sample, well_name, file)\n",
    "\n",
    "            if well_name not in wells:\n",
    "                wells.append(well_name)\n",
    "                if not os.path.exists(os.path.join(path, sample, well_name)):\n",
    "                    os.mkdir(os.path.join(path, sample, well_name))\n",
    "\n",
    "            shutil.move(source, dest)"
   ]
  },
  {
   "cell_type": "code",
   "execution_count": null,
   "id": "2395764e-31fd-4c58-b17e-37d7a944719d",
   "metadata": {},
   "outputs": [],
   "source": []
  }
 ],
 "metadata": {
  "kernelspec": {
   "display_name": "Python 3",
   "language": "python",
   "name": "python3"
  },
  "language_info": {
   "codemirror_mode": {
    "name": "ipython",
    "version": 3
   },
   "file_extension": ".py",
   "mimetype": "text/x-python",
   "name": "python",
   "nbconvert_exporter": "python",
   "pygments_lexer": "ipython3",
   "version": "3.9.7"
  }
 },
 "nbformat": 4,
 "nbformat_minor": 5
}
