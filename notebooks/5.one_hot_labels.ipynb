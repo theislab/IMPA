{
 "cells": [
  {
   "cell_type": "code",
   "execution_count": 39,
   "id": "7655e7ec-ddac-4bd9-996f-795eb6fa08be",
   "metadata": {},
   "outputs": [],
   "source": [
    "import torch \n",
    "import pandas as pd\n",
    "import numpy as np\n",
    "import torch.nn.functional as F\n",
    "from sklearn.preprocessing import OneHotEncoder"
   ]
  },
  {
   "cell_type": "code",
   "execution_count": 40,
   "id": "d826719d-a456-4909-9a49-bf0dafa61378",
   "metadata": {},
   "outputs": [],
   "source": [
    "# Import train test and validation sets \n",
    "train = np.load('/home/icb/alessandro.palma/data/cellpainting_100/train_data_index.npz', allow_pickle = True)\n",
    "valid = np.load('/home/icb/alessandro.palma/data/cellpainting_100/val_data_index.npz',  allow_pickle = True)\n",
    "test = np.load('/home/icb/alessandro.palma/data/cellpainting_100/test_data_index.npz', allow_pickle = True)\n",
    "ood = np.load('/home/icb/alessandro.palma/data/cellpainting_100/ood_data_index.npz', allow_pickle = True)\n"
   ]
  },
  {
   "cell_type": "code",
   "execution_count": 41,
   "id": "62da381c-5853-4829-9b4f-c1a85c23aac0",
   "metadata": {},
   "outputs": [
    {
     "data": {
      "text/plain": [
       "['filenames', 'mol_names', 'mol_smiles', 'assay_labels']"
      ]
     },
     "execution_count": 41,
     "metadata": {},
     "output_type": "execute_result"
    }
   ],
   "source": [
    "train.files"
   ]
  },
  {
   "cell_type": "code",
   "execution_count": 42,
   "id": "74233dc4-9e65-4645-b6fa-e66eba7fd3aa",
   "metadata": {},
   "outputs": [
    {
     "data": {
      "text/plain": [
       "10560"
      ]
     },
     "execution_count": 42,
     "metadata": {},
     "output_type": "execute_result"
    }
   ],
   "source": [
    "len(np.unique((train['mol_names'])))+len(np.unique((ood['mol_names'])))"
   ]
  },
  {
   "cell_type": "code",
   "execution_count": 47,
   "id": "43236642-5a53-44e6-a19c-3710c886ece1",
   "metadata": {},
   "outputs": [],
   "source": [
    "for i in np.unique(train['mol_names']):\n",
    "    if 'sulfoxide' in i:\n",
    "        print(i)"
   ]
  },
  {
   "cell_type": "code",
   "execution_count": null,
   "id": "060785d5-efb2-4717-a1d1-94030604215e",
   "metadata": {},
   "outputs": [],
   "source": [
    "valid['mol_names'])"
   ]
  },
  {
   "cell_type": "code",
   "execution_count": 150,
   "id": "60515a56-ffbd-40d5-a2e2-0f8ade827d93",
   "metadata": {},
   "outputs": [
    {
     "data": {
      "text/plain": [
       "57174"
      ]
     },
     "execution_count": 150,
     "metadata": {},
     "output_type": "execute_result"
    }
   ],
   "source": [
    "len(test['mol_names'])"
   ]
  },
  {
   "cell_type": "code",
   "execution_count": null,
   "id": "52215998-a7dc-43d0-8487-b9aa70fdfaf5",
   "metadata": {},
   "outputs": [],
   "source": [
    "set(train['mol_names']) - set(valid['mol_names']) "
   ]
  },
  {
   "cell_type": "code",
   "execution_count": 152,
   "id": "cb8e5d74-1fe1-4aa7-8af5-3bc474c778e2",
   "metadata": {},
   "outputs": [
    {
     "data": {
      "text/plain": [
       "0"
      ]
     },
     "execution_count": 152,
     "metadata": {},
     "output_type": "execute_result"
    }
   ],
   "source": [
    "len(set(test['mol_names'])-set(train['mol_names']) )"
   ]
  },
  {
   "cell_type": "code",
   "execution_count": 153,
   "id": "378ea326-2c14-4f44-9000-b1f16232023e",
   "metadata": {},
   "outputs": [],
   "source": [
    "# Collect seen and unseen \n",
    "seen, unseen = np.load('/home/icb/alessandro.palma/imCPA/data/metadata_processed/seen_unseen_compounds.npz', allow_pickle=True).values()"
   ]
  },
  {
   "cell_type": "code",
   "execution_count": 135,
   "id": "8b22534e-c3bc-4e22-b131-795c620db32e",
   "metadata": {},
   "outputs": [
    {
     "data": {
      "text/plain": [
       "10261"
      ]
     },
     "execution_count": 135,
     "metadata": {},
     "output_type": "execute_result"
    }
   ],
   "source": [
    "len(seen)"
   ]
  },
  {
   "cell_type": "code",
   "execution_count": 154,
   "id": "4ff22ea1-a47a-4b6a-8c1c-1c743b240f41",
   "metadata": {},
   "outputs": [
    {
     "data": {
      "text/plain": [
       "299"
      ]
     },
     "execution_count": 154,
     "metadata": {},
     "output_type": "execute_result"
    }
   ],
   "source": [
    "len(unseen)"
   ]
  },
  {
   "cell_type": "code",
   "execution_count": 155,
   "id": "3600b883-f4b5-4072-b055-0bcffd65962f",
   "metadata": {},
   "outputs": [],
   "source": [
    "seen_sorted = sorted(seen)\n",
    "drug_to_id = {d:i for d,i in zip(seen_sorted, range(len((seen_sorted))))}"
   ]
  },
  {
   "cell_type": "code",
   "execution_count": 156,
   "id": "2e25c954-36af-4384-b9b3-ad8989bfed3f",
   "metadata": {},
   "outputs": [],
   "source": [
    "encoder_drug = OneHotEncoder(\n",
    "    sparse=False, categories=[seen_sorted])"
   ]
  },
  {
   "cell_type": "code",
   "execution_count": 157,
   "id": "17423c96-b8f8-446c-a86a-6b930ef33826",
   "metadata": {},
   "outputs": [
    {
     "data": {
      "text/plain": [
       "OneHotEncoder(categories=[['( R)-(+)-WIN 55,212-2 mesylate[(R)-(+)-[2,3-Dihydro-5-methyl-3[(morpholinyl)methyl]pyrrolo[1,2,3-de]-1,4-benzoxazinyl]-(]',\n",
       "                           '(+)-UH 232', '(+)-isocorydine', '(+/-)-PPHT',\n",
       "                           '(+/-)-kavain', '(?)-AC 7954 hydrochloride',\n",
       "                           '(?)-Epinephrine hydrochloride[(?)-Adrenalin hydrochloride]',\n",
       "                           '(R)-(+)-8-Hydroxy-DPAT hydrobromide',\n",
       "                           '(R)-(+)-atenolol', '(R...\n",
       "                           '1-(2,3-dihydro-1H-indol-1-yl)-2-(phenylsulfanyl)-1-ethanone',\n",
       "                           '1-(2-METHOXYPHENYL)-4-(4-SUCCINIMIDOBUTYL)PIPERAZINE',\n",
       "                           '1-(2-methoxyphenyl)piperazine',\n",
       "                           '1-(3-chlorophenyl)piperazine',\n",
       "                           '1-(3-trifluoromethylphenyl)piperazine',\n",
       "                           \"1-(4'-AMINOPHENYL)-3,5-DIHYDRO-7,8-DIMETHOXY-4H-2,3-BENZODIAZEPIN-4-ONE\",\n",
       "                           '1-(4,6-Dimethylpyrimidin-2-yl)piperidine-4-carboxylic acid', ...]],\n",
       "              sparse=False)"
      ]
     },
     "execution_count": 157,
     "metadata": {},
     "output_type": "execute_result"
    }
   ],
   "source": [
    "encoder_drug.fit(np.array(seen_sorted).reshape((-1,1)))"
   ]
  },
  {
   "cell_type": "code",
   "execution_count": 161,
   "id": "c917ce58-0963-4a4d-b653-93b48415e67c",
   "metadata": {},
   "outputs": [
    {
     "ename": "NameError",
     "evalue": "name 'ood' is not defined",
     "output_type": "error",
     "traceback": [
      "\u001b[0;31m---------------------------------------------------------------------------\u001b[0m",
      "\u001b[0;31mNameError\u001b[0m                                 Traceback (most recent call last)",
      "\u001b[0;32m<ipython-input-161-338a5f80187d>\u001b[0m in \u001b[0;36m<module>\u001b[0;34m\u001b[0m\n\u001b[0;32m----> 1\u001b[0;31m \u001b[0mencoder_drug\u001b[0m\u001b[0;34m.\u001b[0m\u001b[0mtransform\u001b[0m\u001b[0;34m(\u001b[0m\u001b[0mnp\u001b[0m\u001b[0;34m.\u001b[0m\u001b[0marray\u001b[0m\u001b[0;34m(\u001b[0m\u001b[0mood\u001b[0m\u001b[0;34m[\u001b[0m\u001b[0;34m'mol_names'\u001b[0m\u001b[0;34m]\u001b[0m\u001b[0;34m.\u001b[0m\u001b[0mreshape\u001b[0m\u001b[0;34m(\u001b[0m\u001b[0;34m(\u001b[0m\u001b[0;34m-\u001b[0m\u001b[0;36m1\u001b[0m\u001b[0;34m,\u001b[0m\u001b[0;36m1\u001b[0m\u001b[0;34m)\u001b[0m\u001b[0;34m)\u001b[0m\u001b[0;34m)\u001b[0m\u001b[0;34m)\u001b[0m\u001b[0;34m\u001b[0m\u001b[0;34m\u001b[0m\u001b[0m\n\u001b[0m",
      "\u001b[0;31mNameError\u001b[0m: name 'ood' is not defined"
     ]
    }
   ],
   "source": [
    "encoder_drug.transform(np.array(ood['mol_names'].reshape((-1,1))))"
   ]
  },
  {
   "cell_type": "markdown",
   "id": "e2597e83-eabd-4aa4-a74f-9b0174a90a59",
   "metadata": {},
   "source": [
    "* Implement classifiers: from latent to drug (on non-OOD), from latent to morphology, assay from image features "
   ]
  },
  {
   "cell_type": "code",
   "execution_count": 104,
   "id": "0024e350-5f78-47c5-ae02-456cc86fff48",
   "metadata": {},
   "outputs": [],
   "source": [
    "df = pd.read_csv('/home/icb/alessandro.palma/eval_heldout_set.csv')"
   ]
  },
  {
   "cell_type": "code",
   "execution_count": null,
   "id": "22efebce-5741-4b34-877a-3fbb2e6b7304",
   "metadata": {},
   "outputs": [],
   "source": [
    "np.unique(df.CPD_NAME, return_counts=True)"
   ]
  },
  {
   "cell_type": "code",
   "execution_count": 130,
   "id": "db576b22-278a-4c7b-9219-5943ff09fbd0",
   "metadata": {},
   "outputs": [
    {
     "data": {
      "text/plain": [
       "array(['PAPP', 'PAPP', 'PAPP', 'PAPP', 'PAPP', 'PAPP', 'PAPP', 'PAPP',\n",
       "       'PAPP', 'PAPP', 'PAPP', 'PAPP', 'PAPP', 'PAPP', 'PAPP', 'PAPP',\n",
       "       'PAPP', 'PAPP', 'PAPP', 'PAPP', 'PAPP', 'PAPP', 'PAPP', 'PAPP',\n",
       "       'PAPP', 'PAPP', 'PAPP', 'PAPP', 'PAPP', 'PAPP', 'PAPP', 'PAPP',\n",
       "       'PAPP', 'PAPP', 'PAPP', 'PAPP', 'PAPP', 'PAPP', 'PAPP', 'PAPP',\n",
       "       'PAPP', 'PAPP', 'PAPP', 'PAPP', 'PAPP', 'PAPP', 'PAPP', 'PAPP'],\n",
       "      dtype=object)"
      ]
     },
     "execution_count": 130,
     "metadata": {},
     "output_type": "execute_result"
    }
   ],
   "source": [
    "test['mol_names'][test['mol_names']=='PAPP']"
   ]
  }
 ],
 "metadata": {
  "kernelspec": {
   "display_name": "Python 3",
   "language": "python",
   "name": "python3"
  },
  "language_info": {
   "codemirror_mode": {
    "name": "ipython",
    "version": 3
   },
   "file_extension": ".py",
   "mimetype": "text/x-python",
   "name": "python",
   "nbconvert_exporter": "python",
   "pygments_lexer": "ipython3",
   "version": "3.9.7"
  }
 },
 "nbformat": 4,
 "nbformat_minor": 5
}
