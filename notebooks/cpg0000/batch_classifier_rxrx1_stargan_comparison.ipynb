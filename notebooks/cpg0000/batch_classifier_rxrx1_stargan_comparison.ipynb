{
 "cells": [
  {
   "cell_type": "code",
   "execution_count": 1,
   "id": "e8e72c48-1490-4a98-86a0-52d915ef9f3a",
   "metadata": {},
   "outputs": [
    {
     "name": "stderr",
     "output_type": "stream",
     "text": [
      "An NVIDIA GPU may be present on this machine, but a CUDA-enabled jaxlib is not installed. Falling back to cpu.\n"
     ]
    }
   ],
   "source": [
    "from IMPA.dataset.data_loader import CellDataLoader\n",
    "from IMPA.model import Discriminator\n",
    "from IMPA.solver import IMPAmodule\n",
    "from omegaconf import OmegaConf\n",
    "from tqdm import tqdm\n",
    "import matplotlib.pyplot as plt\n",
    "from pathlib import Path\n",
    "import numpy as np\n",
    "import os\n",
    "import torch\n",
    "from torch import optim\n",
    "from torch import nn\n",
    "from pytorch_lightning import LightningModule\n",
    "from pytorch_lightning.callbacks import ModelCheckpoint\n",
    "from pytorch_lightning import Trainer\n",
    "import seaborn\n",
    "from sklearn.metrics import confusion_matrix, precision_score, recall_score, f1_score, accuracy_score\n",
    "import matplotlib.pyplot as plt\n",
    "import pandas as pd\n",
    "import seaborn as sns\n",
    "from matplotlib import rcParams\n",
    "import sys\n",
    "FIGSIZE=(3,3)               \n",
    "rcParams['figure.figsize']=FIGSIZE"
   ]
  },
  {
   "cell_type": "code",
   "execution_count": 2,
   "id": "316cfc40-b3c5-4f82-a60c-f8cba13d8bdd",
   "metadata": {},
   "outputs": [],
   "source": [
    "class Args(dict):\n",
    "    def __init__(self, *args, **kwargs):\n",
    "        super(Args, self).__init__(*args, **kwargs)\n",
    "        self.__dict__ = self"
   ]
  },
  {
   "cell_type": "code",
   "execution_count": 3,
   "id": "21b2c29d-cb0f-45b6-bf2d-efce2cb8fc15",
   "metadata": {},
   "outputs": [],
   "source": [
    "def calculate_metrics(predictions, labels):\n",
    "    # Convert predictions and labels to numpy arrays\n",
    "    predictions = predictions.cpu().numpy()\n",
    "    labels = labels.cpu().numpy()\n",
    "\n",
    "    # Calculate metrics\n",
    "    accuracy = accuracy_score(labels, predictions)\n",
    "    precision = precision_score(labels, predictions, average='weighted')  # Change 'weighted' to 'micro', 'macro', or 'samples'\n",
    "    recall = recall_score(labels, predictions, average='weighted')  # Change 'weighted' to 'micro', 'macro', or 'samples'\n",
    "    f1 = f1_score(labels, predictions, average='weighted')  # Change 'weighted' to 'micro', 'macro', or 'samples'\n",
    "\n",
    "    # Calculate confusion matrix\n",
    "    cm = confusion_matrix(labels, predictions)\n",
    "\n",
    "    return accuracy, precision, recall, f1, cm\n",
    "\n",
    "def plot_confusion_matrix(cm, classes):\n",
    "    plt.figure(figsize=(8, 8))\n",
    "    sns.heatmap(cm, annot=True, fmt=\"d\", cmap=\"Blues\", xticklabels=classes, yticklabels=classes)\n",
    "    plt.title(\"Confusion Matrix\")\n",
    "    plt.xlabel(\"Predicted\")\n",
    "    plt.ylabel(\"Actual\")\n",
    "    plt.show()\n",
    "\n",
    "def initalize_stargan(config_dict, number):\n",
    "    \"\"\"Initialize the starGANv1 model \n",
    "\n",
    "    Args:\n",
    "        path (str): path to the .yml configuration file for the experiment \n",
    "        number (int): number of the iteration to reload\n",
    "    \"\"\"\n",
    "    sys.path = sys.path[:6]\n",
    "    sys.path.append('/home/icb/alessandro.palma/environment/IMPA/stargan/')\n",
    "    from solver_stargan import Solver as solver_stargan\n",
    "    args_stargan = Args(config_dict)\n",
    "    solver = solver_stargan(args_stargan)\n",
    "    solver.restore_model(number)\n",
    "    return solver"
   ]
  },
  {
   "cell_type": "markdown",
   "id": "7c93db13-e83f-484f-9ffb-bc20c33135ad",
   "metadata": {},
   "source": [
    "# stargan generated "
   ]
  },
  {
   "cell_type": "code",
   "execution_count": 7,
   "id": "428d298a-501d-4b75-9f74-a5f283eaba27",
   "metadata": {
    "scrolled": true
   },
   "outputs": [
    {
     "name": "stdout",
     "output_type": "stream",
     "text": [
      "None\n",
      "None\n",
      "Lodading the data...\n",
      "Loading images...\n",
      "Training with 3 mols\n",
      "Successfully loaded the data\n",
      "Generator(\n",
      "  (main): Sequential(\n",
      "    (0): Conv2d(9, 64, kernel_size=(7, 7), stride=(1, 1), padding=(3, 3), bias=False)\n",
      "    (1): InstanceNorm2d(64, eps=1e-05, momentum=0.1, affine=True, track_running_stats=True)\n",
      "    (2): ReLU(inplace=True)\n",
      "    (3): Conv2d(64, 128, kernel_size=(4, 4), stride=(2, 2), padding=(1, 1), bias=False)\n",
      "    (4): InstanceNorm2d(128, eps=1e-05, momentum=0.1, affine=True, track_running_stats=True)\n",
      "    (5): ReLU(inplace=True)\n",
      "    (6): Conv2d(128, 256, kernel_size=(4, 4), stride=(2, 2), padding=(1, 1), bias=False)\n",
      "    (7): InstanceNorm2d(256, eps=1e-05, momentum=0.1, affine=True, track_running_stats=True)\n",
      "    (8): ReLU(inplace=True)\n",
      "    (9): ResidualBlock(\n",
      "      (main): Sequential(\n",
      "        (0): Conv2d(256, 256, kernel_size=(3, 3), stride=(1, 1), padding=(1, 1), bias=False)\n",
      "        (1): InstanceNorm2d(256, eps=1e-05, momentum=0.1, affine=True, track_running_stats=True)\n",
      "        (2): ReLU(inplace=True)\n",
      "        (3): Conv2d(256, 256, kernel_size=(3, 3), stride=(1, 1), padding=(1, 1), bias=False)\n",
      "        (4): InstanceNorm2d(256, eps=1e-05, momentum=0.1, affine=True, track_running_stats=True)\n",
      "      )\n",
      "    )\n",
      "    (10): ResidualBlock(\n",
      "      (main): Sequential(\n",
      "        (0): Conv2d(256, 256, kernel_size=(3, 3), stride=(1, 1), padding=(1, 1), bias=False)\n",
      "        (1): InstanceNorm2d(256, eps=1e-05, momentum=0.1, affine=True, track_running_stats=True)\n",
      "        (2): ReLU(inplace=True)\n",
      "        (3): Conv2d(256, 256, kernel_size=(3, 3), stride=(1, 1), padding=(1, 1), bias=False)\n",
      "        (4): InstanceNorm2d(256, eps=1e-05, momentum=0.1, affine=True, track_running_stats=True)\n",
      "      )\n",
      "    )\n",
      "    (11): ResidualBlock(\n",
      "      (main): Sequential(\n",
      "        (0): Conv2d(256, 256, kernel_size=(3, 3), stride=(1, 1), padding=(1, 1), bias=False)\n",
      "        (1): InstanceNorm2d(256, eps=1e-05, momentum=0.1, affine=True, track_running_stats=True)\n",
      "        (2): ReLU(inplace=True)\n",
      "        (3): Conv2d(256, 256, kernel_size=(3, 3), stride=(1, 1), padding=(1, 1), bias=False)\n",
      "        (4): InstanceNorm2d(256, eps=1e-05, momentum=0.1, affine=True, track_running_stats=True)\n",
      "      )\n",
      "    )\n",
      "    (12): ResidualBlock(\n",
      "      (main): Sequential(\n",
      "        (0): Conv2d(256, 256, kernel_size=(3, 3), stride=(1, 1), padding=(1, 1), bias=False)\n",
      "        (1): InstanceNorm2d(256, eps=1e-05, momentum=0.1, affine=True, track_running_stats=True)\n",
      "        (2): ReLU(inplace=True)\n",
      "        (3): Conv2d(256, 256, kernel_size=(3, 3), stride=(1, 1), padding=(1, 1), bias=False)\n",
      "        (4): InstanceNorm2d(256, eps=1e-05, momentum=0.1, affine=True, track_running_stats=True)\n",
      "      )\n",
      "    )\n",
      "    (13): ResidualBlock(\n",
      "      (main): Sequential(\n",
      "        (0): Conv2d(256, 256, kernel_size=(3, 3), stride=(1, 1), padding=(1, 1), bias=False)\n",
      "        (1): InstanceNorm2d(256, eps=1e-05, momentum=0.1, affine=True, track_running_stats=True)\n",
      "        (2): ReLU(inplace=True)\n",
      "        (3): Conv2d(256, 256, kernel_size=(3, 3), stride=(1, 1), padding=(1, 1), bias=False)\n",
      "        (4): InstanceNorm2d(256, eps=1e-05, momentum=0.1, affine=True, track_running_stats=True)\n",
      "      )\n",
      "    )\n",
      "    (14): ResidualBlock(\n",
      "      (main): Sequential(\n",
      "        (0): Conv2d(256, 256, kernel_size=(3, 3), stride=(1, 1), padding=(1, 1), bias=False)\n",
      "        (1): InstanceNorm2d(256, eps=1e-05, momentum=0.1, affine=True, track_running_stats=True)\n",
      "        (2): ReLU(inplace=True)\n",
      "        (3): Conv2d(256, 256, kernel_size=(3, 3), stride=(1, 1), padding=(1, 1), bias=False)\n",
      "        (4): InstanceNorm2d(256, eps=1e-05, momentum=0.1, affine=True, track_running_stats=True)\n",
      "      )\n",
      "    )\n",
      "    (15): ConvTranspose2d(256, 128, kernel_size=(4, 4), stride=(2, 2), padding=(1, 1), bias=False)\n",
      "    (16): InstanceNorm2d(128, eps=1e-05, momentum=0.1, affine=True, track_running_stats=True)\n",
      "    (17): ReLU(inplace=True)\n",
      "    (18): ConvTranspose2d(128, 64, kernel_size=(4, 4), stride=(2, 2), padding=(1, 1), bias=False)\n",
      "    (19): InstanceNorm2d(64, eps=1e-05, momentum=0.1, affine=True, track_running_stats=True)\n",
      "    (20): ReLU(inplace=True)\n",
      "    (21): Conv2d(64, 6, kernel_size=(7, 7), stride=(1, 1), padding=(3, 3), bias=False)\n",
      "    (22): Tanh()\n",
      "  )\n",
      ")\n",
      "The number of parameters: 8443072\n",
      "Discriminator(\n",
      "  (main): Sequential(\n",
      "    (0): Conv2d(6, 64, kernel_size=(4, 4), stride=(2, 2), padding=(1, 1))\n",
      "    (1): LeakyReLU(negative_slope=0.01)\n",
      "    (2): Conv2d(64, 128, kernel_size=(4, 4), stride=(2, 2), padding=(1, 1))\n",
      "    (3): LeakyReLU(negative_slope=0.01)\n",
      "    (4): Conv2d(128, 256, kernel_size=(4, 4), stride=(2, 2), padding=(1, 1))\n",
      "    (5): LeakyReLU(negative_slope=0.01)\n",
      "    (6): Conv2d(256, 512, kernel_size=(4, 4), stride=(2, 2), padding=(1, 1))\n",
      "    (7): LeakyReLU(negative_slope=0.01)\n",
      "    (8): Conv2d(512, 1024, kernel_size=(4, 4), stride=(2, 2), padding=(1, 1))\n",
      "    (9): LeakyReLU(negative_slope=0.01)\n",
      "  )\n",
      "  (conv1): Conv2d(1024, 1, kernel_size=(3, 3), stride=(1, 1), padding=(1, 1), bias=False)\n",
      "  (conv2): Conv2d(1024, 3, kernel_size=(3, 3), stride=(1, 1), bias=False)\n",
      ")\n",
      "The number of parameters: 11186112\n",
      "{'batch_size': 8, 'val_batch_size': 10, 'num_workers': 6, 'image_path': '/home/icb/alessandro.palma/environment/IMPA/IMPA/project_folder/datasets/rxrx1', 'data_index_path': '/home/icb/alessandro.palma/environment/IMPA/IMPA/project_folder/datasets/rxrx1/metadata/rxrx1_df.csv', 'embedding_path': '', 'augment_train': True, 'normalize': True, 'balanced': True, 'batch_correction': True, 'batch_key': 'BATCH', 'dim_in': 6, 'c_dim': 3, 'image_size': 96, 'g_conv_dim': 64, 'd_conv_dim': 64, 'g_repeat_num': 6, 'd_repeat_num': 5, 'lambda_cls': 1, 'lambda_rec': 10, 'lambda_gp': 10, 'num_iters': 300000, 'num_iters_decay': 100000, 'g_lr': 0.0001, 'd_lr': 0.0001, 'n_critic': 5, 'beta1': 0.5, 'beta2': 0.999, 'resume_iters': None, 'mode': 'train', 'use_tensorboard': False, 'log_dir': '/lustre/groups/ml01/workspace/alessandro.palma/stargan/recursion_batch/logs', 'model_save_dir': '/lustre/groups/ml01/workspace/alessandro.palma/stargan/recursion_batch/models', 'sample_dir': '/lustre/groups/ml01/workspace/alessandro.palma/stargan/recursion_batch/samples', 'result_dir': '/lustre/groups/ml01/workspace/alessandro.palma/stargan/recursion_batch/results', 'log_step': 500, 'sample_step': 500, 'model_save_step': 5000, 'lr_update_step': 1000, 'mol_list': None, 'ood_set': None, 'dataset_name': 'rxrx1', 'trainable_emb': True, 'latent_dim': 10, 'pert_modelling': False, 'n_channels': False}\n",
      "Loading the trained models from step 300000...\n"
     ]
    }
   ],
   "source": [
    "args_stargan = {\"batch_size\": 8,\n",
    "        \"val_batch_size\": 10,\n",
    "        \"num_workers\": 6,\n",
    "        \"image_path\": \"/home/icb/alessandro.palma/environment/IMPA/IMPA/project_folder/datasets/rxrx1\",\n",
    "        \"data_index_path\": \"/home/icb/alessandro.palma/environment/IMPA/IMPA/project_folder/datasets/rxrx1/metadata/rxrx1_df.csv\",\n",
    "        \"embedding_path\": \"\",\n",
    "        \"augment_train\": True,\n",
    "        \"normalize\": True,\n",
    "        \"balanced\": True,\n",
    "        \"batch_correction\": True,\n",
    "        \"batch_key\": \"BATCH\",\n",
    "        \"dim_in\": 6,\n",
    "        \"c_dim\": 3,\n",
    "        \"image_size\": 96,\n",
    "        \"g_conv_dim\": 64,\n",
    "        \"d_conv_dim\": 64,\n",
    "        \"g_repeat_num\": 6,\n",
    "        \"d_repeat_num\": 5,\n",
    "        \"lambda_cls\": 1,\n",
    "        \"lambda_rec\": 10,\n",
    "        \"lambda_gp\": 10,\n",
    "        \"num_iters\": 300000,\n",
    "        \"num_iters_decay\": 100000,\n",
    "        \"g_lr\": 0.0001,\n",
    "        \"d_lr\": 0.0001,\n",
    "        \"n_critic\": 5,\n",
    "        \"beta1\": 0.5,\n",
    "        \"beta2\": 0.999,\n",
    "        \"resume_iters\": None,\n",
    "        \"mode\": \"train\",\n",
    "        \"use_tensorboard\": False,\n",
    "        \"log_dir\": \"/lustre/groups/ml01/workspace/alessandro.palma/stargan/recursion_batch/logs\",\n",
    "        \"model_save_dir\": \"/lustre/groups/ml01/workspace/alessandro.palma/stargan/recursion_batch/models\",\n",
    "        \"sample_dir\": \"/lustre/groups/ml01/workspace/alessandro.palma/stargan/recursion_batch/samples\",\n",
    "        \"result_dir\": \"/lustre/groups/ml01/workspace/alessandro.palma/stargan/recursion_batch/results\",\n",
    "        \"log_step\": 500,\n",
    "        \"sample_step\": 500,\n",
    "        \"model_save_step\": 5000,\n",
    "        \"lr_update_step\": 1000,\n",
    "        \"mol_list\": None,\n",
    "        \"ood_set\": None,\n",
    "        \"dataset_name\": \"recursion\",\n",
    "        \"trainable_emb\": True, \n",
    "        \"latent_dim\": 10,\n",
    "        \"pert_modelling\": False, \n",
    "        \"n_channels\": False,\n",
    "        \"dataset_name\": \"rxrx1\"\n",
    "}\n",
    "\n",
    "args_stargan = Args(args_stargan)\n",
    "dataloader = CellDataLoader(args_stargan)\n",
    "solver = initalize_stargan(args_stargan, 300000)\n",
    "\n",
    "stargan_prediction_set = [dataloader.train_dataloader(), \n",
    "                              dataloader.val_dataloader()]"
   ]
  },
  {
   "cell_type": "markdown",
   "id": "9cc20d58-1f75-43a0-b244-2060b8953c20",
   "metadata": {},
   "source": [
    "## Initialize Discriminator"
   ]
  },
  {
   "cell_type": "code",
   "execution_count": 9,
   "id": "eb96255e-797a-4d1d-a83a-a1fc6b31ab8b",
   "metadata": {},
   "outputs": [],
   "source": [
    "classifier_net = Discriminator(img_size=96,\n",
    "                                  num_domains=dataloader.n_mol, \n",
    "                                  max_conv_dim=512, \n",
    "                                  in_channels=6, \n",
    "                                  dim_in=64,\n",
    "                                  multi_task=False)"
   ]
  },
  {
   "cell_type": "code",
   "execution_count": 10,
   "id": "abda8482-32b8-4572-b5a2-eb1a8a7440fc",
   "metadata": {},
   "outputs": [],
   "source": [
    "class Classifier(LightningModule):\n",
    "    def __init__(self, model, learning_rate=1e-3):\n",
    "        super().__init__()\n",
    "        self.model = model\n",
    "        self.criterion = nn.CrossEntropyLoss()\n",
    "        self.learning_rate = learning_rate\n",
    "\n",
    "    def forward(self, x):\n",
    "        return self.model(x, None)\n",
    "\n",
    "    def training_step(self, batch, batch_idx):\n",
    "        X, labels = batch[\"X\"], batch[\"mol_one_hot\"].argmax(1)\n",
    "        outputs = self.model(X, None)\n",
    "        loss = self.criterion(outputs, labels)\n",
    "        return loss\n",
    "\n",
    "    def val_step(self, batch, batch_idx):\n",
    "        X, labels = batch[\"X\"], batch[\"mol_one_hot\"].argmax(1)\n",
    "        outputs = self.model(X, None)\n",
    "        loss = self.criterion(outputs, labels)\n",
    "        acc = (torch.argmax(outputs, dim=1) == labels).sum().item() / len(labels)\n",
    "        self.log('val_loss', loss, prog_bar=True)\n",
    "        self.log('val_acc', acc, prog_bar=True)\n",
    "        return loss\n",
    "\n",
    "    def validation_step(self, batch, batch_idx):\n",
    "        loss = self.val_step(batch, batch_idx)\n",
    "        return loss\n",
    "        \n",
    "    def test_step(self, batch, batch_idx):\n",
    "        loss = self.val_step(batch, batch_idx)\n",
    "        return loss\n",
    "\n",
    "    def configure_optimizers(self):\n",
    "        return optim.Adam(self.parameters(), lr=self.learning_rate)\n"
   ]
  },
  {
   "cell_type": "code",
   "execution_count": 11,
   "id": "100f733c-1712-430c-be0d-36e30b9a981a",
   "metadata": {},
   "outputs": [
    {
     "data": {
      "text/plain": [
       "Classifier(\n",
       "  (model): Discriminator(\n",
       "    (conv): Sequential(\n",
       "      (0): Conv2d(6, 64, kernel_size=(3, 3), stride=(1, 1), padding=(1, 1))\n",
       "      (1): ResBlk(\n",
       "        (actv): LeakyReLU(negative_slope=0.2)\n",
       "        (conv1): Conv2d(64, 64, kernel_size=(3, 3), stride=(1, 1), padding=(1, 1))\n",
       "        (conv2): Conv2d(64, 128, kernel_size=(3, 3), stride=(1, 1), padding=(1, 1))\n",
       "        (conv1x1): Conv2d(64, 128, kernel_size=(1, 1), stride=(1, 1), bias=False)\n",
       "      )\n",
       "      (2): ResBlk(\n",
       "        (actv): LeakyReLU(negative_slope=0.2)\n",
       "        (conv1): Conv2d(128, 128, kernel_size=(3, 3), stride=(1, 1), padding=(1, 1))\n",
       "        (conv2): Conv2d(128, 256, kernel_size=(3, 3), stride=(1, 1), padding=(1, 1))\n",
       "        (conv1x1): Conv2d(128, 256, kernel_size=(1, 1), stride=(1, 1), bias=False)\n",
       "      )\n",
       "      (3): ResBlk(\n",
       "        (actv): LeakyReLU(negative_slope=0.2)\n",
       "        (conv1): Conv2d(256, 256, kernel_size=(3, 3), stride=(1, 1), padding=(1, 1))\n",
       "        (conv2): Conv2d(256, 512, kernel_size=(3, 3), stride=(1, 1), padding=(1, 1))\n",
       "        (conv1x1): Conv2d(256, 512, kernel_size=(1, 1), stride=(1, 1), bias=False)\n",
       "      )\n",
       "      (4): ResBlk(\n",
       "        (actv): LeakyReLU(negative_slope=0.2)\n",
       "        (conv1): Conv2d(512, 512, kernel_size=(3, 3), stride=(1, 1), padding=(1, 1))\n",
       "        (conv2): Conv2d(512, 512, kernel_size=(3, 3), stride=(1, 1), padding=(1, 1))\n",
       "      )\n",
       "      (5): ResBlk(\n",
       "        (actv): LeakyReLU(negative_slope=0.2)\n",
       "        (conv1): Conv2d(512, 512, kernel_size=(3, 3), stride=(1, 1), padding=(1, 1))\n",
       "        (conv2): Conv2d(512, 512, kernel_size=(3, 3), stride=(1, 1), padding=(1, 1))\n",
       "      )\n",
       "      (6): LeakyReLU(negative_slope=0.2, inplace=True)\n",
       "      (7): Conv2d(512, 512, kernel_size=(3, 3), stride=(1, 1))\n",
       "      (8): LeakyReLU(negative_slope=0.2, inplace=True)\n",
       "      (9): Conv2d(512, 3, kernel_size=(1, 1), stride=(1, 1))\n",
       "    )\n",
       "  )\n",
       "  (criterion): CrossEntropyLoss()\n",
       ")"
      ]
     },
     "execution_count": 11,
     "metadata": {},
     "output_type": "execute_result"
    }
   ],
   "source": [
    "classifier = Classifier(classifier_net, 0.0001)\n",
    "classifier.to(\"cuda\")"
   ]
  },
  {
   "cell_type": "code",
   "execution_count": 12,
   "id": "cacd56f4-6226-4222-b626-2759d2b67ada",
   "metadata": {},
   "outputs": [
    {
     "data": {
      "text/plain": [
       "<All keys matched successfully>"
      ]
     },
     "execution_count": 12,
     "metadata": {},
     "output_type": "execute_result"
    }
   ],
   "source": [
    "classifier.load_state_dict(torch.load(\"/home/icb/alessandro.palma/environment/IMPA/IMPA/project_folder/batch_classifier_results/rxrx1/best_model.ckpt\")[\"state_dict\"])"
   ]
  },
  {
   "cell_type": "code",
   "execution_count": 17,
   "id": "a6303edd-8abf-4e6e-802c-4f6cb010443f",
   "metadata": {
    "scrolled": true
   },
   "outputs": [],
   "source": [
    "# true_labels_generated= []\n",
    "# predicted_labels_generated = []\n",
    "# for set in generated_prediction_set:\n",
    "#     for batch in tqdm(set):\n",
    "#         with torch.no_grad():\n",
    "#             X = batch[\"X\"].to(\"cuda\")\n",
    "#             y = torch.zeros(X.shape[0], 3).long().cuda()\n",
    "#             y[:, 0] = 1\n",
    "#             X_generated = solver.G(X, y)\n",
    "#             pred = classifier(X_generated)\n",
    "#             predicted_labels_generated.append(pred.argmax(1).cpu())\n",
    "#             true_labels_generated.append(batch[\"mol_one_hot\"].argmax(1).cpu())"
   ]
  },
  {
   "cell_type": "code",
   "execution_count": null,
   "id": "0f817d79-3684-4a61-a585-3157e003fba6",
   "metadata": {},
   "outputs": [],
   "source": [
    "# true_labels_generated=torch.cat(true_labels_generated)\n",
    "# predicted_labels_generated=torch.cat(predicted_labels_generated)"
   ]
  },
  {
   "cell_type": "code",
   "execution_count": null,
   "id": "a0659deb-7fff-42bc-8380-50432ac90b29",
   "metadata": {},
   "outputs": [],
   "source": [
    "# calculate_metrics(true_labels_generated, predicted_labels_generated)"
   ]
  },
  {
   "cell_type": "markdown",
   "id": "24d70a27-e188-468d-8f95-39cc140b968b",
   "metadata": {},
   "source": [
    "## Plot results"
   ]
  },
  {
   "cell_type": "code",
   "execution_count": 18,
   "id": "660d988e-fa7e-4467-a087-55082a938aeb",
   "metadata": {},
   "outputs": [],
   "source": [
    "# freq_after = np.unique(predicted_labels_generated.tolist(), return_counts=True)\n",
    "\n",
    "# batch = list(batch_after)\n",
    "# batch = [f\"batch {key}\" for key in batch]\n",
    "# freq = list(freq_after[1]/np.sum(freq_after))\n",
    "\n",
    "# method = [\"after correction\"]*len(batch)"
   ]
  },
  {
   "cell_type": "code",
   "execution_count": 2,
   "id": "bbd32f46-1380-460b-a351-279334453511",
   "metadata": {},
   "outputs": [
    {
     "data": {
      "image/png": "[encoded data removed]",
      "text/plain": [
       "<Figure size 921.194x250 with 1 Axes>"
      ]
     },
     "metadata": {},
     "output_type": "display_data"
    }
   ],
   "source": [
    "import seaborn as sns\n",
    "import matplotlib.pyplot as plt\n",
    "import pandas as pd\n",
    "\n",
    "# Sample data\n",
    "to_plot = pd.DataFrame({\n",
    "    \"Batch\": [\"Batch 0\", \"Batch 1\", \"Batch 2\", \"Batch 0\", \"Batch 1\", \"Batch 2\"],\n",
    "    \"Frequency of batch classification\": [0.33, 0.33, 0.33, 0.99, 0.00, 0.00],\n",
    "    \"Method\": [\"Before correction\", \"Before correction\", \"Before correction\",\n",
    "               \"After correction\", \"After correction\", \"After correction\"]\n",
    "})\n",
    "\n",
    "# Set the style for a cleaner appearance\n",
    "sns.set(style=\"whitegrid\")\n",
    "\n",
    "\n",
    "# Plot the dot plot\n",
    "sns.relplot(data=to_plot,\n",
    "            x=\"Batch\",\n",
    "            y=\"Method\",  # Size of dots based on frequency\n",
    "            hue=\"Batch\",   # Color of dots based on frequency\n",
    "            palette=\"colorblind\",  # You can choose any colormap you prefer # Separate points for each hue level\n",
    "            alpha=1,\n",
    "            sizes=(100, 1000),\n",
    "            size=\"Frequency of batch classification\", \n",
    "           units=\"Batch\", \n",
    "           height=2.5, aspect=2.5, legend=\"brief\")    # Adjust transparency for better visualization\n",
    "\n",
    "\n",
    "plt.xticks(rotation=45, ha='right')\n",
    "plt.xlim(-0.5, 2.5)  # Adjusted x-axis limits\n",
    "plt.ylim(-0.5, 1.5)  # Adjusted y-axis limits\n",
    "plt.savefig('/home/icb/alessandro.palma/environment/IMPA/IMPA/notebooks/cpg0000/plots/classifier_performance.svg',\n",
    "           dpi=300, bbox_inches='tight', format='svg')\n",
    "plt.show()"
   ]
  },
  {
   "cell_type": "code",
   "execution_count": 3,
   "id": "6b0d41ab-a732-4630-8d13-cac8017b26c0",
   "metadata": {},
   "outputs": [],
   "source": [
    "to_plot.to_csv(\"/home/icb/alessandro.palma/environment/IMPA/IMPA/project_folder/source_data/figure_3b.csv\")"
   ]
  },
  {
   "cell_type": "code",
   "execution_count": null,
   "id": "53b6aa10-1891-4477-8a57-4a8a22b86dc3",
   "metadata": {},
   "outputs": [],
   "source": [
    "# # Set the style for a cleaner appearance\n",
    "# sns.set(style=\"whitegrid\")\n",
    "\n",
    "# # Plot the dot plot\n",
    "# sns.relplot(data=to_plot,\n",
    "#             x=\"Batch\",\n",
    "#             y=\"Method\",\n",
    "#             hue=\"Freq\",\n",
    "#             palette=\"viridis\",\n",
    "#             alpha=1,\n",
    "#             sizes=(100, 1000),\n",
    "#             size=\"Freq\", \n",
    "#             units=\"Batch\", \n",
    "#             height=5, aspect=1.5, legend=\"brief\")  # Adjusted aspect and height\n",
    "# plt.xticks(rotation=45, ha='right')\n",
    "# plt.xlim(-0.5, 2.5)  # Adjusted x-axis limits\n",
    "# plt.ylim(-0.5, 1.5)  # Adjusted y-axis limits\n",
    "# # plt.legend(bbox_to_anchor=(1.05, 1), loc='upper left')  # Adjusted legend position\n",
    "# plt.show()"
   ]
  },
  {
   "cell_type": "code",
   "execution_count": null,
   "id": "dd6f48ee-9087-4528-8e96-483e0d6ecb6e",
   "metadata": {},
   "outputs": [],
   "source": []
  },
  {
   "cell_type": "code",
   "execution_count": null,
   "id": "844fd733-b14c-4fd7-9751-9b8387078225",
   "metadata": {},
   "outputs": [],
   "source": []
  },
  {
   "cell_type": "code",
   "execution_count": null,
   "id": "ce15cd47-0be6-43e7-8a71-a411f46b2fb6",
   "metadata": {},
   "outputs": [],
   "source": []
  }
 ],
 "metadata": {
  "kernelspec": {
   "display_name": "Python 3 (ipykernel)",
   "language": "python",
   "name": "python3"
  },
  "language_info": {
   "codemirror_mode": {
    "name": "ipython",
    "version": 3
   },
   "file_extension": ".py",
   "mimetype": "text/x-python",
   "name": "python",
   "nbconvert_exporter": "python",
   "pygments_lexer": "ipython3",
   "version": "3.9.18"
  }
 },
 "nbformat": 4,
 "nbformat_minor": 5
}
