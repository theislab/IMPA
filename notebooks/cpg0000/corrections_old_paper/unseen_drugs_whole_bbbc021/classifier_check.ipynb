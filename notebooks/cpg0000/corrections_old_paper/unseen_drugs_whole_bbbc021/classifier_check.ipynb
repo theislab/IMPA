{
 "cells": [
  {
   "cell_type": "code",
   "execution_count": 2,
   "id": "4870d40d-fa71-4748-aada-2c8a65456ec4",
   "metadata": {},
   "outputs": [],
   "source": [
    "import numpy as np \n",
    "import torch\n",
    "import sys\n",
    "import pandas as pd\n",
    "from tqdm import tqdm\n",
    "import pickle as pkl \n",
    "from IMPA.solver import IMPAmodule\n",
    "from IMPA.dataset.data_loader import CellDataLoader\n",
    "from omegaconf import OmegaConf\n",
    "import yaml\n",
    "from pathlib import Path\n",
    "import sklearn\n",
    "\n",
    "sys.path.append('/home/icb/alessandro.palma/environment/IMPA/IMPA/IMPA/eval/gan_metrics')\n",
    "sys.path.insert(0, '/home/icb/alessandro.palma/environment/IMPA/IMPA/IMPA')\n",
    "\n",
    "from fid import *\n",
    "from density_and_coverage import compute_d_c\n",
    "\n",
    "\n",
    "sys.path.insert(0, '/lustre/groups/ml01/workspace/alessandro.palma/imCPA_official/experiments/general_experiments/1.benchmark_scores')\n",
    "sys.path.insert(0, '/lustre/groups/ml01/workspace/alessandro.palma/imCPA_official/experiments/general_experiments/5.interpretability')\n",
    "from compute_scores import *\n",
    "from util_functions import CustomTransform"
   ]
  },
  {
   "cell_type": "code",
   "execution_count": 3,
   "id": "70262962-f9b9-4cf4-9e97-ca1cb69fd475",
   "metadata": {},
   "outputs": [],
   "source": [
    "def initialize_model(yaml_config, dest_dir):\n",
    "    args_rdkit = OmegaConf.create(yaml_config)\n",
    "    dataloader_rdkit = CellDataLoader(args_rdkit)\n",
    "    solver_rdkit = IMPAmodule(args_rdkit, dest_dir, dataloader_rdkit)\n",
    "    return solver_rdkit\n",
    "\n",
    "class Args:\n",
    "    def __init__(self, dictionary):\n",
    "        self.__dict__ = dictionary\n",
    "\n",
    "    def __getattr__(self, key):\n",
    "        if key in self.__dict__:\n",
    "            return self.__dict__[key]\n",
    "        else:\n",
    "            raise AttributeError(f\"'DictToObject' object has no attribute '{key}'\")\n",
    "\n",
    "    def __call__(self, key):\n",
    "        return self.__getattr__(key)"
   ]
  },
  {
   "cell_type": "code",
   "execution_count": 97,
   "id": "e4964a42-a5cb-44b5-8a1b-e5aef9b63d37",
   "metadata": {},
   "outputs": [],
   "source": [
    "bbbbc021_embeddings = pd.read_csv(\"/home/icb/alessandro.palma/environment/IMPA/IMPA/embeddings/csv/emb_fp_all.csv\", index_col=0)\n",
    "\n",
    "bbbc021_index = pd.read_csv(\"/lustre/groups/ml01/workspace/alessandro.palma/imCPA_official/data/bbbc021_unannotated/processed/bbbc021_unannotated_large/metadata/bbbc021_unannotated_large_subset.csv\",\n",
    "                           index_col=0)"
   ]
  },
  {
   "cell_type": "code",
   "execution_count": 101,
   "id": "0b9fedab-4ac1-4be9-ac58-c23a4d21076d",
   "metadata": {},
   "outputs": [],
   "source": [
    "path_to_configs = Path(\"/home/icb/alessandro.palma/environment/IMPA/IMPA/config_hydra/config\")\n",
    "\n",
    "with open(path_to_configs / 'REBUTTAL_bbbc021_large_all.yaml', 'r') as IMPA_bbbc021:\n",
    "    # Load YAML data using safe_load() from the file\n",
    "    yaml_IMPA_bbbc021 = yaml.safe_load(IMPA_bbbc021)\n",
    "\n",
    "yaml_IMPA_bbbc021['data_index_path'] = '/lustre/groups/ml01/workspace/alessandro.palma/imCPA_official/data/bbbc021_unannotated/processed/bbbc021_unannotated_large/metadata/bbbc021_unannotated_large_subset.csv'\n",
    "yaml_IMPA_bbbc021['ood_set'] = None\n",
    "dest_dir = \"/home/icb/alessandro.palma/environment/IMPA/IMPA/project_folder/experiments/20240825_783bda05-f711-4c90-8a4f-dc04e89cbd92_bbbc021_unannotated_large\"\n",
    "\n",
    "args = OmegaConf.create(yaml_IMPA_bbbc021)\n",
    "dataloader = CellDataLoader(args)"
   ]
  },
  {
   "cell_type": "code",
   "execution_count": 102,
   "id": "14b11205-9c7d-48fc-9a08-546fdcacdf2e",
   "metadata": {
    "scrolled": true
   },
   "outputs": [
    {
     "data": {
      "text/plain": [
       "Discriminator(\n",
       "  (conv): Sequential(\n",
       "    (0): Conv2d(3, 64, kernel_size=(3, 3), stride=(1, 1), padding=(1, 1))\n",
       "    (1): ResBlk(\n",
       "      (actv): LeakyReLU(negative_slope=0.2)\n",
       "      (conv1): Conv2d(64, 64, kernel_size=(3, 3), stride=(1, 1), padding=(1, 1))\n",
       "      (conv2): Conv2d(64, 128, kernel_size=(3, 3), stride=(1, 1), padding=(1, 1))\n",
       "      (conv1x1): Conv2d(64, 128, kernel_size=(1, 1), stride=(1, 1), bias=False)\n",
       "    )\n",
       "    (2): ResBlk(\n",
       "      (actv): LeakyReLU(negative_slope=0.2)\n",
       "      (conv1): Conv2d(128, 128, kernel_size=(3, 3), stride=(1, 1), padding=(1, 1))\n",
       "      (conv2): Conv2d(128, 256, kernel_size=(3, 3), stride=(1, 1), padding=(1, 1))\n",
       "      (conv1x1): Conv2d(128, 256, kernel_size=(1, 1), stride=(1, 1), bias=False)\n",
       "    )\n",
       "    (3): ResBlk(\n",
       "      (actv): LeakyReLU(negative_slope=0.2)\n",
       "      (conv1): Conv2d(256, 256, kernel_size=(3, 3), stride=(1, 1), padding=(1, 1))\n",
       "      (conv2): Conv2d(256, 512, kernel_size=(3, 3), stride=(1, 1), padding=(1, 1))\n",
       "      (conv1x1): Conv2d(256, 512, kernel_size=(1, 1), stride=(1, 1), bias=False)\n",
       "    )\n",
       "    (4): ResBlk(\n",
       "      (actv): LeakyReLU(negative_slope=0.2)\n",
       "      (conv1): Conv2d(512, 512, kernel_size=(3, 3), stride=(1, 1), padding=(1, 1))\n",
       "      (conv2): Conv2d(512, 512, kernel_size=(3, 3), stride=(1, 1), padding=(1, 1))\n",
       "    )\n",
       "    (5): ResBlk(\n",
       "      (actv): LeakyReLU(negative_slope=0.2)\n",
       "      (conv1): Conv2d(512, 512, kernel_size=(3, 3), stride=(1, 1), padding=(1, 1))\n",
       "      (conv2): Conv2d(512, 512, kernel_size=(3, 3), stride=(1, 1), padding=(1, 1))\n",
       "    )\n",
       "    (6): LeakyReLU(negative_slope=0.2, inplace=True)\n",
       "    (7): Conv2d(512, 512, kernel_size=(3, 3), stride=(1, 1))\n",
       "    (8): LeakyReLU(negative_slope=0.2, inplace=True)\n",
       "    (9): Conv2d(512, 13, kernel_size=(1, 1), stride=(1, 1))\n",
       "  )\n",
       ")"
      ]
     },
     "execution_count": 102,
     "metadata": {},
     "output_type": "execute_result"
    }
   ],
   "source": [
    "# INITIALIZE CLASSIFIER (OF MOA)\n",
    "classifier = Discriminator(img_size=96, \n",
    "                    num_domains=13, \n",
    "                    max_conv_dim=512, \n",
    "                    in_channels=3, \n",
    "                    dim_in=64, \n",
    "                    multi_task=False).to(\"cuda\")  \n",
    "classifier.load_state_dict(torch.load(\"/lustre/groups/ml01/workspace/alessandro.palma/imCPA_official/experiments/general_experiments/7.train_classifier/checkpoints/larger_fov/checkpoints_all_drugs.ckpt\"))\n",
    "classifier.eval()"
   ]
  },
  {
   "cell_type": "code",
   "execution_count": 123,
   "id": "82853e43-b142-4727-9d06-d2ac2492fb0c",
   "metadata": {},
   "outputs": [],
   "source": [
    "y_real = []\n",
    "y_pred = []\n",
    "\n",
    "for batch in dataloader.val_dataloader():\n",
    "    with torch.no_grad():\n",
    "        y_moa = batch[\"y_id\"]\n",
    "        y_hat = classifier(batch[\"X\"][1].cuda(), None).argmax(1)\n",
    "        y_real += y_moa.tolist()\n",
    "        y_pred += y_hat.tolist()"
   ]
  },
  {
   "cell_type": "code",
   "execution_count": 127,
   "id": "8de6fbc2-019a-4c72-bf4d-766f0e43dd09",
   "metadata": {
    "scrolled": true
   },
   "outputs": [
    {
     "data": {
      "text/plain": [
       "0.8068849706129303"
      ]
     },
     "execution_count": 127,
     "metadata": {},
     "output_type": "execute_result"
    }
   ],
   "source": [
    "np.sum(np.array(y_real)==np.array(y_pred))/len(y_pred)"
   ]
  },
  {
   "cell_type": "code",
   "execution_count": 135,
   "id": "c09a3f42-2cb9-43b3-be6d-d2978b6a2f7a",
   "metadata": {},
   "outputs": [
    {
     "data": {
      "text/plain": [
       "{'Actin disruptors': 0,\n",
       " 'Aurora kinase inhibitors': 1,\n",
       " 'Cholesterol-lowering': 2,\n",
       " 'DMSO': 3,\n",
       " 'DNA damage': 4,\n",
       " 'DNA replication': 5,\n",
       " 'Eg5 inhibitors': 6,\n",
       " 'Epithelial': 7,\n",
       " 'Kinase inhibitors': 8,\n",
       " 'Microtubule destabilizers': 9,\n",
       " 'Microtubule stabilizers': 10,\n",
       " 'Protein degradation': 11,\n",
       " 'Protein synthesis': 12}"
      ]
     },
     "execution_count": 135,
     "metadata": {},
     "output_type": "execute_result"
    }
   ],
   "source": [
    "dataloader.y2id"
   ]
  },
  {
   "cell_type": "code",
   "execution_count": 152,
   "id": "59bfba74-8aba-4808-a172-d19b9717ec72",
   "metadata": {},
   "outputs": [
    {
     "name": "stderr",
     "output_type": "stream",
     "text": [
      "/home/icb/alessandro.palma/miniconda3/envs/IMPA_try/lib/python3.9/site-packages/sklearn/metrics/_classification.py:1318: UndefinedMetricWarning: Recall and F-score are ill-defined and being set to 0.0 in labels with no true samples. Use `zero_division` parameter to control this behavior.\n",
      "  _warn_prf(average, modifier, msg_start, len(result))\n",
      "/home/icb/alessandro.palma/miniconda3/envs/IMPA_try/lib/python3.9/site-packages/sklearn/metrics/_classification.py:1318: UndefinedMetricWarning: Recall and F-score are ill-defined and being set to 0.0 in labels with no true samples. Use `zero_division` parameter to control this behavior.\n",
      "  _warn_prf(average, modifier, msg_start, len(result))\n",
      "/home/icb/alessandro.palma/miniconda3/envs/IMPA_try/lib/python3.9/site-packages/sklearn/metrics/_classification.py:1318: UndefinedMetricWarning: Recall and F-score are ill-defined and being set to 0.0 in labels with no true samples. Use `zero_division` parameter to control this behavior.\n",
      "  _warn_prf(average, modifier, msg_start, len(result))\n"
     ]
    },
    {
     "data": {
      "text/html": [
       "<div>\n",
       "<style scoped>\n",
       "    .dataframe tbody tr th:only-of-type {\n",
       "        vertical-align: middle;\n",
       "    }\n",
       "\n",
       "    .dataframe tbody tr th {\n",
       "        vertical-align: top;\n",
       "    }\n",
       "\n",
       "    .dataframe thead th {\n",
       "        text-align: right;\n",
       "    }\n",
       "</style>\n",
       "<table border=\"1\" class=\"dataframe\">\n",
       "  <thead>\n",
       "    <tr style=\"text-align: right;\">\n",
       "      <th></th>\n",
       "      <th>precision</th>\n",
       "      <th>recall</th>\n",
       "      <th>f1-score</th>\n",
       "      <th>support</th>\n",
       "    </tr>\n",
       "  </thead>\n",
       "  <tbody>\n",
       "    <tr>\n",
       "      <th>0</th>\n",
       "      <td>0.948276</td>\n",
       "      <td>0.808824</td>\n",
       "      <td>0.873016</td>\n",
       "      <td>136.000000</td>\n",
       "    </tr>\n",
       "    <tr>\n",
       "      <th>1</th>\n",
       "      <td>0.964286</td>\n",
       "      <td>0.843750</td>\n",
       "      <td>0.900000</td>\n",
       "      <td>128.000000</td>\n",
       "    </tr>\n",
       "    <tr>\n",
       "      <th>2</th>\n",
       "      <td>0.925926</td>\n",
       "      <td>0.531915</td>\n",
       "      <td>0.675676</td>\n",
       "      <td>94.000000</td>\n",
       "    </tr>\n",
       "    <tr>\n",
       "      <th>3</th>\n",
       "      <td>0.000000</td>\n",
       "      <td>0.000000</td>\n",
       "      <td>0.000000</td>\n",
       "      <td>0.000000</td>\n",
       "    </tr>\n",
       "    <tr>\n",
       "      <th>4</th>\n",
       "      <td>0.931507</td>\n",
       "      <td>0.680000</td>\n",
       "      <td>0.786127</td>\n",
       "      <td>200.000000</td>\n",
       "    </tr>\n",
       "    <tr>\n",
       "      <th>5</th>\n",
       "      <td>0.834146</td>\n",
       "      <td>0.830097</td>\n",
       "      <td>0.832117</td>\n",
       "      <td>206.000000</td>\n",
       "    </tr>\n",
       "    <tr>\n",
       "      <th>6</th>\n",
       "      <td>0.742857</td>\n",
       "      <td>0.604651</td>\n",
       "      <td>0.666667</td>\n",
       "      <td>43.000000</td>\n",
       "    </tr>\n",
       "    <tr>\n",
       "      <th>7</th>\n",
       "      <td>0.666667</td>\n",
       "      <td>0.250000</td>\n",
       "      <td>0.363636</td>\n",
       "      <td>24.000000</td>\n",
       "    </tr>\n",
       "    <tr>\n",
       "      <th>8</th>\n",
       "      <td>0.942029</td>\n",
       "      <td>0.643564</td>\n",
       "      <td>0.764706</td>\n",
       "      <td>101.000000</td>\n",
       "    </tr>\n",
       "    <tr>\n",
       "      <th>9</th>\n",
       "      <td>0.839806</td>\n",
       "      <td>0.812207</td>\n",
       "      <td>0.825776</td>\n",
       "      <td>213.000000</td>\n",
       "    </tr>\n",
       "    <tr>\n",
       "      <th>10</th>\n",
       "      <td>0.926052</td>\n",
       "      <td>0.947614</td>\n",
       "      <td>0.936709</td>\n",
       "      <td>859.000000</td>\n",
       "    </tr>\n",
       "    <tr>\n",
       "      <th>11</th>\n",
       "      <td>0.856287</td>\n",
       "      <td>0.662037</td>\n",
       "      <td>0.746736</td>\n",
       "      <td>216.000000</td>\n",
       "    </tr>\n",
       "    <tr>\n",
       "      <th>12</th>\n",
       "      <td>0.923077</td>\n",
       "      <td>0.740741</td>\n",
       "      <td>0.821918</td>\n",
       "      <td>162.000000</td>\n",
       "    </tr>\n",
       "    <tr>\n",
       "      <th>accuracy</th>\n",
       "      <td>0.806885</td>\n",
       "      <td>0.806885</td>\n",
       "      <td>0.806885</td>\n",
       "      <td>0.806885</td>\n",
       "    </tr>\n",
       "    <tr>\n",
       "      <th>macro avg</th>\n",
       "      <td>0.807763</td>\n",
       "      <td>0.642723</td>\n",
       "      <td>0.707160</td>\n",
       "      <td>2382.000000</td>\n",
       "    </tr>\n",
       "    <tr>\n",
       "      <th>weighted avg</th>\n",
       "      <td>0.902397</td>\n",
       "      <td>0.806885</td>\n",
       "      <td>0.846215</td>\n",
       "      <td>2382.000000</td>\n",
       "    </tr>\n",
       "  </tbody>\n",
       "</table>\n",
       "</div>"
      ],
      "text/plain": [
       "              precision    recall  f1-score      support\n",
       "0              0.948276  0.808824  0.873016   136.000000\n",
       "1              0.964286  0.843750  0.900000   128.000000\n",
       "2              0.925926  0.531915  0.675676    94.000000\n",
       "3              0.000000  0.000000  0.000000     0.000000\n",
       "4              0.931507  0.680000  0.786127   200.000000\n",
       "5              0.834146  0.830097  0.832117   206.000000\n",
       "6              0.742857  0.604651  0.666667    43.000000\n",
       "7              0.666667  0.250000  0.363636    24.000000\n",
       "8              0.942029  0.643564  0.764706   101.000000\n",
       "9              0.839806  0.812207  0.825776   213.000000\n",
       "10             0.926052  0.947614  0.936709   859.000000\n",
       "11             0.856287  0.662037  0.746736   216.000000\n",
       "12             0.923077  0.740741  0.821918   162.000000\n",
       "accuracy       0.806885  0.806885  0.806885     0.806885\n",
       "macro avg      0.807763  0.642723  0.707160  2382.000000\n",
       "weighted avg   0.902397  0.806885  0.846215  2382.000000"
      ]
     },
     "execution_count": 152,
     "metadata": {},
     "output_type": "execute_result"
    }
   ],
   "source": [
    "pd.DataFrame(sklearn.metrics.classification_report(y_real, y_pred, output_dict=True)).transpose()"
   ]
  },
  {
   "cell_type": "code",
   "execution_count": 159,
   "id": "b79bc7fe-4d83-4553-a6fb-75c15329d152",
   "metadata": {
    "scrolled": true
   },
   "outputs": [
    {
     "data": {
      "text/plain": [
       "{'ALLN': 'Protein degradation',\n",
       " 'alsterpaullone': 'Kinase inhibitors',\n",
       " 'anisomycin': 'Protein synthesis',\n",
       " 'bryostatin': 'Kinase inhibitors',\n",
       " 'camptothecin': 'DNA replication',\n",
       " 'chlorambucil': 'DNA damage',\n",
       " 'cisplatin': 'DNA damage',\n",
       " 'colchicine': 'Microtubule destabilizers',\n",
       " 'cyclohexamide': 'Protein synthesis',\n",
       " 'cytochalasin B': 'Actin disruptors',\n",
       " 'cytochalasin D': 'Actin disruptors',\n",
       " 'demecolcine': 'Microtubule destabilizers',\n",
       " 'docetaxel': 'Microtubule stabilizers',\n",
       " 'emetine': 'Protein synthesis',\n",
       " 'epothilone B': 'Microtubule stabilizers',\n",
       " 'etoposide': 'DNA damage',\n",
       " 'floxuridine': 'DNA replication',\n",
       " 'lactacystin': 'Protein degradation',\n",
       " 'latrunculin B': 'Actin disruptors',\n",
       " 'methotrexate': 'DNA replication',\n",
       " 'mevinolin/lovastatin': 'Cholesterol-lowering',\n",
       " 'MG-132': 'Protein degradation',\n",
       " 'mitomycin C': 'DNA damage',\n",
       " 'mitoxantrone': 'DNA replication',\n",
       " 'nocodazole': 'Microtubule destabilizers',\n",
       " 'PD-169316': 'Kinase inhibitors',\n",
       " 'PP-2': 'Epithelial',\n",
       " 'proteasome inhibitor I': 'Protein degradation',\n",
       " 'simvastatin': 'Cholesterol-lowering',\n",
       " 'taxol': 'Microtubule stabilizers',\n",
       " 'vincristine': 'Microtubule destabilizers',\n",
       " 'AZ138': 'Eg5 inhibitors',\n",
       " 'AZ258': 'Aurora kinase inhibitors',\n",
       " 'AZ841': 'Aurora kinase inhibitors',\n",
       " 'DMSO': 'DMSO'}"
      ]
     },
     "execution_count": 159,
     "metadata": {},
     "output_type": "execute_result"
    }
   ],
   "source": [
    "{key:val for key,val in dict(zip(bbbc021_index.CPD_NAME, bbbc021_index.ANNOT)).items()}"
   ]
  },
  {
   "cell_type": "markdown",
   "id": "addbd613-3b15-4958-8d10-b34580d27943",
   "metadata": {},
   "source": [
    "* ALLN --> Protein degradation 0.74\n",
    "* Bryostatin --> Kinase inhibitors 0.76\n",
    "* MG-132 --> Protein degradation 0.74\n",
    "* methotrexate --> DNA replication 0.83\n",
    "* colchicine --> Microtubule Destabilizer 0.83\n",
    "* cytochalasin B --> Actin disruption 0.87\n",
    "* AZ258 --> Aurora Kinase inhibitor 0.90\n",
    "* cisplatin --> DNA damage 0.78"
   ]
  },
  {
   "cell_type": "code",
   "execution_count": null,
   "id": "7ab74c54-71ea-4aca-83e2-b2b0e77c1885",
   "metadata": {},
   "outputs": [],
   "source": []
  }
 ],
 "metadata": {
  "kernelspec": {
   "display_name": "Python 3 (ipykernel)",
   "language": "python",
   "name": "python3"
  },
  "language_info": {
   "codemirror_mode": {
    "name": "ipython",
    "version": 3
   },
   "file_extension": ".py",
   "mimetype": "text/x-python",
   "name": "python",
   "nbconvert_exporter": "python",
   "pygments_lexer": "ipython3",
   "version": "3.9.18"
  }
 },
 "nbformat": 4,
 "nbformat_minor": 5
}
