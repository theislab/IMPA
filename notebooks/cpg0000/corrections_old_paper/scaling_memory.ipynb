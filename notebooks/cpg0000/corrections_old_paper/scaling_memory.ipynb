{
 "cells": [
  {
   "cell_type": "code",
   "execution_count": 1,
   "id": "3132b5ed-bfb4-4a68-a02b-6f9b6e4bcbeb",
   "metadata": {},
   "outputs": [
    {
     "name": "stderr",
     "output_type": "stream",
     "text": [
      "An NVIDIA GPU may be present on this machine, but a CUDA-enabled jaxlib is not installed. Falling back to cpu.\n"
     ]
    }
   ],
   "source": [
    "from IMPA.dataset.data_loader import CellDataLoader\n",
    "from IMPA.solver import IMPAmodule\n",
    "from IMPA.model import build_model\n",
    "\n",
    "from omegaconf import OmegaConf\n",
    "from tqdm import tqdm\n",
    "import matplotlib.pyplot as plt\n",
    "from pathlib import Path\n",
    "import numpy as np\n",
    "import os\n",
    "import torch\n",
    "from tqdm import tqdm\n",
    "import pandas as pd\n",
    "import seaborn as sns\n",
    "from skimage import io, color, filters, measure\n",
    "import yaml\n",
    "\n",
    "import sys\n",
    "sys.path.insert(0, \"/home/icb/alessandro.palma/environment/IMPA/mol2image/models\")\n",
    "from proglow import build_proglow_model"
   ]
  },
  {
   "cell_type": "code",
   "execution_count": 2,
   "id": "317e7ca9-94f8-4108-a246-397782846aeb",
   "metadata": {},
   "outputs": [],
   "source": [
    "path_to_configs = Path(\"/home/icb/alessandro.palma/environment/IMPA/IMPA/config_hydra/config\")"
   ]
  },
  {
   "cell_type": "markdown",
   "id": "29e503bc-6962-4123-a6f6-4d7b3b31bf73",
   "metadata": {},
   "source": [
    "**Read yaml files**"
   ]
  },
  {
   "cell_type": "code",
   "execution_count": 3,
   "id": "c8ad3a8c-de5d-42be-8681-bc67de00a3f3",
   "metadata": {},
   "outputs": [],
   "source": [
    "def count_IMPA_parameters(num_domains, single_style):\n",
    "    args = {\"img_size\": 96, \n",
    "            \"style_dim\": 128,\n",
    "            \"n_channels\": 6, \n",
    "            \"dim_in\": 64,\n",
    "            \"single_style\": single_style,\n",
    "            \"stochastic\": True, \n",
    "            \"latent_dim\": 512, \n",
    "            \"z_dimension\": 64, \n",
    "            \"num_layers_mapping_net\": 1}\n",
    "    \n",
    "    num_domains = num_domains\n",
    "    args_dict = OmegaConf.create(args)\n",
    "    model = build_model(args_dict, num_domains, \"cuda\")\n",
    "    c = 0\n",
    "    for m in model:\n",
    "        c += count_params(model[m])\n",
    "    del model\n",
    "    # Free GPU memory\n",
    "    torch.cuda.empty_cache()\n",
    "    return c\n",
    "\n",
    "def count_mol2image_parameters(num_domains):\n",
    "    args_mol2image = {\"modules\": [{\"type\": \"cond_proglowmpn\", \n",
    "                \"n_flow\": 32, \n",
    "                \"n_block\": 1, \n",
    "                \"in_channel\": 6, \n",
    "                \"img_size\": 64, \n",
    "                \"checkpoint\": \"/lustre/groups/ml01/workspace/alessandro.palma/imCPA_official/results/mol2img/karren_weights/64.pth\", \n",
    "                \"n_cond\": 512}, \n",
    "                {\"type\": \"cond_proglowmpn\", \n",
    "                         \"n_flow\": 32,\n",
    "                         \"n_block\": 1, \n",
    "                         \"in_channel\": 5, \n",
    "                         \"img_size\": 32, \n",
    "                         \"checkpoint\": \"/lustre/groups/ml01/workspace/alessandro.palma/imCPA_official/results/mol2img/karren_weights/32.pth\", \"n_cond\": 512}, \n",
    "                {\"type\": \"cond_glowmpn\", \n",
    "                         \"n_flow\": 32, \n",
    "                         \"n_block\": 2, \n",
    "                         \"in_channel\": 5, \n",
    "                         \"img_size\": 16, \n",
    "                         \"checkpoint\": \"/lustre/groups/ml01/workspace/alessandro.palma/imCPA_official/results/mol2img/karren_weights/16.pth\", \"n_cond\": 512}], \n",
    "                \"z_shapes\": [[15, 32, 32], [15, 16, 16], [10, 8, 8], [40, 4, 4]], \n",
    "                \"temp\": [1.0, 1.0, 1.0, 1.0]}\n",
    "    net = build_proglow_model(args_mol2image[\"modules\"], affine=True).to(\"cuda\")\n",
    "    net.freeze_base_blocks()\n",
    "    return count_params(net)"
   ]
  },
  {
   "cell_type": "code",
   "execution_count": 4,
   "id": "21a7256a-483d-4189-9555-c55902d79db4",
   "metadata": {},
   "outputs": [],
   "source": [
    "def initialize_model_and_compute_memory(yaml_config):\n",
    "    args_rdkit = OmegaConf.create(yaml_config)\n",
    "    dataloader_rdkit = CellDataLoader(args_rdkit)\n",
    "    solver_rdkit = IMPAmodule(args_rdkit, \".\", dataloader_rdkit)\n",
    "    return solver_rdkit\n",
    "\n",
    "def count_params(model):\n",
    "    n_params = sum(p.numel() for p in model.parameters())\n",
    "    return n_params"
   ]
  },
  {
   "cell_type": "markdown",
   "id": "6353cd79-9358-4deb-a398-f7270a7b2c2f",
   "metadata": {},
   "source": [
    "Get the memory plot"
   ]
  },
  {
   "cell_type": "code",
   "execution_count": 5,
   "id": "167a6aff-e663-4077-a7a4-29bc9eea4064",
   "metadata": {},
   "outputs": [],
   "source": [
    "results = {\"number of parameters\": [],\n",
    "          \"model\": [],\n",
    "          \"number of molecules\": []\n",
    "         }"
   ]
  },
  {
   "cell_type": "code",
   "execution_count": 6,
   "id": "0ea303ad-a694-416a-9caf-4423c3653916",
   "metadata": {},
   "outputs": [],
   "source": [
    "for number_of_domains in [5000]:\n",
    "    results[\"number of parameters\"] += [number_of_domains]*3\n",
    "    # IMPA\n",
    "    # c_IMPA = count_IMPA_parameters(number_of_domains, True)\n",
    "    # starganv2\n",
    "    c_starganv2 = count_IMPA_parameters(number_of_domains, False)\n",
    "    # mol2image\n",
    "    # c_mol2image = count_mol2image_parameters(number_of_domains)"
   ]
  },
  {
   "cell_type": "code",
   "execution_count": null,
   "id": "4371e73a-b19d-4539-a3a1-b422b705a4d5",
   "metadata": {},
   "outputs": [],
   "source": [
    "c_mol2image"
   ]
  },
  {
   "cell_type": "code",
   "execution_count": 7,
   "id": "1553a2a3-7561-49cd-97c5-42366b56c08d",
   "metadata": {},
   "outputs": [
    {
     "data": {
      "text/plain": [
       "4653217678"
      ]
     },
     "execution_count": 7,
     "metadata": {},
     "output_type": "execute_result"
    }
   ],
   "source": [
    "c_starganv2"
   ]
  },
  {
   "cell_type": "code",
   "execution_count": null,
   "id": "18da9a53-4d88-4a0d-8086-00b64750fd2b",
   "metadata": {},
   "outputs": [],
   "source": []
  },
  {
   "cell_type": "code",
   "execution_count": null,
   "id": "5922b993-1012-4415-9a5d-851bcca4aef5",
   "metadata": {},
   "outputs": [],
   "source": []
  }
 ],
 "metadata": {
  "kernelspec": {
   "display_name": "Python 3 (ipykernel)",
   "language": "python",
   "name": "python3"
  },
  "language_info": {
   "codemirror_mode": {
    "name": "ipython",
    "version": 3
   },
   "file_extension": ".py",
   "mimetype": "text/x-python",
   "name": "python",
   "nbconvert_exporter": "python",
   "pygments_lexer": "ipython3",
   "version": "3.9.18"
  }
 },
 "nbformat": 4,
 "nbformat_minor": 5
}
