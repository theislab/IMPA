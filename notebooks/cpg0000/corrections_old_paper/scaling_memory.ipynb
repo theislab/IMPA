{
 "cells": [
  {
   "cell_type": "code",
   "execution_count": 1,
   "id": "3132b5ed-bfb4-4a68-a02b-6f9b6e4bcbeb",
   "metadata": {},
   "outputs": [
    {
     "name": "stderr",
     "output_type": "stream",
     "text": [
      "An NVIDIA GPU may be present on this machine, but a CUDA-enabled jaxlib is not installed. Falling back to cpu.\n"
     ]
    }
   ],
   "source": [
    "from IMPA.dataset.data_loader import CellDataLoader\n",
    "from IMPA.solver import IMPAmodule\n",
    "from IMPA.model import build_model\n",
    "\n",
    "from omegaconf import OmegaConf\n",
    "from tqdm import tqdm\n",
    "import matplotlib.pyplot as plt\n",
    "from pathlib import Path\n",
    "import numpy as np\n",
    "import os\n",
    "import torch\n",
    "from tqdm import tqdm\n",
    "import pandas as pd\n",
    "import seaborn as sns\n",
    "from skimage import io, color, filters, measure\n",
    "import yaml\n",
    "\n",
    "import sys\n",
    "sys.path.insert(0, \"/home/icb/alessandro.palma/environment/IMPA/mol2image/models\")\n",
    "from proglow import build_proglow_model"
   ]
  },
  {
   "cell_type": "code",
   "execution_count": 2,
   "id": "317e7ca9-94f8-4108-a246-397782846aeb",
   "metadata": {},
   "outputs": [],
   "source": [
    "path_to_configs = Path(\"/home/icb/alessandro.palma/environment/IMPA/IMPA/config_hydra/config\")"
   ]
  },
  {
   "cell_type": "markdown",
   "id": "29e503bc-6962-4123-a6f6-4d7b3b31bf73",
   "metadata": {},
   "source": [
    "**Read yaml files**"
   ]
  },
  {
   "cell_type": "code",
   "execution_count": 3,
   "id": "c8ad3a8c-de5d-42be-8681-bc67de00a3f3",
   "metadata": {},
   "outputs": [],
   "source": [
    "def count_IMPA_parameters(num_domains, single_style):\n",
    "    args = {\"img_size\": 96, \n",
    "            \"style_dim\": 128,\n",
    "            \"n_channels\": 6, \n",
    "            \"dim_in\": 64,\n",
    "            \"single_style\": single_style,\n",
    "            \"stochastic\": True, \n",
    "            \"latent_dim\": 512, \n",
    "            \"z_dimension\": 64, \n",
    "            \"num_layers_mapping_net\": 1}\n",
    "    \n",
    "    num_domains = num_domains\n",
    "    args_dict = OmegaConf.create(args)\n",
    "    model = build_model(args_dict, num_domains, \"cuda\")\n",
    "    c = 0\n",
    "    for m in model:\n",
    "        c += count_params(model[m])\n",
    "    del model\n",
    "    # Free GPU memory\n",
    "    torch.cuda.empty_cache()\n",
    "    return c\n",
    "\n",
    "def count_mol2image_parameters(num_domains):\n",
    "    args_mol2image = {\"modules\": [{\"type\": \"cond_proglowmpn\", \n",
    "                \"n_flow\": 32, \n",
    "                \"n_block\": 1, \n",
    "                \"in_channel\": 6, \n",
    "                \"img_size\": 64, \n",
    "                \"checkpoint\": \"/lustre/groups/ml01/workspace/alessandro.palma/imCPA_official/results/mol2img/karren_weights/64.pth\", \n",
    "                \"n_cond\": 512}, \n",
    "                {\"type\": \"cond_proglowmpn\", \n",
    "                         \"n_flow\": 32,\n",
    "                         \"n_block\": 1, \n",
    "                         \"in_channel\": 5, \n",
    "                         \"img_size\": 32, \n",
    "                         \"checkpoint\": \"/lustre/groups/ml01/workspace/alessandro.palma/imCPA_official/results/mol2img/karren_weights/32.pth\", \"n_cond\": 512}, \n",
    "                {\"type\": \"cond_glowmpn\", \n",
    "                         \"n_flow\": 32, \n",
    "                         \"n_block\": 2, \n",
    "                         \"in_channel\": 5, \n",
    "                         \"img_size\": 16, \n",
    "                         \"checkpoint\": \"/lustre/groups/ml01/workspace/alessandro.palma/imCPA_official/results/mol2img/karren_weights/16.pth\", \"n_cond\": 512}], \n",
    "                \"z_shapes\": [[15, 32, 32], [15, 16, 16], [10, 8, 8], [40, 4, 4]], \n",
    "                \"temp\": [1.0, 1.0, 1.0, 1.0]}\n",
    "    net = build_proglow_model(args_mol2image[\"modules\"], affine=True).to(\"cuda\")\n",
    "    net.freeze_base_blocks()\n",
    "    return count_params(net)"
   ]
  },
  {
   "cell_type": "code",
   "execution_count": 4,
   "id": "21a7256a-483d-4189-9555-c55902d79db4",
   "metadata": {},
   "outputs": [],
   "source": [
    "def initialize_model_and_compute_memory(yaml_config):\n",
    "    args_rdkit = OmegaConf.create(yaml_config)\n",
    "    dataloader_rdkit = CellDataLoader(args_rdkit)\n",
    "    solver_rdkit = IMPAmodule(args_rdkit, \".\", dataloader_rdkit)\n",
    "    return solver_rdkit\n",
    "\n",
    "def count_params(model):\n",
    "    n_params = sum(p.numel() for p in model.parameters())\n",
    "    return n_params"
   ]
  },
  {
   "cell_type": "markdown",
   "id": "6353cd79-9358-4deb-a398-f7270a7b2c2f",
   "metadata": {},
   "source": [
    "Get the memory plot"
   ]
  },
  {
   "cell_type": "code",
   "execution_count": 5,
   "id": "0ea303ad-a694-416a-9caf-4423c3653916",
   "metadata": {},
   "outputs": [
    {
     "name": "stderr",
     "output_type": "stream",
     "text": [
      "/home/icb/alessandro.palma/environment/IMPA/mol2image/models/glow.py:108: UserWarning: The given NumPy array is not writable, and PyTorch does not support non-writable tensors. This means writing to this tensor will result in undefined behavior. You may want to copy the array to protect its data or make it writable before converting it to a tensor. This type of warning will be suppressed for the rest of this program. (Triggered internally at ../torch/csrc/utils/tensor_numpy.cpp:206.)\n",
      "  w_s = torch.from_numpy(w_s)\n"
     ]
    }
   ],
   "source": [
    "results = {\"number of parameters\": [],\n",
    "          \"model\": [],\n",
    "          \"number of molecules\": []\n",
    "         }\n",
    "\n",
    "for number_of_domains in [100, 500, 1000, 5000, 10000, 50000]:\n",
    "    # IMPA\n",
    "    c_IMPA = count_IMPA_parameters(number_of_domains, True)\n",
    "    results[\"model\"].append(\"IMPA\")\n",
    "    results[\"number of molecules\"].append(number_of_domains)\n",
    "    results[\"number of parameters\"].append(c_IMPA)\n",
    "    # starganv2\n",
    "    if number_of_domains < 10000:\n",
    "        c_starganv2 = count_IMPA_parameters(number_of_domains, False)\n",
    "        results[\"model\"].append(\"starGANv2\")\n",
    "        results[\"number of molecules\"].append(number_of_domains)\n",
    "        results[\"number of parameters\"].append(c_starganv2)\n",
    "    # mol2image\n",
    "    c_mol2image = count_mol2image_parameters(number_of_domains)\n",
    "    results[\"model\"].append(\"Mol2Image\")\n",
    "    results[\"number of molecules\"].append(number_of_domains)\n",
    "    results[\"number of parameters\"].append(c_mol2image)"
   ]
  },
  {
   "cell_type": "code",
   "execution_count": 6,
   "id": "d1855f31-2e1d-4c48-af1b-95544fd7a5d9",
   "metadata": {},
   "outputs": [],
   "source": [
    "results_df = pd.DataFrame(results) "
   ]
  },
  {
   "cell_type": "code",
   "execution_count": 7,
   "id": "d6d145cf-55e2-4279-9386-36924b267ac7",
   "metadata": {},
   "outputs": [],
   "source": [
    "results_df[\"number of parameters\"] =  np.log(results_df[\"number of parameters\"])"
   ]
  },
  {
   "cell_type": "code",
   "execution_count": 28,
   "id": "4371e73a-b19d-4539-a3a1-b422b705a4d5",
   "metadata": {},
   "outputs": [
    {
     "data": {
      "image/png": "[encoded data removed]",
      "text/plain": [
       "<Figure size 500x300 with 1 Axes>"
      ]
     },
     "metadata": {},
     "output_type": "display_data"
    }
   ],
   "source": [
    "plt.figure(figsize=(5,3))\n",
    "sns.set(style=\"whitegrid\")\n",
    "\n",
    "# Plot the lineplot with markers\n",
    "sns.lineplot(data=results_df, \n",
    "             x=\"number of molecules\",\n",
    "             y=\"number of parameters\", \n",
    "             hue=\"model\", \n",
    "             marker=\"o\",\n",
    "             palette=\"colorblind\", \n",
    "             markersize=9\n",
    "            )\n",
    "# Set the title and labels\n",
    "# plt.title('number of Parameters vs Number of Molecules')\n",
    "plt.tight_layout()\n",
    "plt.xlabel('number of Molecules')\n",
    "plt.ylabel('log Number of Parameters')\n",
    "# plt.legend(bbox_to_anchor=(1.05, 1), loc='upper left')\n",
    "plt.savefig(\"/home/icb/alessandro.palma/environment/IMPA/IMPA/notebooks/cpg0000/corrections_old_paper/plots/impa_vs_stargan_vs_mol2image.svg\", format=\"svg\")\n",
    "\n",
    "# Show the plot\n",
    "plt.show()"
   ]
  },
  {
   "cell_type": "code",
   "execution_count": null,
   "id": "18da9a53-4d88-4a0d-8086-00b64750fd2b",
   "metadata": {},
   "outputs": [],
   "source": []
  },
  {
   "cell_type": "code",
   "execution_count": null,
   "id": "5922b993-1012-4415-9a5d-851bcca4aef5",
   "metadata": {},
   "outputs": [],
   "source": []
  }
 ],
 "metadata": {
  "kernelspec": {
   "display_name": "Python 3 (ipykernel)",
   "language": "python",
   "name": "python3"
  },
  "language_info": {
   "codemirror_mode": {
    "name": "ipython",
    "version": 3
   },
   "file_extension": ".py",
   "mimetype": "text/x-python",
   "name": "python",
   "nbconvert_exporter": "python",
   "pygments_lexer": "ipython3",
   "version": "3.9.18"
  }
 },
 "nbformat": 4,
 "nbformat_minor": 5
}
