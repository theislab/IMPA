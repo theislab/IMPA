{
 "cells": [
  {
   "cell_type": "code",
   "execution_count": 1,
   "id": "e8e72c48-1490-4a98-86a0-52d915ef9f3a",
   "metadata": {},
   "outputs": [
    {
     "name": "stderr",
     "output_type": "stream",
     "text": [
      "An NVIDIA GPU may be present on this machine, but a CUDA-enabled jaxlib is not installed. Falling back to cpu.\n"
     ]
    }
   ],
   "source": [
    "from IMPA.dataset.data_loader import CellDataLoader\n",
    "from IMPA.model import Discriminator\n",
    "from IMPA.solver import IMPAmodule\n",
    "from omegaconf import OmegaConf\n",
    "from tqdm import tqdm\n",
    "import matplotlib.pyplot as plt\n",
    "from pathlib import Path\n",
    "import numpy as np\n",
    "import os\n",
    "import torch\n",
    "from torch import optim\n",
    "from torch import nn\n",
    "from pytorch_lightning import LightningModule\n",
    "from pytorch_lightning.callbacks import ModelCheckpoint\n",
    "from pytorch_lightning import Trainer\n",
    "import seaborn\n",
    "from sklearn.metrics import confusion_matrix, precision_score, recall_score, f1_score, accuracy_score\n",
    "import matplotlib.pyplot as plt\n",
    "import pandas as pd\n",
    "import seaborn as sns"
   ]
  },
  {
   "cell_type": "code",
   "execution_count": 2,
   "id": "21b2c29d-cb0f-45b6-bf2d-efce2cb8fc15",
   "metadata": {},
   "outputs": [],
   "source": [
    "def calculate_metrics(predictions, labels):\n",
    "    # Convert predictions and labels to numpy arrays\n",
    "    predictions = predictions.cpu().numpy()\n",
    "    labels = labels.cpu().numpy()\n",
    "\n",
    "    # Calculate metrics\n",
    "    accuracy = accuracy_score(labels, predictions)\n",
    "    precision = precision_score(labels, predictions, average='weighted')  # Change 'weighted' to 'micro', 'macro', or 'samples'\n",
    "    recall = recall_score(labels, predictions, average='weighted')  # Change 'weighted' to 'micro', 'macro', or 'samples'\n",
    "    f1 = f1_score(labels, predictions, average='weighted')  # Change 'weighted' to 'micro', 'macro', or 'samples'\n",
    "\n",
    "    # Calculate confusion matrix\n",
    "    cm = confusion_matrix(labels, predictions)\n",
    "\n",
    "    return accuracy, precision, recall, f1, cm\n",
    "\n",
    "def plot_confusion_matrix(cm, classes):\n",
    "    plt.figure(figsize=(8, 8))\n",
    "    sns.heatmap(cm, annot=True, fmt=\"d\", cmap=\"Blues\", xticklabels=classes, yticklabels=classes)\n",
    "    plt.title(\"Confusion Matrix\")\n",
    "    plt.xlabel(\"Predicted\")\n",
    "    plt.ylabel(\"Actual\")\n",
    "    plt.show()"
   ]
  },
  {
   "cell_type": "markdown",
   "id": "55462c43-eaff-44ba-af43-cafcb09516ad",
   "metadata": {},
   "source": [
    "# Real cells"
   ]
  },
  {
   "cell_type": "code",
   "execution_count": 3,
   "id": "e9095a1c-ceb0-4511-82a4-f14e5dd64020",
   "metadata": {},
   "outputs": [],
   "source": [
    "args_real = {\n",
    "    \"task_name\": \"cpg0000_batch\",\n",
    "    \"img_size\": 96,\n",
    "    \"latent_dim\": 100,\n",
    "    \"hidden_dim\": 512,\n",
    "    \"style_dim\": 64,\n",
    "    \"stochastic\": True,\n",
    "    \"z_dimension\": 10,\n",
    "    \"dim_in\": 64,\n",
    "    \"pert_modelling\": False,\n",
    "    \"batch_key\": \"PLATE\",\n",
    "    \"subsample_frac\": 0.05,\n",
    "    \"lambda_reg\": 1,\n",
    "    \"lambda_cyc\": 1,\n",
    "    \"lambda_sty\": 1,\n",
    "    \"lambda_ds\": 1,\n",
    "    \"total_epochs\": 20,\n",
    "    \"ds_iter\": 100000,\n",
    "    \"resume_iter\": 0,\n",
    "    \"batch_size\": 32,\n",
    "    \"val_batch_size\": 20,\n",
    "    \"lr\": 0.0001,\n",
    "    \"f_lr\": 0.0001,\n",
    "    \"beta1\": 0,\n",
    "    \"beta2\": 0.99,\n",
    "    \"weight_decay\": 0.0001,\n",
    "    \"num_outs_per_domain\": 10,\n",
    "    \"single_style\": True,\n",
    "    \"ood_set\": None,\n",
    "    \"mol_list\": None,\n",
    "    \"balanced\": False,\n",
    "    \"trainable_emb\": True,\n",
    "    \"dataset_name\": \"cpg0000\",\n",
    "    \"n_channels\": 5,\n",
    "    \"num_workers\": 6,\n",
    "    \"seed\": 42,\n",
    "    \"image_path\": \"/lustre/groups/ml01/datasets/projects/cpg0000_alessandro/cpg0000_u2os_normalized_segmented_large\",\n",
    "    \"data_index_path\": \"/lustre/groups/ml01/datasets/projects/cpg0000_alessandro/metadata/metadata_large.csv\",\n",
    "    \"embedding_path\": None,\n",
    "    \"resume_dir\": \"/home/icb/alessandro.palma/environment/IMPA/IMPA/project_folder/experiments/20240101_348bb3f1-6a5b-47f2-9388-b05ba74dfcc6_cpg0000_batch/\",\n",
    "    \"augment_train\": True,\n",
    "    \"normalize\": True,\n",
    "    \"print_every\": 10,\n",
    "    \"sample_every\": 1000,\n",
    "    \"save_every\": 500,\n",
    "    \"eval_every\": 500,\n",
    "    \"encode_rdkit\": True,\n",
    "    \"num_layers_mapping_net\": 1,\n",
    "    \"filename\": \"epoch_{epoch:04d}\",\n",
    "    \"monitor\": \"fid_transformations\",\n",
    "    \"mode\": \"min\",\n",
    "    \"save_last\": True,\n",
    "    \"offline\": False,\n",
    "    \"project\": \"cpg0000_batch\",\n",
    "    \"log_model\": False,\n",
    "    \"accelerator\": \"gpu\",\n",
    "    \"log_every_n_steps\": 10\n",
    "}\n",
    "\n",
    "args_real = OmegaConf.create(args_real)\n",
    "dataloader_real = CellDataLoader(args_real)\n",
    "real_prediction_set = [dataloader_real.train_dataloader(), \n",
    "                          dataloader_real.val_dataloader()]"
   ]
  },
  {
   "cell_type": "markdown",
   "id": "117d9b61-982f-4fb0-8c21-f9cd40859970",
   "metadata": {},
   "source": [
    "# Generated cells"
   ]
  },
  {
   "cell_type": "code",
   "execution_count": 4,
   "id": "6527b425-9356-4da9-834f-7ac6c4fb28c9",
   "metadata": {},
   "outputs": [],
   "source": [
    "args_generated = {\n",
    "    \"task_name\": \"cpg0000_batch\",\n",
    "    \"img_size\": 96,\n",
    "    \"latent_dim\": 100,\n",
    "    \"hidden_dim\": 512,\n",
    "    \"style_dim\": 64,\n",
    "    \"stochastic\": True,\n",
    "    \"z_dimension\": 10,\n",
    "    \"dim_in\": 64,\n",
    "    \"pert_modelling\": False,\n",
    "    \"batch_key\": \"PLATE\",\n",
    "    \"subsample_frac\": 0.05,\n",
    "    \"lambda_reg\": 1,\n",
    "    \"lambda_cyc\": 1,\n",
    "    \"lambda_sty\": 1,\n",
    "    \"lambda_ds\": 1,\n",
    "    \"total_epochs\": 20,\n",
    "    \"ds_iter\": 100000,\n",
    "    \"resume_iter\": 0,\n",
    "    \"batch_size\": 32,\n",
    "    \"val_batch_size\": 20,\n",
    "    \"lr\": 0.0001,\n",
    "    \"f_lr\": 0.0001,\n",
    "    \"beta1\": 0,\n",
    "    \"beta2\": 0.99,\n",
    "    \"weight_decay\": 0.0001,\n",
    "    \"num_outs_per_domain\": 10,\n",
    "    \"single_style\": True,\n",
    "    \"ood_set\": None,\n",
    "    \"mol_list\": None,\n",
    "    \"balanced\": False,\n",
    "    \"trainable_emb\": True,\n",
    "    \"dataset_name\": \"cpg0000\",\n",
    "    \"n_channels\": 5,\n",
    "    \"num_workers\": 6,\n",
    "    \"seed\": 42,\n",
    "    \"image_path\": \"/lustre/groups/ml01/datasets/projects/cpg0000_alessandro/cpg0000_u2os_normalized_segmented_large_transported\",\n",
    "    \"data_index_path\": \"/lustre/groups/ml01/datasets/projects/cpg0000_alessandro/metadata/metadata_large.csv\",\n",
    "    \"embedding_path\": None,\n",
    "    \"resume_dir\": None,\n",
    "    \"augment_train\": True,\n",
    "    \"normalize\": True,\n",
    "    \"print_every\": 10,\n",
    "    \"sample_every\": 1000,\n",
    "    \"save_every\": 500,\n",
    "    \"eval_every\": 500,\n",
    "    \"encode_rdkit\": True,\n",
    "    \"num_layers_mapping_net\": 1,\n",
    "    \"filename\": \"epoch_{epoch:04d}\",\n",
    "    \"monitor\": \"fid_transformations\",\n",
    "    \"mode\": \"min\",\n",
    "    \"save_last\": True,\n",
    "    \"offline\": False,\n",
    "    \"project\": \"cpg0000_batch\",\n",
    "    \"log_model\": False,\n",
    "    \"accelerator\": \"gpu\",\n",
    "    \"log_every_n_steps\": 10\n",
    "}\n",
    "args_generated = OmegaConf.create(args_generated)\n",
    "dataloader_generated = CellDataLoader(args_generated)\n",
    "generated_prediction_set = [dataloader_generated.train_dataloader(), \n",
    "                              dataloader_generated.val_dataloader()]"
   ]
  },
  {
   "cell_type": "markdown",
   "id": "9cc20d58-1f75-43a0-b244-2060b8953c20",
   "metadata": {},
   "source": [
    "## Initialize Discriminator"
   ]
  },
  {
   "cell_type": "code",
   "execution_count": 5,
   "id": "6769bc27-ec49-4f8b-a423-a26bc93e261e",
   "metadata": {},
   "outputs": [
    {
     "data": {
      "text/plain": [
       "10"
      ]
     },
     "execution_count": 5,
     "metadata": {},
     "output_type": "execute_result"
    }
   ],
   "source": [
    "dataloader_generated.n_mol"
   ]
  },
  {
   "cell_type": "code",
   "execution_count": 6,
   "id": "eb96255e-797a-4d1d-a83a-a1fc6b31ab8b",
   "metadata": {},
   "outputs": [],
   "source": [
    "classifier_net = Discriminator(img_size=96,\n",
    "                                  num_domains=dataloader_generated.n_mol, \n",
    "                                  max_conv_dim=512, \n",
    "                                  in_channels=5, \n",
    "                                  dim_in=64,\n",
    "                                  multi_task=False)"
   ]
  },
  {
   "cell_type": "code",
   "execution_count": 7,
   "id": "abda8482-32b8-4572-b5a2-eb1a8a7440fc",
   "metadata": {},
   "outputs": [],
   "source": [
    "class Classifier(LightningModule):\n",
    "    def __init__(self, model, learning_rate=1e-3):\n",
    "        super().__init__()\n",
    "        self.model = model\n",
    "        self.criterion = nn.CrossEntropyLoss()\n",
    "        self.learning_rate = learning_rate\n",
    "\n",
    "    def forward(self, x):\n",
    "        return self.model(x, None)\n",
    "\n",
    "    def training_step(self, batch, batch_idx):\n",
    "        X, labels = batch[\"X\"], batch[\"mol_one_hot\"].argmax(1)\n",
    "        outputs = self.model(X, None)\n",
    "        loss = self.criterion(outputs, labels)\n",
    "        return loss\n",
    "\n",
    "    def val_step(self, batch, batch_idx):\n",
    "        X, labels = batch[\"X\"], batch[\"mol_one_hot\"].argmax(1)\n",
    "        outputs = self.model(X, None)\n",
    "        loss = self.criterion(outputs, labels)\n",
    "        acc = (torch.argmax(outputs, dim=1) == labels).sum().item() / len(labels)\n",
    "        self.log('val_loss', loss, prog_bar=True)\n",
    "        self.log('val_acc', acc, prog_bar=True)\n",
    "        return loss\n",
    "\n",
    "    def validation_step(self, batch, batch_idx):\n",
    "        loss = self.val_step(batch, batch_idx)\n",
    "        return loss\n",
    "        \n",
    "    def test_step(self, batch, batch_idx):\n",
    "        loss = self.val_step(batch, batch_idx)\n",
    "        return loss\n",
    "\n",
    "    def configure_optimizers(self):\n",
    "        return optim.Adam(self.parameters(), lr=self.learning_rate)\n"
   ]
  },
  {
   "cell_type": "code",
   "execution_count": 8,
   "id": "100f733c-1712-430c-be0d-36e30b9a981a",
   "metadata": {},
   "outputs": [
    {
     "data": {
      "text/plain": [
       "Classifier(\n",
       "  (model): Discriminator(\n",
       "    (conv): Sequential(\n",
       "      (0): Conv2d(5, 64, kernel_size=(3, 3), stride=(1, 1), padding=(1, 1))\n",
       "      (1): ResBlk(\n",
       "        (actv): LeakyReLU(negative_slope=0.2)\n",
       "        (conv1): Conv2d(64, 64, kernel_size=(3, 3), stride=(1, 1), padding=(1, 1))\n",
       "        (conv2): Conv2d(64, 128, kernel_size=(3, 3), stride=(1, 1), padding=(1, 1))\n",
       "        (conv1x1): Conv2d(64, 128, kernel_size=(1, 1), stride=(1, 1), bias=False)\n",
       "      )\n",
       "      (2): ResBlk(\n",
       "        (actv): LeakyReLU(negative_slope=0.2)\n",
       "        (conv1): Conv2d(128, 128, kernel_size=(3, 3), stride=(1, 1), padding=(1, 1))\n",
       "        (conv2): Conv2d(128, 256, kernel_size=(3, 3), stride=(1, 1), padding=(1, 1))\n",
       "        (conv1x1): Conv2d(128, 256, kernel_size=(1, 1), stride=(1, 1), bias=False)\n",
       "      )\n",
       "      (3): ResBlk(\n",
       "        (actv): LeakyReLU(negative_slope=0.2)\n",
       "        (conv1): Conv2d(256, 256, kernel_size=(3, 3), stride=(1, 1), padding=(1, 1))\n",
       "        (conv2): Conv2d(256, 512, kernel_size=(3, 3), stride=(1, 1), padding=(1, 1))\n",
       "        (conv1x1): Conv2d(256, 512, kernel_size=(1, 1), stride=(1, 1), bias=False)\n",
       "      )\n",
       "      (4): ResBlk(\n",
       "        (actv): LeakyReLU(negative_slope=0.2)\n",
       "        (conv1): Conv2d(512, 512, kernel_size=(3, 3), stride=(1, 1), padding=(1, 1))\n",
       "        (conv2): Conv2d(512, 512, kernel_size=(3, 3), stride=(1, 1), padding=(1, 1))\n",
       "      )\n",
       "      (5): ResBlk(\n",
       "        (actv): LeakyReLU(negative_slope=0.2)\n",
       "        (conv1): Conv2d(512, 512, kernel_size=(3, 3), stride=(1, 1), padding=(1, 1))\n",
       "        (conv2): Conv2d(512, 512, kernel_size=(3, 3), stride=(1, 1), padding=(1, 1))\n",
       "      )\n",
       "      (6): LeakyReLU(negative_slope=0.2, inplace=True)\n",
       "      (7): Conv2d(512, 512, kernel_size=(3, 3), stride=(1, 1))\n",
       "      (8): LeakyReLU(negative_slope=0.2, inplace=True)\n",
       "      (9): Conv2d(512, 10, kernel_size=(1, 1), stride=(1, 1))\n",
       "    )\n",
       "  )\n",
       "  (criterion): CrossEntropyLoss()\n",
       ")"
      ]
     },
     "execution_count": 8,
     "metadata": {},
     "output_type": "execute_result"
    }
   ],
   "source": [
    "classifier = Classifier(classifier_net, 0.0001)\n",
    "classifier.to(\"cuda\")"
   ]
  },
  {
   "cell_type": "code",
   "execution_count": 9,
   "id": "cacd56f4-6226-4222-b626-2759d2b67ada",
   "metadata": {},
   "outputs": [
    {
     "data": {
      "text/plain": [
       "<All keys matched successfully>"
      ]
     },
     "execution_count": 9,
     "metadata": {},
     "output_type": "execute_result"
    }
   ],
   "source": [
    "classifier.load_state_dict(torch.load(\"/home/icb/alessandro.palma/environment/IMPA/IMPA/project_folder/batch_classifier_results/cpg0000/best_model.ckpt\")[\"state_dict\"])"
   ]
  },
  {
   "cell_type": "markdown",
   "id": "fa27180a-abcb-49e8-8cd0-e09048ca9bc7",
   "metadata": {},
   "source": [
    "Prediction Real cells"
   ]
  },
  {
   "cell_type": "code",
   "execution_count": 10,
   "id": "c22795c0-5248-436b-9f12-35185af0cb29",
   "metadata": {
    "scrolled": true
   },
   "outputs": [
    {
     "name": "stderr",
     "output_type": "stream",
     "text": [
      "100%|██████████| 10879/10879 [22:51<00:00,  7.93it/s]\n",
      "100%|██████████| 4352/4352 [04:37<00:00, 15.67it/s]\n"
     ]
    }
   ],
   "source": [
    "true_labels_real = []\n",
    "predicted_labels_real = []\n",
    "for set in real_prediction_set:\n",
    "    for batch in tqdm(set):\n",
    "        with torch.no_grad():\n",
    "            X = batch[\"X\"].to(\"cuda\")\n",
    "            pred = classifier(X)\n",
    "            predicted_labels_real.append(pred.argmax(1).cpu())\n",
    "            true_labels_real.append(batch[\"mol_one_hot\"].argmax(1).cpu())"
   ]
  },
  {
   "cell_type": "code",
   "execution_count": 11,
   "id": "cc96247c-9468-4f9c-bedf-8a10301fcb14",
   "metadata": {},
   "outputs": [],
   "source": [
    "true_labels_real=torch.cat(true_labels_real)\n",
    "predicted_labels_real=torch.cat(predicted_labels_real)"
   ]
  },
  {
   "cell_type": "code",
   "execution_count": 12,
   "id": "dcc2bd0f-e32f-45aa-9b75-4d3fa6b63bb4",
   "metadata": {},
   "outputs": [
    {
     "data": {
      "text/plain": [
       "(0.8314187162912118,\n",
       " 0.8380029406360389,\n",
       " 0.8314187162912118,\n",
       " 0.833823100082724,\n",
       " array([[44908,     2,    90,   230,     1,     5,     4,     3,     2,\n",
       "             2],\n",
       "        [    0, 43506,   536,   231,    10,     9,     4,     2,    22,\n",
       "            21],\n",
       "        [   22,   847, 38157,  7537,     4,     2,     3,     2,    13,\n",
       "             9],\n",
       "        [   58,    71,  8518, 45016,     2,     2,     1,     3,     5,\n",
       "             3],\n",
       "        [    0,     0,     0,     0, 23785,  7689,  1224,  2322,     3,\n",
       "             0],\n",
       "        [    0,     0,     0,     1,  7901, 23617,   671,  2675,     4,\n",
       "             6],\n",
       "        [    1,     0,     0,     0,  3778,  1906, 35669,  1735,     3,\n",
       "             2],\n",
       "        [    0,     0,     0,     0,  3530,  6109,   937, 32012,     4,\n",
       "            13],\n",
       "        [    1,    68,    15,     1,   370,   334,    36,   222, 39337,\n",
       "          6581],\n",
       "        [    0,    60,     4,     1,   354,   466,    47,   454,  5556,\n",
       "         35794]]))"
      ]
     },
     "execution_count": 12,
     "metadata": {},
     "output_type": "execute_result"
    }
   ],
   "source": [
    "calculate_metrics(true_labels_real, predicted_labels_real)"
   ]
  },
  {
   "cell_type": "code",
   "execution_count": 13,
   "id": "3cd01995-eb2c-4aec-b721-e7b30e35e3c4",
   "metadata": {},
   "outputs": [
    {
     "data": {
      "text/plain": [
       "435161"
      ]
     },
     "execution_count": 13,
     "metadata": {},
     "output_type": "execute_result"
    }
   ],
   "source": [
    "len(true_labels_real)"
   ]
  },
  {
   "cell_type": "markdown",
   "id": "f42c8be9-3337-4f75-86f7-2949161f0452",
   "metadata": {},
   "source": [
    "Prediction generated cells "
   ]
  },
  {
   "cell_type": "code",
   "execution_count": 14,
   "id": "a6303edd-8abf-4e6e-802c-4f6cb010443f",
   "metadata": {
    "scrolled": true
   },
   "outputs": [
    {
     "name": "stderr",
     "output_type": "stream",
     "text": [
      "100%|██████████| 10879/10879 [19:15<00:00,  9.42it/s]\n",
      "100%|██████████| 4352/4352 [03:40<00:00, 19.76it/s]\n"
     ]
    }
   ],
   "source": [
    "true_labels_generated= []\n",
    "predicted_labels_generated = []\n",
    "for set in generated_prediction_set:\n",
    "    try:\n",
    "        for batch in tqdm(set):\n",
    "            with torch.no_grad():\n",
    "                X = batch[\"X\"].to(\"cuda\")\n",
    "                pred = classifier(X)\n",
    "                predicted_labels_generated.append(pred.argmax(1).cpu())\n",
    "                true_labels_generated.append(batch[\"mol_one_hot\"].argmax(1).cpu())\n",
    "    except:\n",
    "        continue"
   ]
  },
  {
   "cell_type": "code",
   "execution_count": 15,
   "id": "0f817d79-3684-4a61-a585-3157e003fba6",
   "metadata": {},
   "outputs": [],
   "source": [
    "true_labels_generated=torch.cat(true_labels_generated)\n",
    "predicted_labels_generated=torch.cat(predicted_labels_generated)"
   ]
  },
  {
   "cell_type": "code",
   "execution_count": 16,
   "id": "d258891c-6100-4025-9d37-94c987bc15cd",
   "metadata": {
    "scrolled": true
   },
   "outputs": [
    {
     "name": "stderr",
     "output_type": "stream",
     "text": [
      "/home/icb/alessandro.palma/miniconda3/envs/IMPA_try/lib/python3.9/site-packages/sklearn/metrics/_classification.py:1318: UndefinedMetricWarning: Recall is ill-defined and being set to 0.0 in labels with no true samples. Use `zero_division` parameter to control this behavior.\n",
      "  _warn_prf(average, modifier, msg_start, len(result))\n"
     ]
    },
    {
     "data": {
      "text/plain": [
       "(0.1161822865560103,\n",
       " 0.7179122709079424,\n",
       " 0.1161822865560103,\n",
       " 0.17823331102553924,\n",
       " array([[37042, 34013, 35699, 39326, 36070, 36205, 34055, 35966, 40050,\n",
       "         38386],\n",
       "        [   84,    97,   140,   139,   140,   140,   279,   139,    57,\n",
       "            48],\n",
       "        [ 2309,  2259,  2775,  2911,  1477,  1627,  2149,  1404,  2637,\n",
       "          2020],\n",
       "        [ 5555,  8184,  8706, 10640,  2043,  2163,  2103,  1914,  2205,\n",
       "          1977],\n",
       "        [    0,     0,     0,     0,     0,     0,     0,     0,     0,\n",
       "             0],\n",
       "        [    0,     1,     0,     1,     0,     0,     5,     0,     0,\n",
       "             0],\n",
       "        [    0,     0,     0,     0,     0,     0,     1,     1,     0,\n",
       "             0],\n",
       "        [    0,     0,     0,     0,     2,     3,     3,     3,     0,\n",
       "             0],\n",
       "        [    0,     0,     0,     0,     2,     1,     0,     2,     0,\n",
       "             0],\n",
       "        [    0,     0,     0,     0,     1,     0,     1,     1,     0,\n",
       "             0]]))"
      ]
     },
     "execution_count": 16,
     "metadata": {},
     "output_type": "execute_result"
    }
   ],
   "source": [
    "calculate_metrics(true_labels_generated, predicted_labels_generated)"
   ]
  },
  {
   "cell_type": "code",
   "execution_count": 17,
   "id": "660d988e-fa7e-4467-a087-55082a938aeb",
   "metadata": {},
   "outputs": [
    {
     "data": {
      "text/plain": [
       "435161"
      ]
     },
     "execution_count": 17,
     "metadata": {},
     "output_type": "execute_result"
    }
   ],
   "source": [
    "len(true_labels_generated)"
   ]
  },
  {
   "cell_type": "code",
   "execution_count": 18,
   "id": "25dc862a-d081-4596-bbeb-a285ad429bf3",
   "metadata": {},
   "outputs": [
    {
     "data": {
      "text/plain": [
       "tensor([0, 0, 0,  ..., 0, 0, 0])"
      ]
     },
     "execution_count": 18,
     "metadata": {},
     "output_type": "execute_result"
    }
   ],
   "source": [
    "predicted_labels_generated"
   ]
  },
  {
   "cell_type": "markdown",
   "id": "7e4c3541-44d1-471c-b2d7-e9c7dbcdee8c",
   "metadata": {},
   "source": [
    "## Plot results"
   ]
  },
  {
   "cell_type": "code",
   "execution_count": 28,
   "id": "38e20a66-63dc-4b3d-add5-19b0a050bea4",
   "metadata": {},
   "outputs": [],
   "source": [
    "batch_before, freq_before = np.unique(predicted_labels_real.tolist(), return_counts=True)\n",
    "batch_after, freq_after = np.unique(predicted_labels_generated.tolist(), return_counts=True)\n",
    "\n",
    "batch = list(batch_before) + list(batch_after)\n",
    "batch = [f\"batch {key}\" for key in batch]\n",
    "freq = list(freq_before) + list(freq_after)\n",
    "\n",
    "method = [\"Before transformation\"]*len(batch_before) + [\"After transformation\"]*len(batch_after) "
   ]
  },
  {
   "cell_type": "code",
   "execution_count": 29,
   "id": "2ac52aad-ccc8-44c3-83c7-3d3b7f5837d9",
   "metadata": {},
   "outputs": [],
   "source": [
    "to_plot = pd.DataFrame({\"Batch\": batch, \n",
    "                        \"Freq\": freq, \n",
    "                           \"Method\": method})"
   ]
  },
  {
   "cell_type": "code",
   "execution_count": 30,
   "id": "fceb253c-a055-4f4c-bf29-9397d6835e05",
   "metadata": {},
   "outputs": [
    {
     "data": {
      "text/plain": [
       "19"
      ]
     },
     "execution_count": 30,
     "metadata": {},
     "output_type": "execute_result"
    }
   ],
   "source": [
    "len(method)"
   ]
  },
  {
   "cell_type": "code",
   "execution_count": 31,
   "id": "9cda12e4-f554-4b9a-be87-99a4783afbe8",
   "metadata": {},
   "outputs": [
    {
     "data": {
      "image/png": "[encoded data removed]",
      "text/plain": [
       "<Figure size 600x400 with 1 Axes>"
      ]
     },
     "metadata": {},
     "output_type": "display_data"
    }
   ],
   "source": [
    "# Set the style for a cleaner appearance\n",
    "sns.set(style=\"whitegrid\")\n",
    "\n",
    "# Set the figure size\n",
    "plt.figure(figsize=(6, 4))\n",
    "\n",
    "# Plot the bar chart\n",
    "sns.barplot(data=to_plot, \n",
    "            x=\"Method\", \n",
    "            y=\"Freq\", \n",
    "            hue=\"Batch\", \n",
    "            palette=\"colorblind\",\n",
    "            ci=None)  # Set ci=None to remove error bars if not needed\n",
    "\n",
    "# Add labels and title\n",
    "plt.xlabel(\"Method\", fontsize=12)\n",
    "plt.ylabel(\"Frequency\", fontsize=12)\n",
    "plt.title(\"cpg0000\", fontsize=16)\n",
    "\n",
    "# Move the legend outside the plot for better visibility\n",
    "plt.legend(title=\"Batch\", loc=\"upper left\", bbox_to_anchor=(1, 1))\n",
    "\n",
    "# Rotate x-axis labels for better readability\n",
    "plt.xticks(rotation=45, ha=\"right\")\n",
    "plt.xlabel(\"\")\n",
    "\n",
    "# Adjust layout for better spacing\n",
    "plt.tight_layout()\n",
    "\n",
    "# Show the plot\n",
    "plt.show()"
   ]
  },
  {
   "cell_type": "code",
   "execution_count": 33,
   "id": "8d0671d6-c8a6-47e6-89f0-12531c268533",
   "metadata": {},
   "outputs": [],
   "source": [
    "import pickle as pkl"
   ]
  },
  {
   "cell_type": "code",
   "execution_count": 37,
   "id": "48b6222c-b613-463c-a209-24c58d16f538",
   "metadata": {},
   "outputs": [],
   "source": [
    "with open(\"/home/icb/alessandro.palma/environment/IMPA/IMPA/project_folder/dino_featurization_project/classifier_results/cpg0000/results_cpg0000.pkl\", \"wb\") as f:\n",
    "    pkl.dump([true_labels_generated, predicted_labels_real, batch_before, freq_before, batch_after, freq_after], f)"
   ]
  },
  {
   "cell_type": "code",
   "execution_count": null,
   "id": "869b091e-214f-4820-8fee-2d3716a40f5a",
   "metadata": {},
   "outputs": [],
   "source": []
  }
 ],
 "metadata": {
  "kernelspec": {
   "display_name": "Python 3 (ipykernel)",
   "language": "python",
   "name": "python3"
  },
  "language_info": {
   "codemirror_mode": {
    "name": "ipython",
    "version": 3
   },
   "file_extension": ".py",
   "mimetype": "text/x-python",
   "name": "python",
   "nbconvert_exporter": "python",
   "pygments_lexer": "ipython3",
   "version": "3.9.18"
  }
 },
 "nbformat": 4,
 "nbformat_minor": 5
}
