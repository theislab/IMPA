{
 "cells": [
  {
   "cell_type": "code",
   "execution_count": 1,
   "id": "e8e72c48-1490-4a98-86a0-52d915ef9f3a",
   "metadata": {},
   "outputs": [
    {
     "name": "stderr",
     "output_type": "stream",
     "text": [
      "An NVIDIA GPU may be present on this machine, but a CUDA-enabled jaxlib is not installed. Falling back to cpu.\n"
     ]
    }
   ],
   "source": [
    "from IMPA.dataset.data_loader import CellDataLoader\n",
    "from IMPA.model import Discriminator\n",
    "from IMPA.solver import IMPAmodule\n",
    "from omegaconf import OmegaConf\n",
    "from tqdm import tqdm\n",
    "import matplotlib.pyplot as plt\n",
    "from pathlib import Path\n",
    "import numpy as np\n",
    "import os\n",
    "import torch\n",
    "from torch import optim\n",
    "from torch import nn\n",
    "from pytorch_lightning import LightningModule\n",
    "from pytorch_lightning.callbacks import ModelCheckpoint\n",
    "from pytorch_lightning import Trainer\n",
    "import seaborn\n",
    "from sklearn.metrics import confusion_matrix, precision_score, recall_score, f1_score, accuracy_score\n",
    "import matplotlib.pyplot as plt\n",
    "import pandas as pd\n",
    "import seaborn as sns\n",
    "from matplotlib import rcParams\n",
    "FIGSIZE=(3,3)               \n",
    "rcParams['figure.figsize']=FIGSIZE"
   ]
  },
  {
   "cell_type": "code",
   "execution_count": 2,
   "id": "21b2c29d-cb0f-45b6-bf2d-efce2cb8fc15",
   "metadata": {},
   "outputs": [],
   "source": [
    "def calculate_metrics(predictions, labels):\n",
    "    # Convert predictions and labels to numpy arrays\n",
    "    predictions = predictions.cpu().numpy()\n",
    "    labels = labels.cpu().numpy()\n",
    "\n",
    "    # Calculate metrics\n",
    "    accuracy = accuracy_score(labels, predictions)\n",
    "    precision = precision_score(labels, predictions, average='weighted')  # Change 'weighted' to 'micro', 'macro', or 'samples'\n",
    "    recall = recall_score(labels, predictions, average='weighted')  # Change 'weighted' to 'micro', 'macro', or 'samples'\n",
    "    f1 = f1_score(labels, predictions, average='weighted')  # Change 'weighted' to 'micro', 'macro', or 'samples'\n",
    "\n",
    "    # Calculate confusion matrix\n",
    "    cm = confusion_matrix(labels, predictions)\n",
    "\n",
    "    return accuracy, precision, recall, f1, cm\n",
    "\n",
    "def plot_confusion_matrix(cm, classes):\n",
    "    plt.figure(figsize=(8, 8))\n",
    "    sns.heatmap(cm, annot=True, fmt=\"d\", cmap=\"Blues\", xticklabels=classes, yticklabels=classes)\n",
    "    plt.title(\"Confusion Matrix\")\n",
    "    plt.xlabel(\"Predicted\")\n",
    "    plt.ylabel(\"Actual\")\n",
    "    plt.show()"
   ]
  },
  {
   "cell_type": "markdown",
   "id": "55462c43-eaff-44ba-af43-cafcb09516ad",
   "metadata": {},
   "source": [
    "# Real cells"
   ]
  },
  {
   "cell_type": "code",
   "execution_count": 3,
   "id": "e9095a1c-ceb0-4511-82a4-f14e5dd64020",
   "metadata": {},
   "outputs": [],
   "source": [
    "args_real = {\n",
    "    # TASK NAME\n",
    "    'task_name': 'rxrx1_batch',\n",
    "\n",
    "    # IMAGE\n",
    "    'img_size': 96,\n",
    "    'latent_dim': 100,\n",
    "    'hidden_dim': 512,\n",
    "    'style_dim': 64,\n",
    "    'stochastic': True,\n",
    "    'z_dimension': 10,\n",
    "    'dim_in': 64,\n",
    "    'pert_modelling': False,\n",
    "    'batch_key': 'BATCH',\n",
    "    'subsample_frac': 1.0,\n",
    "\n",
    "    # LOSS\n",
    "    'lambda_reg': 1,\n",
    "    'lambda_cyc': 1,\n",
    "    'lambda_sty': 1,\n",
    "    'lambda_ds': 1,\n",
    "\n",
    "    # TRAINING\n",
    "    'total_epochs': 100,\n",
    "    'ds_iter': 100000,\n",
    "    'resume_iter': 0,\n",
    "    'batch_size': 64,\n",
    "    'val_batch_size': 64,\n",
    "    'lr': 0.0001,\n",
    "    'f_lr': 0.0001,\n",
    "    'beta1': 0,\n",
    "    'beta2': 0.99,\n",
    "    'weight_decay': 0.0001,\n",
    "    'num_outs_per_domain': 10,\n",
    "    'single_style': True,\n",
    "    'ood_set': None,\n",
    "    'mol_list': None,\n",
    "    'balanced': False,\n",
    "    'trainable_emb': True,\n",
    "    'dataset_name': 'rxrx1',\n",
    "    'n_channels': 6,\n",
    "    'num_workers': 6,\n",
    "    'seed': 42,\n",
    "\n",
    "    # DIRECTORIES FOR DATA\n",
    "    'image_path': '/home/icb/alessandro.palma/environment/IMPA/IMPA/project_folder/datasets/rxrx1',\n",
    "    'data_index_path': '/home/icb/alessandro.palma/environment/IMPA/IMPA/project_folder/datasets/rxrx1/metadata/rxrx1_df.csv',\n",
    "    'embedding_path': None,\n",
    "\n",
    "    # # DIRECTORIES FOR RESULTS\n",
    "    'experiment_directory': '../project_folder/experiments/',\n",
    "    'sample_dir': 'sample',\n",
    "    'checkpoint_dir': 'checkpoint',\n",
    "    'basal_vs_real_folder': 'basal_vs_real',\n",
    "    'naming_key': 'dataset_name',\n",
    "    'embedding_folder': 'embeddings',\n",
    "    'resume_dir': '',\n",
    "\n",
    "    # DATA HANDLEMENT\n",
    "    'augment_train': True,\n",
    "    'normalize': True,\n",
    "\n",
    "    # LOGGING INFO\n",
    "    'print_every': 10,\n",
    "    'sample_every': 1000,\n",
    "    'save_every': 500,\n",
    "    'eval_every': 500,\n",
    "\n",
    "    # PARAMETERS FOR CONDITION ENCODING\n",
    "    'encode_rdkit': True,\n",
    "    'num_layers_mapping_net': 1,\n",
    "}\n",
    "\n",
    "args_real = OmegaConf.create(args_real)\n",
    "dataloader_real = CellDataLoader(args_real)\n",
    "real_prediction_set = [dataloader_real.train_dataloader(), \n",
    "                          dataloader_real.val_dataloader()]"
   ]
  },
  {
   "cell_type": "markdown",
   "id": "117d9b61-982f-4fb0-8c21-f9cd40859970",
   "metadata": {},
   "source": [
    "# Generated cells"
   ]
  },
  {
   "cell_type": "code",
   "execution_count": 4,
   "id": "6527b425-9356-4da9-834f-7ac6c4fb28c9",
   "metadata": {},
   "outputs": [],
   "source": [
    "args_generated = {\n",
    "    # TASK NAME\n",
    "    'task_name': 'rxrx1_batch',\n",
    "\n",
    "    # IMAGE\n",
    "    'img_size': 96,\n",
    "    'latent_dim': 100,\n",
    "    'hidden_dim': 512,\n",
    "    'style_dim': 64,\n",
    "    'stochastic': True,\n",
    "    'z_dimension': 10,\n",
    "    'dim_in': 64,\n",
    "    'pert_modelling': False,\n",
    "    'batch_key': 'BATCH',\n",
    "    'subsample_frac': 1.0,\n",
    "\n",
    "    # LOSS\n",
    "    'lambda_reg': 1,\n",
    "    'lambda_cyc': 1,\n",
    "    'lambda_sty': 1,\n",
    "    'lambda_ds': 1,\n",
    "\n",
    "    # TRAINING\n",
    "    'total_epochs': 100,\n",
    "    'ds_iter': 100000,\n",
    "    'resume_iter': 0,\n",
    "    'batch_size': 64,\n",
    "    'val_batch_size': 64,\n",
    "    'lr': 0.0001,\n",
    "    'f_lr': 0.0001,\n",
    "    'beta1': 0,\n",
    "    'beta2': 0.99,\n",
    "    'weight_decay': 0.0001,\n",
    "    'num_outs_per_domain': 10,\n",
    "    'single_style': True,\n",
    "    'ood_set': None,\n",
    "    'mol_list': None,\n",
    "    'balanced': False,\n",
    "    'trainable_emb': True,\n",
    "    'dataset_name': 'rxrx1',\n",
    "    'n_channels': 6,\n",
    "    'num_workers': 6,\n",
    "    'seed': 42,\n",
    "\n",
    "    # DIRECTORIES FOR DATA\n",
    "    'image_path': '/home/icb/alessandro.palma/environment/IMPA/IMPA/project_folder/datasets/rxrx1_transported',\n",
    "    'data_index_path': '/home/icb/alessandro.palma/environment/IMPA/IMPA/project_folder/datasets/rxrx1/metadata/rxrx1_df.csv',\n",
    "    'embedding_path': None,\n",
    "\n",
    "    # # DIRECTORIES FOR RESULTS\n",
    "    'experiment_directory': '../project_folder/experiments/',\n",
    "    'sample_dir': 'sample',\n",
    "    'checkpoint_dir': 'checkpoint',\n",
    "    'basal_vs_real_folder': 'basal_vs_real',\n",
    "    'naming_key': 'dataset_name',\n",
    "    'embedding_folder': 'embeddings',\n",
    "    'resume_dir': '',\n",
    "\n",
    "    # DATA HANDLEMENT\n",
    "    'augment_train': True,\n",
    "    'normalize': True,\n",
    "\n",
    "    # LOGGING INFO\n",
    "    'print_every': 10,\n",
    "    'sample_every': 1000,\n",
    "    'save_every': 500,\n",
    "    'eval_every': 500,\n",
    "\n",
    "    # PARAMETERS FOR CONDITION ENCODING\n",
    "    'encode_rdkit': True,\n",
    "    'num_layers_mapping_net': 1,\n",
    "}\n",
    "args_generated = OmegaConf.create(args_generated)\n",
    "dataloader_generated = CellDataLoader(args_generated)\n",
    "generated_prediction_set = [dataloader_generated.train_dataloader(), \n",
    "                              dataloader_generated.val_dataloader()]"
   ]
  },
  {
   "cell_type": "markdown",
   "id": "9cc20d58-1f75-43a0-b244-2060b8953c20",
   "metadata": {},
   "source": [
    "## Initialize Discriminator"
   ]
  },
  {
   "cell_type": "code",
   "execution_count": 5,
   "id": "6769bc27-ec49-4f8b-a423-a26bc93e261e",
   "metadata": {},
   "outputs": [
    {
     "data": {
      "text/plain": [
       "3"
      ]
     },
     "execution_count": 5,
     "metadata": {},
     "output_type": "execute_result"
    }
   ],
   "source": [
    "dataloader_generated.n_mol"
   ]
  },
  {
   "cell_type": "code",
   "execution_count": 6,
   "id": "eb96255e-797a-4d1d-a83a-a1fc6b31ab8b",
   "metadata": {},
   "outputs": [],
   "source": [
    "classifier_net = Discriminator(img_size=96,\n",
    "                                  num_domains=dataloader_generated.n_mol, \n",
    "                                  max_conv_dim=512, \n",
    "                                  in_channels=6, \n",
    "                                  dim_in=64,\n",
    "                                  multi_task=False)"
   ]
  },
  {
   "cell_type": "code",
   "execution_count": 7,
   "id": "abda8482-32b8-4572-b5a2-eb1a8a7440fc",
   "metadata": {},
   "outputs": [],
   "source": [
    "class Classifier(LightningModule):\n",
    "    def __init__(self, model, learning_rate=1e-3):\n",
    "        super().__init__()\n",
    "        self.model = model\n",
    "        self.criterion = nn.CrossEntropyLoss()\n",
    "        self.learning_rate = learning_rate\n",
    "\n",
    "    def forward(self, x):\n",
    "        return self.model(x, None)\n",
    "\n",
    "    def training_step(self, batch, batch_idx):\n",
    "        X, labels = batch[\"X\"], batch[\"mol_one_hot\"].argmax(1)\n",
    "        outputs = self.model(X, None)\n",
    "        loss = self.criterion(outputs, labels)\n",
    "        return loss\n",
    "\n",
    "    def val_step(self, batch, batch_idx):\n",
    "        X, labels = batch[\"X\"], batch[\"mol_one_hot\"].argmax(1)\n",
    "        outputs = self.model(X, None)\n",
    "        loss = self.criterion(outputs, labels)\n",
    "        acc = (torch.argmax(outputs, dim=1) == labels).sum().item() / len(labels)\n",
    "        self.log('val_loss', loss, prog_bar=True)\n",
    "        self.log('val_acc', acc, prog_bar=True)\n",
    "        return loss\n",
    "\n",
    "    def validation_step(self, batch, batch_idx):\n",
    "        loss = self.val_step(batch, batch_idx)\n",
    "        return loss\n",
    "        \n",
    "    def test_step(self, batch, batch_idx):\n",
    "        loss = self.val_step(batch, batch_idx)\n",
    "        return loss\n",
    "\n",
    "    def configure_optimizers(self):\n",
    "        return optim.Adam(self.parameters(), lr=self.learning_rate)\n"
   ]
  },
  {
   "cell_type": "code",
   "execution_count": 8,
   "id": "100f733c-1712-430c-be0d-36e30b9a981a",
   "metadata": {},
   "outputs": [
    {
     "data": {
      "text/plain": [
       "Classifier(\n",
       "  (model): Discriminator(\n",
       "    (conv): Sequential(\n",
       "      (0): Conv2d(6, 64, kernel_size=(3, 3), stride=(1, 1), padding=(1, 1))\n",
       "      (1): ResBlk(\n",
       "        (actv): LeakyReLU(negative_slope=0.2)\n",
       "        (conv1): Conv2d(64, 64, kernel_size=(3, 3), stride=(1, 1), padding=(1, 1))\n",
       "        (conv2): Conv2d(64, 128, kernel_size=(3, 3), stride=(1, 1), padding=(1, 1))\n",
       "        (conv1x1): Conv2d(64, 128, kernel_size=(1, 1), stride=(1, 1), bias=False)\n",
       "      )\n",
       "      (2): ResBlk(\n",
       "        (actv): LeakyReLU(negative_slope=0.2)\n",
       "        (conv1): Conv2d(128, 128, kernel_size=(3, 3), stride=(1, 1), padding=(1, 1))\n",
       "        (conv2): Conv2d(128, 256, kernel_size=(3, 3), stride=(1, 1), padding=(1, 1))\n",
       "        (conv1x1): Conv2d(128, 256, kernel_size=(1, 1), stride=(1, 1), bias=False)\n",
       "      )\n",
       "      (3): ResBlk(\n",
       "        (actv): LeakyReLU(negative_slope=0.2)\n",
       "        (conv1): Conv2d(256, 256, kernel_size=(3, 3), stride=(1, 1), padding=(1, 1))\n",
       "        (conv2): Conv2d(256, 512, kernel_size=(3, 3), stride=(1, 1), padding=(1, 1))\n",
       "        (conv1x1): Conv2d(256, 512, kernel_size=(1, 1), stride=(1, 1), bias=False)\n",
       "      )\n",
       "      (4): ResBlk(\n",
       "        (actv): LeakyReLU(negative_slope=0.2)\n",
       "        (conv1): Conv2d(512, 512, kernel_size=(3, 3), stride=(1, 1), padding=(1, 1))\n",
       "        (conv2): Conv2d(512, 512, kernel_size=(3, 3), stride=(1, 1), padding=(1, 1))\n",
       "      )\n",
       "      (5): ResBlk(\n",
       "        (actv): LeakyReLU(negative_slope=0.2)\n",
       "        (conv1): Conv2d(512, 512, kernel_size=(3, 3), stride=(1, 1), padding=(1, 1))\n",
       "        (conv2): Conv2d(512, 512, kernel_size=(3, 3), stride=(1, 1), padding=(1, 1))\n",
       "      )\n",
       "      (6): LeakyReLU(negative_slope=0.2, inplace=True)\n",
       "      (7): Conv2d(512, 512, kernel_size=(3, 3), stride=(1, 1))\n",
       "      (8): LeakyReLU(negative_slope=0.2, inplace=True)\n",
       "      (9): Conv2d(512, 3, kernel_size=(1, 1), stride=(1, 1))\n",
       "    )\n",
       "  )\n",
       "  (criterion): CrossEntropyLoss()\n",
       ")"
      ]
     },
     "execution_count": 8,
     "metadata": {},
     "output_type": "execute_result"
    }
   ],
   "source": [
    "classifier = Classifier(classifier_net, 0.0001)\n",
    "classifier.to(\"cuda\")"
   ]
  },
  {
   "cell_type": "code",
   "execution_count": 9,
   "id": "cacd56f4-6226-4222-b626-2759d2b67ada",
   "metadata": {},
   "outputs": [
    {
     "data": {
      "text/plain": [
       "<All keys matched successfully>"
      ]
     },
     "execution_count": 9,
     "metadata": {},
     "output_type": "execute_result"
    }
   ],
   "source": [
    "classifier.load_state_dict(torch.load(\"/home/icb/alessandro.palma/environment/IMPA/IMPA/project_folder/batch_classifier_results/rxrx1/best_model.ckpt\")[\"state_dict\"])"
   ]
  },
  {
   "cell_type": "markdown",
   "id": "fa27180a-abcb-49e8-8cd0-e09048ca9bc7",
   "metadata": {},
   "source": [
    "Prediction Real cells"
   ]
  },
  {
   "cell_type": "code",
   "execution_count": 10,
   "id": "c22795c0-5248-436b-9f12-35185af0cb29",
   "metadata": {
    "scrolled": true
   },
   "outputs": [
    {
     "name": "stderr",
     "output_type": "stream",
     "text": [
      "100%|██████████| 2136/2136 [07:36<00:00,  4.68it/s]\n",
      "100%|██████████| 536/536 [01:33<00:00,  5.76it/s]\n"
     ]
    }
   ],
   "source": [
    "true_labels_real = []\n",
    "predicted_labels_real = []\n",
    "for set in real_prediction_set:\n",
    "    for batch in tqdm(set):\n",
    "        with torch.no_grad():\n",
    "            X = batch[\"X\"].to(\"cuda\")\n",
    "            pred = classifier(X)\n",
    "            predicted_labels_real.append(pred.argmax(1).cpu())\n",
    "            true_labels_real.append(batch[\"mol_one_hot\"].argmax(1).cpu())"
   ]
  },
  {
   "cell_type": "code",
   "execution_count": 11,
   "id": "cc96247c-9468-4f9c-bedf-8a10301fcb14",
   "metadata": {},
   "outputs": [],
   "source": [
    "true_labels_real=torch.cat(true_labels_real)\n",
    "predicted_labels_real=torch.cat(predicted_labels_real)"
   ]
  },
  {
   "cell_type": "code",
   "execution_count": 12,
   "id": "dcc2bd0f-e32f-45aa-9b75-4d3fa6b63bb4",
   "metadata": {},
   "outputs": [
    {
     "data": {
      "text/plain": [
       "(0.9985960232358154,\n",
       " 0.9985965507550555,\n",
       " 0.9985960232358154,\n",
       " 0.9985960003406135,\n",
       " array([[56292,     2,   155],\n",
       "        [    1, 57755,     0],\n",
       "        [   80,     2, 56656]]))"
      ]
     },
     "execution_count": 12,
     "metadata": {},
     "output_type": "execute_result"
    }
   ],
   "source": [
    "calculate_metrics(true_labels_real, predicted_labels_real)"
   ]
  },
  {
   "cell_type": "markdown",
   "id": "f42c8be9-3337-4f75-86f7-2949161f0452",
   "metadata": {},
   "source": [
    "Prediction generated cells "
   ]
  },
  {
   "cell_type": "code",
   "execution_count": 13,
   "id": "a6303edd-8abf-4e6e-802c-4f6cb010443f",
   "metadata": {
    "scrolled": true
   },
   "outputs": [
    {
     "name": "stderr",
     "output_type": "stream",
     "text": [
      "100%|██████████| 2136/2136 [06:53<00:00,  5.17it/s]\n",
      "100%|██████████| 536/536 [01:19<00:00,  6.74it/s]\n"
     ]
    }
   ],
   "source": [
    "true_labels_generated= []\n",
    "predicted_labels_generated = []\n",
    "for set in generated_prediction_set:\n",
    "    for batch in tqdm(set):\n",
    "        with torch.no_grad():\n",
    "            X = batch[\"X\"].to(\"cuda\")\n",
    "            pred = classifier(X)\n",
    "            predicted_labels_generated.append(pred.argmax(1).cpu())\n",
    "            true_labels_generated.append(batch[\"mol_one_hot\"].argmax(1).cpu())"
   ]
  },
  {
   "cell_type": "code",
   "execution_count": 14,
   "id": "0f817d79-3684-4a61-a585-3157e003fba6",
   "metadata": {},
   "outputs": [],
   "source": [
    "true_labels_generated=torch.cat(true_labels_generated)\n",
    "predicted_labels_generated=torch.cat(predicted_labels_generated)"
   ]
  },
  {
   "cell_type": "code",
   "execution_count": 15,
   "id": "a0659deb-7fff-42bc-8380-50432ac90b29",
   "metadata": {},
   "outputs": [
    {
     "data": {
      "text/plain": [
       "(0.3333333333333333,\n",
       " 0.9872994126610081,\n",
       " 0.3333333333333333,\n",
       " 0.4926477336265692,\n",
       " array([[56078, 57587, 55978],\n",
       "        [   25,    95,    25],\n",
       "        [  270,    77,   808]]))"
      ]
     },
     "execution_count": 15,
     "metadata": {},
     "output_type": "execute_result"
    }
   ],
   "source": [
    "calculate_metrics(true_labels_generated, predicted_labels_generated)"
   ]
  },
  {
   "cell_type": "markdown",
   "id": "24d70a27-e188-468d-8f95-39cc140b968b",
   "metadata": {},
   "source": [
    "## Plot results"
   ]
  },
  {
   "cell_type": "code",
   "execution_count": 16,
   "id": "660d988e-fa7e-4467-a087-55082a938aeb",
   "metadata": {},
   "outputs": [],
   "source": [
    "batch_before, freq_before = np.unique(predicted_labels_real.tolist(), return_counts=True)\n",
    "batch_after, freq_after = np.unique(predicted_labels_generated.tolist(), return_counts=True)\n",
    "\n",
    "batch = list(batch_before) + list(batch_after)\n",
    "batch = [f\"batch {key}\" for key in batch]\n",
    "freq = list(freq_before/np.sum(freq_before)) + list(freq_after/np.sum(freq_after))\n",
    "\n",
    "method = [\"before correction\"]*len(batch_before) + [\"after correction\"]*len(batch_before) "
   ]
  },
  {
   "cell_type": "code",
   "execution_count": 17,
   "id": "e23707f1-0b36-472a-a2dc-80fb50e88ecb",
   "metadata": {},
   "outputs": [
    {
     "data": {
      "text/plain": [
       "[0.3302211848393909,\n",
       " 0.33786700830101263,\n",
       " 0.3319118068595965,\n",
       " 0.992395125860667,\n",
       " 0.0008482359616948339,\n",
       " 0.00675663817763816]"
      ]
     },
     "execution_count": 17,
     "metadata": {},
     "output_type": "execute_result"
    }
   ],
   "source": [
    "freq"
   ]
  },
  {
   "cell_type": "code",
   "execution_count": 197,
   "id": "9e8dd8a3-4f53-45ab-85c4-b26d4b994595",
   "metadata": {},
   "outputs": [],
   "source": [
    "to_plot = pd.DataFrame({\"Batch\": batch, \n",
    "                        \"Freq\": freq, \n",
    "                           \"Method\": method})"
   ]
  },
  {
   "cell_type": "code",
   "execution_count": 198,
   "id": "69e39106-3689-4045-b282-2d6ea8f3a2d1",
   "metadata": {},
   "outputs": [
    {
     "data": {
      "image/png": "[encoded data removed]",
      "text/plain": [
       "<Figure size 800x300 with 1 Axes>"
      ]
     },
     "metadata": {},
     "output_type": "display_data"
    }
   ],
   "source": [
    "# Set the style for a cleaner appearance\n",
    "sns.set(style=\"whitegrid\")\n",
    "\n",
    "# Set the figure size\n",
    "plt.figure(figsize=(8, 3))  # Adjust the figure width for better display of horizontal bars\n",
    "\n",
    "# Plot the horizontal bar chart\n",
    "sns.barplot(data=to_plot, \n",
    "            y=\"Method\",  # Change x to y\n",
    "            x=\"Freq\",    # Change y to x\n",
    "            hue=\"Batch\", \n",
    "            palette=\"colorblind\",\n",
    "            ci=None)  # Set ci=None to remove error bars if not needed\n",
    "\n",
    "# Add labels and title\n",
    "plt.xlabel(\"frequency of classification\", fontsize=15)  # Change xlabel to reflect the switch   # Change ylabel to reflect the switch\n",
    "plt.title(\"\", fontsize=20)\n",
    "plt.ylabel(\"\", fontsize=20)\n",
    "\n",
    "# Move the legend outside the plot for better visibility\n",
    "plt.legend(title=\"Batch\", loc=\"upper left\", bbox_to_anchor=(1, 1))\n",
    "\n",
    "# Rotate y-axis labels for better readability (optional)\n",
    "plt.yticks(rotation=0, ha=\"right\", fontsize=15)\n",
    "plt.xticks(rotation=0, fontsize=15)\n",
    "\n",
    "# Adjust layout for better spacing\n",
    "plt.tight_layout()\n",
    "\n",
    "plt.savefig('/home/icb/alessandro.palma/environment/IMPA/IMPA/notebooks/cpg0000/plots/classifier_performance.svg',\n",
    "           dpi=300, bbox_inches='tight', format='svg')\n",
    "\n",
    "# Show the plot\n",
    "plt.show()\n"
   ]
  },
  {
   "cell_type": "code",
   "execution_count": 85,
   "id": "ede1c69f-439c-4ba3-8e90-3ea6bbd612e5",
   "metadata": {},
   "outputs": [
    {
     "data": {
      "text/html": [
       "<div>\n",
       "<style scoped>\n",
       "    .dataframe tbody tr th:only-of-type {\n",
       "        vertical-align: middle;\n",
       "    }\n",
       "\n",
       "    .dataframe tbody tr th {\n",
       "        vertical-align: top;\n",
       "    }\n",
       "\n",
       "    .dataframe thead th {\n",
       "        text-align: right;\n",
       "    }\n",
       "</style>\n",
       "<table border=\"1\" class=\"dataframe\">\n",
       "  <thead>\n",
       "    <tr style=\"text-align: right;\">\n",
       "      <th></th>\n",
       "      <th>Batch</th>\n",
       "      <th>Freq</th>\n",
       "      <th>Method</th>\n",
       "    </tr>\n",
       "  </thead>\n",
       "  <tbody>\n",
       "    <tr>\n",
       "      <th>0</th>\n",
       "      <td>batch 0</td>\n",
       "      <td>0.33</td>\n",
       "      <td>before correction</td>\n",
       "    </tr>\n",
       "    <tr>\n",
       "      <th>1</th>\n",
       "      <td>batch 1</td>\n",
       "      <td>0.34</td>\n",
       "      <td>before correction</td>\n",
       "    </tr>\n",
       "    <tr>\n",
       "      <th>2</th>\n",
       "      <td>batch 2</td>\n",
       "      <td>0.33</td>\n",
       "      <td>before correction</td>\n",
       "    </tr>\n",
       "    <tr>\n",
       "      <th>3</th>\n",
       "      <td>batch 0</td>\n",
       "      <td>0.99</td>\n",
       "      <td>after correction</td>\n",
       "    </tr>\n",
       "    <tr>\n",
       "      <th>4</th>\n",
       "      <td>batch 1</td>\n",
       "      <td>0.00</td>\n",
       "      <td>after correction</td>\n",
       "    </tr>\n",
       "    <tr>\n",
       "      <th>5</th>\n",
       "      <td>batch 2</td>\n",
       "      <td>0.01</td>\n",
       "      <td>after correction</td>\n",
       "    </tr>\n",
       "  </tbody>\n",
       "</table>\n",
       "</div>"
      ],
      "text/plain": [
       "     Batch  Freq             Method\n",
       "0  batch 0  0.33  before correction\n",
       "1  batch 1  0.34  before correction\n",
       "2  batch 2  0.33  before correction\n",
       "3  batch 0  0.99   after correction\n",
       "4  batch 1  0.00   after correction\n",
       "5  batch 2  0.01   after correction"
      ]
     },
     "execution_count": 85,
     "metadata": {},
     "output_type": "execute_result"
    }
   ],
   "source": [
    "to_plot"
   ]
  },
  {
   "cell_type": "code",
   "execution_count": 206,
   "id": "bbd32f46-1380-460b-a351-279334453511",
   "metadata": {},
   "outputs": [
    {
     "data": {
      "image/png": "[encoded data removed]",
      "text/plain": [
       "<Figure size 921.194x250 with 1 Axes>"
      ]
     },
     "metadata": {},
     "output_type": "display_data"
    }
   ],
   "source": [
    "import seaborn as sns\n",
    "import matplotlib.pyplot as plt\n",
    "\n",
    "# Sample data\n",
    "to_plot = pd.DataFrame({\n",
    "    \"Batch\": [\"batch 0\", \"batch 1\", \"batch 2\", \"batch 0\", \"batch 1\", \"batch 2\"],\n",
    "    \"Frequency of batch classification\": [0.33, 0.33, 0.33, 0.99, 0.00, 0.00],\n",
    "    \"Method\": [\"before correction\", \"before correction\", \"before correction\",\n",
    "               \"after correction\", \"after correction\", \"after correction\"]\n",
    "})\n",
    "\n",
    "# Set the style for a cleaner appearance\n",
    "sns.set(style=\"whitegrid\")\n",
    "\n",
    "\n",
    "# Plot the dot plot\n",
    "sns.relplot(data=to_plot,\n",
    "            x=\"Batch\",\n",
    "            y=\"Method\",  # Size of dots based on frequency\n",
    "            hue=\"Batch\",   # Color of dots based on frequency\n",
    "            palette=\"colorblind\",  # You can choose any colormap you prefer # Separate points for each hue level\n",
    "            alpha=1,\n",
    "            sizes=(100, 1000),\n",
    "            size=\"Frequency of batch classification\", \n",
    "           units=\"Batch\", \n",
    "           height=2.5, aspect=2.5, legend=\"brief\")    # Adjust transparency for better visualization\n",
    "\n",
    "\n",
    "plt.xticks(rotation=45, ha='right')\n",
    "plt.xlim(-0.5, 2.5)  # Adjusted x-axis limits\n",
    "plt.ylim(-0.5, 1.5)  # Adjusted y-axis limits\n",
    "plt.savefig('/home/icb/alessandro.palma/environment/IMPA/IMPA/notebooks/cpg0000/plots/classifier_performance.svg',\n",
    "           dpi=300, bbox_inches='tight', format='svg')\n",
    "plt.show()"
   ]
  },
  {
   "cell_type": "code",
   "execution_count": 175,
   "id": "53b6aa10-1891-4477-8a57-4a8a22b86dc3",
   "metadata": {},
   "outputs": [
    {
     "data": {
      "image/png": "[encoded data removed]",
      "text/plain": [
       "<Figure size 829.25x500 with 1 Axes>"
      ]
     },
     "metadata": {},
     "output_type": "display_data"
    }
   ],
   "source": [
    "# Set the style for a cleaner appearance\n",
    "sns.set(style=\"whitegrid\")\n",
    "\n",
    "# Plot the dot plot\n",
    "sns.relplot(data=to_plot,\n",
    "            x=\"Batch\",\n",
    "            y=\"Method\",\n",
    "            hue=\"Freq\",\n",
    "            palette=\"viridis\",\n",
    "            alpha=1,\n",
    "            sizes=(100, 1000),\n",
    "            size=\"Freq\", \n",
    "            units=\"Batch\", \n",
    "            height=5, aspect=1.5, legend=\"brief\")  # Adjusted aspect and height\n",
    "plt.xticks(rotation=45, ha='right')\n",
    "plt.xlim(-0.5, 2.5)  # Adjusted x-axis limits\n",
    "plt.ylim(-0.5, 1.5)  # Adjusted y-axis limits\n",
    "# plt.legend(bbox_to_anchor=(1.05, 1), loc='upper left')  # Adjusted legend position\n",
    "plt.show()"
   ]
  },
  {
   "cell_type": "code",
   "execution_count": null,
   "id": "dd6f48ee-9087-4528-8e96-483e0d6ecb6e",
   "metadata": {},
   "outputs": [],
   "source": []
  }
 ],
 "metadata": {
  "kernelspec": {
   "display_name": "Python 3 (ipykernel)",
   "language": "python",
   "name": "python3"
  },
  "language_info": {
   "codemirror_mode": {
    "name": "ipython",
    "version": 3
   },
   "file_extension": ".py",
   "mimetype": "text/x-python",
   "name": "python",
   "nbconvert_exporter": "python",
   "pygments_lexer": "ipython3",
   "version": "3.9.18"
  }
 },
 "nbformat": 4,
 "nbformat_minor": 5
}
