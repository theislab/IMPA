{
 "cells": [
  {
   "cell_type": "code",
   "execution_count": 31,
   "id": "c322bc46-dec2-4110-b441-3111591eaa6c",
   "metadata": {},
   "outputs": [],
   "source": [
    "import pandas as pd\n",
    "import numpy as np"
   ]
  },
  {
   "cell_type": "markdown",
   "id": "f5a60ada-225d-478c-b8be-b1a5a1caef7f",
   "metadata": {},
   "source": [
    "Read the data frame"
   ]
  },
  {
   "cell_type": "code",
   "execution_count": 35,
   "id": "d2b7d6f1-f42e-46d8-9804-ba17e6550777",
   "metadata": {},
   "outputs": [],
   "source": [
    "metadata = pd.read_csv(\"/lustre/groups/ml01/datasets/projects/cpg0000_alessandro/metadata/metadata_large.csv\", \n",
    "                      index_col=0)\n",
    "metadata_unique_pert = metadata.copy()\n",
    "metadata_orf_crispr = metadata.loc[metadata.PERT_TYPE.isin([\"ORF\", \"CRISPR\"])] "
   ]
  },
  {
   "cell_type": "code",
   "execution_count": 36,
   "id": "89727941-8564-4f38-8f0e-e9fed57b5b12",
   "metadata": {},
   "outputs": [],
   "source": [
    "cpd_name_orf_crispr = [f\"{cpd_name}_{pert_type}\" for (cpd_name,pert_type) in zip(metadata_orf_crispr.CPD_NAME, metadata_orf_crispr.PERT_TYPE) ]"
   ]
  },
  {
   "cell_type": "code",
   "execution_count": 37,
   "id": "3e8c2836-4e08-4b3a-b3f7-4c42cd4c3402",
   "metadata": {},
   "outputs": [],
   "source": [
    "metadata_unique_pert.loc[metadata_unique_pert.PERT_TYPE.isin([\"ORF\", \"CRISPR\"]), \"CPD_NAME\"] = cpd_name_orf_crispr"
   ]
  },
  {
   "cell_type": "code",
   "execution_count": 39,
   "id": "64c7af24-1cae-477b-a136-8d2fa6cf9a1c",
   "metadata": {},
   "outputs": [],
   "source": [
    "metadata_unique_pert.to_csv(\"/lustre/groups/ml01/datasets/projects/cpg0000_alessandro/metadata/metadata_unique_pert.csv\")"
   ]
  },
  {
   "cell_type": "code",
   "execution_count": 42,
   "id": "d4279582-9997-42fd-80be-e5d07125520d",
   "metadata": {},
   "outputs": [],
   "source": [
    "# metadata_unique_pert"
   ]
  },
  {
   "cell_type": "code",
   "execution_count": 43,
   "id": "f4f6bb38-60ed-40d6-8522-c894457e6623",
   "metadata": {},
   "outputs": [],
   "source": [
    "# metadata"
   ]
  },
  {
   "cell_type": "code",
   "execution_count": null,
   "id": "9f0acde9-5bfe-42b0-b4f7-fdd484ca29bf",
   "metadata": {},
   "outputs": [],
   "source": []
  }
 ],
 "metadata": {
  "kernelspec": {
   "display_name": "Python 3 (ipykernel)",
   "language": "python",
   "name": "python3"
  },
  "language_info": {
   "codemirror_mode": {
    "name": "ipython",
    "version": 3
   },
   "file_extension": ".py",
   "mimetype": "text/x-python",
   "name": "python",
   "nbconvert_exporter": "python",
   "pygments_lexer": "ipython3",
   "version": "3.9.18"
  }
 },
 "nbformat": 4,
 "nbformat_minor": 5
}
