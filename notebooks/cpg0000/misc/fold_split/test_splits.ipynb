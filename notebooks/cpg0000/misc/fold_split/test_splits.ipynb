{
 "cells": [
  {
   "cell_type": "code",
   "execution_count": 113,
   "id": "af0f5406-9a2e-4277-96fe-afc1645965fb",
   "metadata": {},
   "outputs": [],
   "source": [
    "import chemfold as cf\n",
    "from scipy.sparse import csr_matrix\n",
    "import pandas as pd\n",
    "import numpy as np\n",
    "from rdkit import Chem\n",
    "from rdkit.Chem import AllChem, DataStructs\n",
    "import matplotlib.pyplot as plt\n",
    "from itertools import combinations"
   ]
  },
  {
   "cell_type": "markdown",
   "id": "9ca350f7-6189-4914-bd20-87908cd9c80c",
   "metadata": {},
   "source": [
    "# Check distance distribution to closest drug "
   ]
  },
  {
   "cell_type": "code",
   "execution_count": 114,
   "id": "30901bb0-485e-4c3f-9b8a-1ef8a049a7e6",
   "metadata": {},
   "outputs": [],
   "source": [
    "def compute_tanimoto_distance_from_df(df):\n",
    "    \"\"\"\n",
    "    Computes Tanimoto distance between all pairs of SMILES strings in a DataFrame.\n",
    "\n",
    "    Parameters:\n",
    "    - df: DataFrame with SMILES strings in a column.\n",
    "\n",
    "    Returns:\n",
    "    - distances_df: DataFrame containing Tanimoto distances between all pairs of SMILES strings.\n",
    "    \"\"\"\n",
    "    # Convert SMILES strings to RDKit Mol objects\n",
    "    mols = [Chem.MolFromSmiles(smiles) for smiles in df['SMILES']]\n",
    "\n",
    "    # Calculate fingerprints for each molecule\n",
    "    fps = [AllChem.GetMorganFingerprint(mol, 2) for mol in mols]\n",
    "\n",
    "    # Compute Tanimoto distance between all pairs of fingerprints\n",
    "    distances = []\n",
    "\n",
    "    similarity_df = pd.DataFrame(index=df.index, columns=df.index)\n",
    "    for i, j in combinations(range(len(df)), 2):\n",
    "        tanimoto_similarity = DataStructs.TanimotoSimilarity(fps[i], fps[j])\n",
    "        similarity_df.at[df.index[i], df.index[j]] = tanimoto_similarity\n",
    "        similarity_df.at[df.index[j], df.index[i]] = tanimoto_similarity\n",
    "    return similarity_df.fillna(1.0)"
   ]
  },
  {
   "cell_type": "code",
   "execution_count": 115,
   "id": "19ac1fd5-b363-468a-aed1-dbe700fbe28c",
   "metadata": {},
   "outputs": [],
   "source": [
    "# bbbc021_index = pd.read_csv(\"/lustre/groups/ml01/workspace/alessandro.palma/imCPA_official/data/bbbc021_unannotated/processed/bbbc021_unannotated_large/metadata/bbbc021_unannotated_large.csv\",\n",
    "#                            index_col=0)\n",
    "bbbc021_index = pd.read_csv(\"/home/icb/alessandro.palma/environment/IMPA/IMPA/project_folder/datasets/bbbc021_all/metadata/bbbc021_df_all.csv\",\n",
    "                           index_col=0)\n",
    "\n",
    "drugs_annotated = np.unique(bbbc021_index.CPD_NAME)"
   ]
  },
  {
   "cell_type": "code",
   "execution_count": 116,
   "id": "8baeb82e-dda9-4b09-b515-38584baa3418",
   "metadata": {},
   "outputs": [
    {
     "data": {
      "text/plain": [
       "CPD_NAME\n",
       "cytochalasin B            0.542636\n",
       "cytochalasin D            0.542636\n",
       "latrunculin B             0.216783\n",
       "AZ258                     0.903509\n",
       "AZ841                     0.903509\n",
       "mevinolin/lovastatin      0.780220\n",
       "simvastatin               0.780220\n",
       "chlorambucil              0.210084\n",
       "cisplatin                 0.032787\n",
       "etoposide                 0.220126\n",
       "mitomycin C               0.156863\n",
       "camptothecin              0.234234\n",
       "floxuridine               0.176471\n",
       "methotrexate              0.210084\n",
       "mitoxantrone              0.153226\n",
       "AZ138                     0.217054\n",
       "PP-2                      0.192982\n",
       "alsterpaullone            0.281818\n",
       "bryostatin                0.230483\n",
       "PD-169316                 0.281818\n",
       "colchicine                0.845238\n",
       "demecolcine               0.845238\n",
       "nocodazole                0.217822\n",
       "vincristine               0.218182\n",
       "docetaxel                 0.726316\n",
       "epothilone B              0.214286\n",
       "taxol                     0.726316\n",
       "ALLN                      0.552381\n",
       "lactacystin               0.250000\n",
       "MG-132                    0.578947\n",
       "proteasome inhibitor I    0.578947\n",
       "anisomycin                0.252033\n",
       "cyclohexamide             0.196429\n",
       "emetine                   0.315789\n",
       "DMSO                      0.051724\n",
       "dtype: float64"
      ]
     },
     "execution_count": 116,
     "metadata": {},
     "output_type": "execute_result"
    }
   ],
   "source": [
    "metadata_unique = bbbc021_index[[\"CPD_NAME\", \"SMILES\"]]\n",
    "metadata_unique = metadata_unique.drop_duplicates(subset=\"CPD_NAME\").set_index(\"CPD_NAME\", drop=True)\n",
    "\n",
    "tanimoto_distance_matrix = compute_tanimoto_distance_from_df(metadata_unique)\n",
    "\n",
    "mat_tani_second_highest_val = tanimoto_distance_matrix.apply(lambda row: row.nlargest(2).iloc[-1], axis=1)\n",
    "mat_tani_second_highest_cpd = tanimoto_distance_matrix.apply(lambda row: row.nlargest(2).index[-1], axis=1)\n",
    "\n",
    "mat_tani_second_highest_val"
   ]
  },
  {
   "cell_type": "code",
   "execution_count": 117,
   "id": "a6db8d8d-80a0-4b57-be4b-545e0c9564b7",
   "metadata": {},
   "outputs": [
    {
     "data": {
      "text/plain": [
       "(array([ 2.,  0.,  2.,  3., 11.,  3.,  1.,  0.,  0.,  0.,  0.,  3.,  2.,\n",
       "         0.,  0.,  2.,  0.,  2.,  2.,  2.]),\n",
       " array([0.03278689, 0.07632298, 0.11985907, 0.16339517, 0.20693126,\n",
       "        0.25046736, 0.29400345, 0.33753955, 0.38107564, 0.42461173,\n",
       "        0.46814783, 0.51168392, 0.55522002, 0.59875611, 0.64229221,\n",
       "        0.6858283 , 0.72936439, 0.77290049, 0.81643658, 0.85997268,\n",
       "        0.90350877]),\n",
       " <BarContainer object of 20 artists>)"
      ]
     },
     "execution_count": 117,
     "metadata": {},
     "output_type": "execute_result"
    },
    {
     "data": {
      "image/png": "[encoded data removed]",
      "text/plain": [
       "<Figure size 640x480 with 1 Axes>"
      ]
     },
     "metadata": {},
     "output_type": "display_data"
    }
   ],
   "source": [
    "plt.hist(mat_tani_second_highest_val, 20)"
   ]
  },
  {
   "cell_type": "code",
   "execution_count": 118,
   "id": "336e68a6-1325-4d08-8c7f-bb831392dcdb",
   "metadata": {},
   "outputs": [
    {
     "data": {
      "text/plain": [
       "0    0.210084\n",
       "1    0.281818\n",
       "2    0.542636\n",
       "3    0.578947\n",
       "4    0.726316\n",
       "5    0.780220\n",
       "6    0.845238\n",
       "7    0.903509\n",
       "dtype: float64"
      ]
     },
     "execution_count": 118,
     "metadata": {},
     "output_type": "execute_result"
    }
   ],
   "source": [
    "mat_tani_second_highest_val.mode()"
   ]
  },
  {
   "cell_type": "code",
   "execution_count": 119,
   "id": "c421fc6f-f939-4bc1-abd7-61bc20c734a7",
   "metadata": {},
   "outputs": [
    {
     "data": {
      "text/plain": [
       "0.395348273798481"
      ]
     },
     "execution_count": 119,
     "metadata": {},
     "output_type": "execute_result"
    }
   ],
   "source": [
    "mat_tani_second_highest_val.mean()"
   ]
  },
  {
   "cell_type": "markdown",
   "id": "3035ab16-482e-4bb3-baff-83c7345f6c58",
   "metadata": {},
   "source": [
    "## Read data frame "
   ]
  },
  {
   "cell_type": "code",
   "execution_count": 120,
   "id": "26a16834-bcfc-44de-9e6b-11700c8519c0",
   "metadata": {},
   "outputs": [],
   "source": [
    "drug_smiles = pd.read_csv(\"/home/icb/alessandro.palma/environment/IMPA/IMPA/embeddings/csv/emb_fp_all.csv\", \n",
    "                         index_col=0)"
   ]
  },
  {
   "cell_type": "code",
   "execution_count": 121,
   "id": "54991a57-3163-458f-8e6d-46eae82ce51d",
   "metadata": {},
   "outputs": [
    {
     "name": "stdout",
     "output_type": "stream",
     "text": [
      "Row 0.\n",
      "Reassigning compounds to the closest clusters.\n",
      "Row 0.\n",
      "Reassignement changed 0 assignments.\n",
      "Total 84 clusters.\n",
      "Row 0.\n",
      "Reassigning compounds to the closest clusters.\n",
      "Row 0.\n",
      "Reassignement changed 0 assignments.\n",
      "Total 81 clusters.\n",
      "Row 0.\n",
      "Reassigning compounds to the closest clusters.\n",
      "Row 0.\n",
      "Reassignement changed 0 assignments.\n",
      "Total 76 clusters.\n"
     ]
    },
    {
     "name": "stderr",
     "output_type": "stream",
     "text": [
      "/tmp/ipykernel_2625030/285779884.py:4: DeprecationWarning: Please use `csr_matrix` from the `scipy.sparse` namespace, the `scipy.sparse.csr` namespace is deprecated.\n",
      "  cl_hier = cf.hierarchical_clustering(drug_smiles_csr, dists=[0.50,0.60,0.70])\n"
     ]
    }
   ],
   "source": [
    "drug_names = list(drug_smiles.index)\n",
    "drug_smiles_csr = csr_matrix(drug_smiles.values)\n",
    "# cl_hier = cf.hierarchical_clustering(drug_smiles_csr, dists=[0.2,0.4,0.6,0.8])\n",
    "cl_hier = cf.hierarchical_clustering(drug_smiles_csr, dists=[0.50,0.60,0.70])\n",
    "\n",
    "clusters_2_drug = {}"
   ]
  },
  {
   "cell_type": "markdown",
   "id": "a81a6dfe-08cf-4bff-87b9-07ed54effd94",
   "metadata": {},
   "source": [
    "## Read annotated data frame "
   ]
  },
  {
   "cell_type": "code",
   "execution_count": 122,
   "id": "4a1783e8-badc-4524-8a04-7ad6079e136c",
   "metadata": {},
   "outputs": [],
   "source": [
    "annotation = pd.read_csv(\"/home/icb/alessandro.palma/environment/IMPA/IMPA/project_folder/datasets/bbbc021_all/metadata/bbbc021_df_all.csv\")"
   ]
  },
  {
   "cell_type": "code",
   "execution_count": 123,
   "id": "3726f614-f916-4ec7-a77b-4bd16705d678",
   "metadata": {
    "scrolled": true
   },
   "outputs": [],
   "source": [
    "valid_cpd = np.unique(annotation.CPD_NAME)"
   ]
  },
  {
   "cell_type": "markdown",
   "id": "6bd40377-4874-4c20-9717-c06904bd2338",
   "metadata": {},
   "source": [
    "## Perform separation"
   ]
  },
  {
   "cell_type": "code",
   "execution_count": 124,
   "id": "2b7287b8-5ee1-44af-b58b-e3cfcefa2c3c",
   "metadata": {},
   "outputs": [],
   "source": [
    "for i, clus in enumerate(cl_hier):\n",
    "    if clus not in clusters_2_drug:\n",
    "        clusters_2_drug[clus] = []\n",
    "    clusters_2_drug[clus].append(drug_names[i])"
   ]
  },
  {
   "cell_type": "code",
   "execution_count": 125,
   "id": "f531a55f-9f33-4d5f-af53-a4a09ae6e038",
   "metadata": {
    "scrolled": true
   },
   "outputs": [
    {
     "name": "stdout",
     "output_type": "stream",
     "text": [
      "['AG-1478', 'AZ701']\n",
      "['ALLN', 'calpain inhibitor 2 (ALLM)', 'calpeptin', 'caspase inhibitor 1 (ZVAD)', 'cathepsin inhibitor I', 'leupeptin', 'MG-132', 'proteasome inhibitor I']\n",
      "['arabinofuranosylcytosine', 'puromycin']\n",
      "['bohemine', 'olomoucine', 'roscovitine']\n",
      "['colchicine', 'demecolcine']\n",
      "['cytochalasin B', 'cytochalasin D']\n",
      "['deoxymannojirimycin', 'deoxynojirimycin']\n",
      "['docetaxel', 'taxol']\n",
      "['etoposide', 'podophyllotoxin']\n",
      "['genistein', 'quercetin']\n",
      "['mevinolin/lovastatin', 'simvastatin']\n",
      "['PD-169316', 'SB-202190', 'SB-203580']\n",
      "['sodium butyrate', 'valproic acid']\n",
      "['vinblastine', 'vincristine']\n",
      "['AZ258', 'AZ841']\n"
     ]
    },
    {
     "data": {
      "text/plain": [
       "15"
      ]
     },
     "execution_count": 125,
     "metadata": {},
     "output_type": "execute_result"
    }
   ],
   "source": [
    "c = 0\n",
    "for i in clusters_2_drug:\n",
    "    if len(clusters_2_drug[i]) > 1:\n",
    "        print(clusters_2_drug[i])\n",
    "        c+=1\n",
    "c"
   ]
  },
  {
   "cell_type": "code",
   "execution_count": 126,
   "id": "76421d1d-8bfe-436b-a45b-dd6673611afe",
   "metadata": {},
   "outputs": [],
   "source": [
    "# leavouts = []\n",
    "# np.random.seed(42)\n",
    "# for i in clusters_2_drug:\n",
    "#     if len(clusters_2_drug[i]) > 1:\n",
    "#         leavouts.append(np.random.choice(clusters_2_drug[i]))\n",
    "\n",
    "# leavouts"
   ]
  },
  {
   "cell_type": "markdown",
   "id": "148ab50a-6f05-49c6-86ed-98820dec4df0",
   "metadata": {},
   "source": [
    "## Try Splito"
   ]
  },
  {
   "cell_type": "markdown",
   "id": "13d728dd-57e1-4378-962e-ff846e97555d",
   "metadata": {},
   "source": [
    "### Scaffold"
   ]
  },
  {
   "cell_type": "code",
   "execution_count": 147,
   "id": "1badc5e9-9006-43fc-967a-0e34bd9e1fdb",
   "metadata": {},
   "outputs": [],
   "source": [
    "import splito"
   ]
  },
  {
   "cell_type": "code",
   "execution_count": 148,
   "id": "8ac9f5a3-63bc-4eb9-bd36-443d22965a94",
   "metadata": {},
   "outputs": [],
   "source": [
    "unique_smiles = np.unique(bbbc021_index.SMILES)\n",
    "smiles2drug = dict(zip(bbbc021_index.SMILES, bbbc021_index.CPD_NAME))"
   ]
  },
  {
   "cell_type": "code",
   "execution_count": 164,
   "id": "aaa85e76-d339-4619-9675-f9d40c1201b0",
   "metadata": {},
   "outputs": [],
   "source": [
    "# Define scaffold split\n",
    "splitter = splito.ScaffoldSplit(smiles=unique_smiles.tolist(), n_jobs=-1, test_size=0.27, random_state=55)"
   ]
  },
  {
   "cell_type": "code",
   "execution_count": 165,
   "id": "c91bb156-b5c4-4b8b-b79d-58bff38b42a0",
   "metadata": {},
   "outputs": [],
   "source": [
    "train_idx, test_idx = next(splitter.split(X=unique_smiles))"
   ]
  },
  {
   "cell_type": "code",
   "execution_count": 166,
   "id": "bfbd6c9e-7b0d-430e-8f45-c9cd8d11e802",
   "metadata": {
    "scrolled": true
   },
   "outputs": [
    {
     "name": "stdout",
     "output_type": "stream",
     "text": [
      "taxol\n",
      "ALLN\n",
      "bryostatin\n",
      "camptothecin\n",
      "demecolcine\n",
      "nocodazole\n",
      "colchicine\n",
      "DMSO\n",
      "cytochalasin B\n",
      "latrunculin B\n",
      "cisplatin\n"
     ]
    }
   ],
   "source": [
    "for sm in unique_smiles[test_idx]:\n",
    "    print(smiles2drug[sm])"
   ]
  },
  {
   "cell_type": "markdown",
   "id": "793881af-92af-4cc2-b0cc-9497e43e1fd5",
   "metadata": {},
   "source": [
    "### Perimeter"
   ]
  },
  {
   "cell_type": "code",
   "execution_count": 95,
   "id": "4df77a8d-d6db-4d3d-8892-b626b17b94c3",
   "metadata": {},
   "outputs": [],
   "source": [
    "# Define scaffold split\n",
    "splitter = splito.PerimeterSplit(n_jobs=-1, test_size=0.15)"
   ]
  },
  {
   "cell_type": "code",
   "execution_count": 96,
   "id": "a3f7c992-ebdc-4077-bf04-8d754a8c8a8a",
   "metadata": {},
   "outputs": [
    {
     "name": "stderr",
     "output_type": "stream",
     "text": [
      "\u001b[32m2024-08-22 22:53:17.908\u001b[0m | \u001b[34m\u001b[1mDEBUG   \u001b[0m | \u001b[36msplito.utils\u001b[0m:\u001b[36mget_kmeans_clusters\u001b[0m:\u001b[36m68\u001b[0m - \u001b[34m\u001b[1mTo use KMeans with the jaccard metric, we use the Empirical Kernel Map\u001b[0m\n"
     ]
    }
   ],
   "source": [
    "train_idx, test_idx = next(splitter.split(X=unique_smiles))"
   ]
  },
  {
   "cell_type": "code",
   "execution_count": 97,
   "id": "49c643f8-7b2e-44d3-a611-b4c1b18f91ab",
   "metadata": {},
   "outputs": [
    {
     "name": "stdout",
     "output_type": "stream",
     "text": [
      "okadaic acid\n",
      "quercetin\n",
      "genistein\n",
      "chlorambucil\n",
      "epothilone B\n",
      "cyclophosphamide\n",
      "MG-132\n",
      "calpeptin\n",
      "leupeptin\n",
      "ALLN\n",
      "calpain inhibitor 2 (ALLM)\n",
      "LY-294002\n",
      "vinblastine\n",
      "vincristine\n",
      "PP-2\n"
     ]
    }
   ],
   "source": [
    "for sm in unique_smiles[test_idx]:\n",
    "    print(smiles2drug[sm])"
   ]
  },
  {
   "cell_type": "code",
   "execution_count": null,
   "id": "04abeadb-955e-4038-a697-b40e5216b094",
   "metadata": {},
   "outputs": [],
   "source": []
  },
  {
   "cell_type": "code",
   "execution_count": 168,
   "id": "567a84bd-e0fa-4c2a-ae68-1c4822199b13",
   "metadata": {},
   "outputs": [
    {
     "data": {
      "text/plain": [
       "{'cytochalasin B': 'Actin disruptors',\n",
       " 'cytochalasin D': 'Actin disruptors',\n",
       " 'latrunculin B': 'Actin disruptors',\n",
       " 'AZ258': 'Aurora kinase inhibitors',\n",
       " 'AZ841': 'Aurora kinase inhibitors',\n",
       " 'mevinolin/lovastatin': 'Cholesterol-lowering',\n",
       " 'simvastatin': 'Cholesterol-lowering',\n",
       " 'chlorambucil': 'DNA damage',\n",
       " 'cisplatin': 'DNA damage',\n",
       " 'etoposide': 'DNA damage',\n",
       " 'mitomycin C': 'DNA damage',\n",
       " 'camptothecin': 'DNA replication',\n",
       " 'floxuridine': 'DNA replication',\n",
       " 'methotrexate': 'DNA replication',\n",
       " 'mitoxantrone': 'DNA replication',\n",
       " 'AZ138': 'Eg5 inhibitors',\n",
       " 'PP-2': 'Epithelial',\n",
       " 'alsterpaullone': 'Kinase inhibitors',\n",
       " 'bryostatin': 'Kinase inhibitors',\n",
       " 'PD-169316': 'Kinase inhibitors',\n",
       " 'colchicine': 'Microtubule destabilizers',\n",
       " 'demecolcine': 'Microtubule destabilizers',\n",
       " 'nocodazole': 'Microtubule destabilizers',\n",
       " 'vincristine': 'Microtubule destabilizers',\n",
       " 'docetaxel': 'Microtubule stabilizers',\n",
       " 'epothilone B': 'Microtubule stabilizers',\n",
       " 'taxol': 'Microtubule stabilizers',\n",
       " 'ALLN': 'Protein degradation',\n",
       " 'lactacystin': 'Protein degradation',\n",
       " 'MG-132': 'Protein degradation',\n",
       " 'proteasome inhibitor I': 'Protein degradation',\n",
       " 'anisomycin': 'Protein synthesis',\n",
       " 'cyclohexamide': 'Protein synthesis',\n",
       " 'emetine': 'Protein synthesis',\n",
       " 'DMSO': 'DMSO'}"
      ]
     },
     "execution_count": 168,
     "metadata": {},
     "output_type": "execute_result"
    }
   ],
   "source": [
    "dict(zip(bbbc021_index.CPD_NAME, bbbc021_index.ANNOT))"
   ]
  },
  {
   "cell_type": "code",
   "execution_count": null,
   "id": "d1db4ef1-7430-4658-97dd-f75022008151",
   "metadata": {},
   "outputs": [],
   "source": []
  }
 ],
 "metadata": {
  "kernelspec": {
   "display_name": "Python 3 (ipykernel)",
   "language": "python",
   "name": "python3"
  },
  "language_info": {
   "codemirror_mode": {
    "name": "ipython",
    "version": 3
   },
   "file_extension": ".py",
   "mimetype": "text/x-python",
   "name": "python",
   "nbconvert_exporter": "python",
   "pygments_lexer": "ipython3",
   "version": "3.9.18"
  }
 },
 "nbformat": 4,
 "nbformat_minor": 5
}
