{
 "cells": [
  {
   "cell_type": "code",
   "execution_count": 1,
   "id": "e8e72c48-1490-4a98-86a0-52d915ef9f3a",
   "metadata": {},
   "outputs": [
    {
     "name": "stderr",
     "output_type": "stream",
     "text": [
      "An NVIDIA GPU may be present on this machine, but a CUDA-enabled jaxlib is not installed. Falling back to cpu.\n"
     ]
    }
   ],
   "source": [
    "from IMPA.dataset.data_loader import CellDataLoader\n",
    "from IMPA.model import Discriminator\n",
    "from IMPA.solver import IMPAmodule\n",
    "from omegaconf import OmegaConf\n",
    "from tqdm import tqdm\n",
    "import matplotlib.pyplot as plt\n",
    "from pathlib import Path\n",
    "import numpy as np\n",
    "import os\n",
    "import torch\n",
    "from torch import optim\n",
    "from torch import nn\n",
    "from pytorch_lightning import LightningModule\n",
    "from pytorch_lightning.callbacks import ModelCheckpoint\n",
    "from pytorch_lightning import Trainer"
   ]
  },
  {
   "cell_type": "code",
   "execution_count": 7,
   "id": "e9095a1c-ceb0-4511-82a4-f14e5dd64020",
   "metadata": {},
   "outputs": [],
   "source": [
    "args = {\n",
    "    # TASK NAME\n",
    "    'task_name': 'rxrx1_batch',\n",
    "\n",
    "    # IMAGE\n",
    "    'img_size': 96,\n",
    "    'latent_dim': 100,\n",
    "    'hidden_dim': 512,\n",
    "    'style_dim': 64,\n",
    "    'stochastic': True,\n",
    "    'z_dimension': 10,\n",
    "    'dim_in': 64,\n",
    "    'pert_modelling': False,\n",
    "    'batch_key': 'BATCH',\n",
    "    'subsample_frac': 1.0,\n",
    "\n",
    "    # LOSS\n",
    "    'lambda_reg': 1,\n",
    "    'lambda_cyc': 1,\n",
    "    'lambda_sty': 1,\n",
    "    'lambda_ds': 1,\n",
    "\n",
    "    # TRAINING\n",
    "    'total_epochs': 100,\n",
    "    'ds_iter': 100000,\n",
    "    'resume_iter': 0,\n",
    "    'batch_size': 64,\n",
    "    'val_batch_size': 64,\n",
    "    'lr': 0.0001,\n",
    "    'f_lr': 0.0001,\n",
    "    'beta1': 0,\n",
    "    'beta2': 0.99,\n",
    "    'weight_decay': 0.0001,\n",
    "    'num_outs_per_domain': 10,\n",
    "    'single_style': True,\n",
    "    'ood_set': None,\n",
    "    'mol_list': None,\n",
    "    'balanced': False,\n",
    "    'trainable_emb': True,\n",
    "    'dataset_name': 'rxrx1',\n",
    "    'n_channels': 6,\n",
    "    'num_workers': 6,\n",
    "    'seed': 42,\n",
    "\n",
    "    # DIRECTORIES FOR DATA\n",
    "    'image_path': '/home/icb/alessandro.palma/environment/IMPA/IMPA/project_folder/datasets/rxrx1',\n",
    "    'data_index_path': '/home/icb/alessandro.palma/environment/IMPA/IMPA/project_folder/datasets/rxrx1/metadata/rxrx1_df.csv',\n",
    "    'embedding_path': None,\n",
    "\n",
    "    # DIRECTORIES FOR RESULTS\n",
    "    'experiment_directory': '../project_folder/experiments/',\n",
    "    'sample_dir': 'sample',\n",
    "    'checkpoint_dir': 'checkpoint',\n",
    "    'basal_vs_real_folder': 'basal_vs_real',\n",
    "    'naming_key': 'dataset_name',\n",
    "    'embedding_folder': 'embeddings',\n",
    "    'resume_dir': '',\n",
    "\n",
    "    # DATA HANDLEMENT\n",
    "    'augment_train': True,\n",
    "    'normalize': True,\n",
    "\n",
    "    # LOGGING INFO\n",
    "    'print_every': 10,\n",
    "    'sample_every': 1000,\n",
    "    'save_every': 500,\n",
    "    'eval_every': 500,\n",
    "\n",
    "    # PARAMETERS FOR CONDITION ENCODING\n",
    "    'encode_rdkit': True,\n",
    "    'num_layers_mapping_net': 1,\n",
    "\n",
    "    # Lightning\n",
    "    'filename': 'epoch_{epoch:04d}',\n",
    "    'monitor': 'fid_transformations',\n",
    "    'mode': 'min',\n",
    "    'save_last': True,\n",
    "    'offline': False,\n",
    "    'project': 'rxrx1_batch',\n",
    "    'log_model': False,\n",
    "    'accelerator': 'gpu',\n",
    "    'log_every_n_steps': 10\n",
    "}\n",
    "args = OmegaConf.create(args)\n",
    "dataloader = CellDataLoader(args)"
   ]
  },
  {
   "cell_type": "code",
   "execution_count": 8,
   "id": "eb96255e-797a-4d1d-a83a-a1fc6b31ab8b",
   "metadata": {},
   "outputs": [],
   "source": [
    "classifier_net = Discriminator(img_size=96,\n",
    "                                  num_domains=dataloader.n_mol, \n",
    "                                  max_conv_dim=512, \n",
    "                                  in_channels=6, \n",
    "                                  dim_in=64,\n",
    "                                  multi_task=False)"
   ]
  },
  {
   "cell_type": "code",
   "execution_count": 11,
   "id": "abda8482-32b8-4572-b5a2-eb1a8a7440fc",
   "metadata": {},
   "outputs": [],
   "source": [
    "class Classifier(LightningModule):\n",
    "    def __init__(self, model, learning_rate=1e-3):\n",
    "        super().__init__()\n",
    "        self.model = model\n",
    "        self.criterion = nn.CrossEntropyLoss()\n",
    "        self.learning_rate = learning_rate\n",
    "\n",
    "    def forward(self, x):\n",
    "        return self.model(x)\n",
    "\n",
    "    def training_step(self, batch, batch_idx):\n",
    "        X, labels = batch[\"X\"], batch[\"mol_one_hot\"].argmax(1)\n",
    "        outputs = self.model(X, None)\n",
    "        loss = self.criterion(outputs, labels)\n",
    "        return loss\n",
    "\n",
    "    def val_step(self, batch, batch_idx):\n",
    "        X, labels = batch[\"X\"], batch[\"mol_one_hot\"].argmax(1)\n",
    "        outputs = self.model(X, None)\n",
    "        loss = self.criterion(outputs, labels)\n",
    "        acc = (torch.argmax(outputs, dim=1) == labels).sum().item() / len(labels)\n",
    "        self.log('val_loss', loss, prog_bar=True)\n",
    "        self.log('val_acc', acc, prog_bar=True)\n",
    "        return loss\n",
    "\n",
    "    def validation_step(self, batch, batch_idx):\n",
    "        loss = self.val_step(batch, batch_idx)\n",
    "        return loss\n",
    "        \n",
    "    def test_step(self, batch, batch_idx):\n",
    "        loss = self.val_step(batch, batch_idx)\n",
    "        return loss\n",
    "\n",
    "    def configure_optimizers(self):\n",
    "        return optim.Adam(self.parameters(), lr=self.learning_rate)\n"
   ]
  },
  {
   "cell_type": "code",
   "execution_count": 13,
   "id": "100f733c-1712-430c-be0d-36e30b9a981a",
   "metadata": {},
   "outputs": [
    {
     "name": "stderr",
     "output_type": "stream",
     "text": [
      "GPU available: True (cuda), used: True\n",
      "TPU available: False, using: 0 TPU cores\n",
      "IPU available: False, using: 0 IPUs\n",
      "HPU available: False, using: 0 HPUs\n",
      "LOCAL_RANK: 0 - CUDA_VISIBLE_DEVICES: [0]\n"
     ]
    },
    {
     "data": {
      "application/json": {
       "ascii": false,
       "bar_format": "{l_bar}{bar}| {n_fmt}/{total_fmt} [{elapsed}<{remaining}, {rate_noinv_fmt}{postfix}]",
       "colour": null,
       "elapsed": 0.015121221542358398,
       "initial": 0,
       "n": 0,
       "ncols": null,
       "nrows": null,
       "postfix": null,
       "prefix": "Testing",
       "rate": null,
       "total": null,
       "unit": "it",
       "unit_divisor": 1000,
       "unit_scale": false
      },
      "application/vnd.jupyter.widget-view+json": {
       "model_id": "0b8ee9095ffb476bba35a6f2b6d17342",
       "version_major": 2,
       "version_minor": 0
      },
      "text/plain": [
       "Testing: |          | 0/? [00:00<?, ?it/s]"
      ]
     },
     "metadata": {},
     "output_type": "display_data"
    },
    {
     "data": {
      "text/html": [
       "<pre style=\"white-space:pre;overflow-x:auto;line-height:normal;font-family:Menlo,'DejaVu Sans Mono',consolas,'Courier New',monospace\">┏━━━━━━━━━━━━━━━━━━━━━━━━━━━┳━━━━━━━━━━━━━━━━━━━━━━━━━━━┓\n",
       "┃<span style=\"font-weight: bold\">        Test metric        </span>┃<span style=\"font-weight: bold\">       DataLoader 0        </span>┃\n",
       "┡━━━━━━━━━━━━━━━━━━━━━━━━━━━╇━━━━━━━━━━━━━━━━━━━━━━━━━━━┩\n",
       "│<span style=\"color: #008080; text-decoration-color: #008080\">          val_acc          </span>│<span style=\"color: #800080; text-decoration-color: #800080\">    0.8757805824279785     </span>│\n",
       "│<span style=\"color: #008080; text-decoration-color: #008080\">         val_loss          </span>│<span style=\"color: #800080; text-decoration-color: #800080\">    0.2805463671684265     </span>│\n",
       "└───────────────────────────┴───────────────────────────┘\n",
       "</pre>\n"
      ],
      "text/plain": [
       "┏━━━━━━━━━━━━━━━━━━━━━━━━━━━┳━━━━━━━━━━━━━━━━━━━━━━━━━━━┓\n",
       "┃\u001b[1m \u001b[0m\u001b[1m       Test metric       \u001b[0m\u001b[1m \u001b[0m┃\u001b[1m \u001b[0m\u001b[1m      DataLoader 0       \u001b[0m\u001b[1m \u001b[0m┃\n",
       "┡━━━━━━━━━━━━━━━━━━━━━━━━━━━╇━━━━━━━━━━━━━━━━━━━━━━━━━━━┩\n",
       "│\u001b[36m \u001b[0m\u001b[36m         val_acc         \u001b[0m\u001b[36m \u001b[0m│\u001b[35m \u001b[0m\u001b[35m   0.8757805824279785    \u001b[0m\u001b[35m \u001b[0m│\n",
       "│\u001b[36m \u001b[0m\u001b[36m        val_loss         \u001b[0m\u001b[36m \u001b[0m│\u001b[35m \u001b[0m\u001b[35m   0.2805463671684265    \u001b[0m\u001b[35m \u001b[0m│\n",
       "└───────────────────────────┴───────────────────────────┘\n"
      ]
     },
     "metadata": {},
     "output_type": "display_data"
    }
   ],
   "source": [
    "# Set up the checkpoint callback\n",
    "checkpoint_callback = ModelCheckpoint(\n",
    "    dirpath='checkpoints',\n",
    "    filename='best_model',\n",
    "    save_top_k=1,\n",
    "    monitor='val_loss',\n",
    "    mode='min',\n",
    ")\n",
    "\n",
    "classifier = Classifier(classifier_net, 0.0001)\n",
    "\n",
    "# Set up the trainer with the checkpoint callback\n",
    "trainer = Trainer(\n",
    "    max_epochs=1,\n",
    "    callbacks=[checkpoint_callback],\n",
    ")\n",
    "\n",
    "# Train the model\n",
    "trainer.fit(classifier, dataloader.train_dataloader(), dataloader.val_dataloader())\n",
    "\n",
    "# Test the model\n",
    "trainer.test(classifier, dataloader.val_dataloader())\n",
    "\n",
    "# Optionally, load the best model weights\n",
    "best_model_path = os.path.join(checkpoint_callback.dirpath, checkpoint_callback.best_model_path)"
   ]
  },
  {
   "cell_type": "code",
   "execution_count": null,
   "id": "5e8a247a-7a7d-4187-a833-933299fc3dfb",
   "metadata": {},
   "outputs": [],
   "source": []
  },
  {
   "cell_type": "code",
   "execution_count": 16,
   "id": "40e5ab11-b6e2-46d9-9654-097ddd855fd6",
   "metadata": {},
   "outputs": [],
   "source": [
    "import yaml\n",
    "\n",
    "file_path = \"/home/icb/alessandro.palma/environment/IMPA/IMPA/experiments/classifier_training/batch_classifier_cpg0000.yaml\"\n",
    "with open(file_path, 'r') as file:\n",
    "        args = yaml.safe_load(file)"
   ]
  },
  {
   "cell_type": "code",
   "execution_count": 17,
   "id": "ee05bfaa-c0b2-42c8-9071-3fffdd0cd0ca",
   "metadata": {},
   "outputs": [
    {
     "data": {
      "text/plain": [
       "{'task_name': 'cpg0000_batch',\n",
       " 'img_size': 96,\n",
       " 'batch_key': 'PLATE',\n",
       " 'subsample_frac': 0.05,\n",
       " 'image_path': '/lustre/groups/ml01/datasets/projects/cpg0000_alessandro/cpg0000_u2os_normalized_segmented_large',\n",
       " 'data_index_path': '/lustre/groups/ml01/datasets/projects/cpg0000_alessandro/metadata/metadata_large.csv',\n",
       " 'embedding_path': None,\n",
       " 'experiment_directory': '../project_folder/experiments/',\n",
       " 'augment_train': True,\n",
       " 'normalize': True,\n",
       " 'encode_rdkit': True,\n",
       " 'num_layers_mapping_net': 1,\n",
       " 'filename': 'epoch_{epoch:04d}'}"
      ]
     },
     "execution_count": 17,
     "metadata": {},
     "output_type": "execute_result"
    }
   ],
   "source": [
    "args"
   ]
  },
  {
   "cell_type": "code",
   "execution_count": null,
   "id": "cacd56f4-6226-4222-b626-2759d2b67ada",
   "metadata": {},
   "outputs": [],
   "source": []
  }
 ],
 "metadata": {
  "kernelspec": {
   "display_name": "Python 3 (ipykernel)",
   "language": "python",
   "name": "python3"
  },
  "language_info": {
   "codemirror_mode": {
    "name": "ipython",
    "version": 3
   },
   "file_extension": ".py",
   "mimetype": "text/x-python",
   "name": "python",
   "nbconvert_exporter": "python",
   "pygments_lexer": "ipython3",
   "version": "3.9.18"
  }
 },
 "nbformat": 4,
 "nbformat_minor": 5
}
