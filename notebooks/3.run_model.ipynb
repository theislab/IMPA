{
 "cells": [
  {
   "cell_type": "code",
   "execution_count": 1,
   "id": "d636aaff-6d7f-4da3-b77f-d21b23507f6a",
   "metadata": {},
   "outputs": [
    {
     "name": "stdout",
     "output_type": "stream",
     "text": [
      "/mnt/home/icb/alessandro.palma/imCPA\n"
     ]
    }
   ],
   "source": [
    "cd ~/imCPA"
   ]
  },
  {
   "cell_type": "code",
   "execution_count": 2,
   "id": "e8c5c0b7-6144-4026-a215-84cbcb5f3fc5",
   "metadata": {},
   "outputs": [],
   "source": [
    "# Import the files \n",
    "import tarfile\n",
    "import numpy as np\n",
    "import matplotlib.pyplot as plt\n",
    "import cv2\n",
    "import os\n",
    "import pandas as pd\n",
    "from PIL import Image\n",
    "import timeit,time\n",
    "from compert.plot_utils import Plotter \n",
    "import torch\n",
    "from compert.training_utils import *\n",
    "import json\n",
    "import sys"
   ]
  },
  {
   "cell_type": "code",
   "execution_count": 3,
   "id": "833b0fdf-7664-4787-9c89-f40a1af1022d",
   "metadata": {},
   "outputs": [],
   "source": [
    "torch.cuda.set_per_process_memory_fraction(1.0, device=None)"
   ]
  },
  {
   "cell_type": "code",
   "execution_count": 4,
   "id": "42ee9f92-2f3f-4c2e-a4e2-4eedeb205593",
   "metadata": {},
   "outputs": [],
   "source": [
    "config = Config(config_path = '/home/icb/alessandro.palma/imCPA/configs/config_sigma_vae.json')"
   ]
  },
  {
   "cell_type": "code",
   "execution_count": 5,
   "id": "55749d71-a5d7-47d5-8e19-1fc0cdc43c1a",
   "metadata": {
    "tags": []
   },
   "outputs": [
    {
     "name": "stdout",
     "output_type": "stream",
     "text": [
      "Working on device: cuda\n",
      "Lodading the data...\n",
      "Successfully loaded the data\n"
     ]
    }
   ],
   "source": [
    "t = Trainer(config)"
   ]
  },
  {
   "cell_type": "code",
   "execution_count": null,
   "id": "63536df2-2156-423e-a7f7-ccf840405f3a",
   "metadata": {},
   "outputs": [],
   "source": [
    "t.train()"
   ]
  },
  {
   "cell_type": "code",
   "execution_count": null,
   "id": "55dc4e4e-8cab-444c-a4c0-153e99e38cdb",
   "metadata": {},
   "outputs": [],
   "source": [
    "t.model.module.training"
   ]
  },
  {
   "cell_type": "code",
   "execution_count": null,
   "id": "45788bf8-b474-4fd2-969e-669e7e19196b",
   "metadata": {},
   "outputs": [],
   "source": [
    "model = t.model.module\n",
    "checkpoint = torch.load('/home/icb/alessandro.palma/checkpoints/vae_run_res_100')\n",
    "model.load_state_dict(checkpoint['model_state_dict'])"
   ]
  },
  {
   "cell_type": "code",
   "execution_count": null,
   "id": "424163fe-3775-402b-8414-54e368d0fff7",
   "metadata": {},
   "outputs": [],
   "source": [
    "data = next(iter(t.loader_train))"
   ]
  },
  {
   "cell_type": "code",
   "execution_count": null,
   "id": "a4d29c3d-6dcd-44a2-a871-241770128fcf",
   "metadata": {},
   "outputs": [],
   "source": [
    "data.keys()"
   ]
  },
  {
   "cell_type": "code",
   "execution_count": null,
   "id": "0502a864-4ee2-4d23-a833-42af99a30945",
   "metadata": {},
   "outputs": [],
   "source": [
    "Plotter('').plot_channel_panel(tensor_to_image(data['X'][249]), 2, False, True, rgb = False)"
   ]
  },
  {
   "cell_type": "code",
   "execution_count": null,
   "id": "b4c23bff-a6fb-41d5-9846-88f97b1acee1",
   "metadata": {},
   "outputs": [],
   "source": [
    "data['smile_id']"
   ]
  },
  {
   "cell_type": "code",
   "execution_count": 17,
   "id": "b969c909-81e0-40e8-996c-402e71457d19",
   "metadata": {},
   "outputs": [
    {
     "ename": "TypeError",
     "evalue": "plot_channel_panel() missing 5 required positional arguments: 'self', 'image', 'epoch', 'save', and 'plot'",
     "output_type": "error",
     "traceback": [
      "\u001b[0;31m---------------------------------------------------------------------------\u001b[0m",
      "\u001b[0;31mTypeError\u001b[0m                                 Traceback (most recent call last)",
      "\u001b[0;32m<ipython-input-17-9b07ec6b50a5>\u001b[0m in \u001b[0;36m<module>\u001b[0;34m\u001b[0m\n\u001b[0;32m----> 1\u001b[0;31m \u001b[0mPlotter\u001b[0m\u001b[0;34m.\u001b[0m\u001b[0mplot_channel_panel\u001b[0m\u001b[0;34m(\u001b[0m\u001b[0;34m)\u001b[0m\u001b[0;34m\u001b[0m\u001b[0;34m\u001b[0m\u001b[0m\n\u001b[0m",
      "\u001b[0;31mTypeError\u001b[0m: plot_channel_panel() missing 5 required positional arguments: 'self', 'image', 'epoch', 'save', and 'plot'"
     ]
    }
   ],
   "source": [
    "Plotter.plot_channel_panel()"
   ]
  }
 ],
 "metadata": {
  "kernelspec": {
   "display_name": "Python 3",
   "language": "python",
   "name": "python3"
  },
  "language_info": {
   "codemirror_mode": {
    "name": "ipython",
    "version": 3
   },
   "file_extension": ".py",
   "mimetype": "text/x-python",
   "name": "python",
   "nbconvert_exporter": "python",
   "pygments_lexer": "ipython3",
   "version": "3.9.7"
  }
 },
 "nbformat": 4,
 "nbformat_minor": 5
}
