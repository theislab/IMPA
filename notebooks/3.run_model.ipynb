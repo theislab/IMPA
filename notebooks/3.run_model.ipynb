{
 "cells": [
  {
   "cell_type": "code",
   "execution_count": 1,
   "id": "d636aaff-6d7f-4da3-b77f-d21b23507f6a",
   "metadata": {},
   "outputs": [
    {
     "name": "stdout",
     "output_type": "stream",
     "text": [
      "/mnt/home/icb/alessandro.palma/imCPA\n"
     ]
    }
   ],
   "source": [
    "cd ~/imCPA"
   ]
  },
  {
   "cell_type": "code",
   "execution_count": 2,
   "id": "e8c5c0b7-6144-4026-a215-84cbcb5f3fc5",
   "metadata": {},
   "outputs": [],
   "source": [
    "# Import the files \n",
    "import tarfile\n",
    "import numpy as np\n",
    "import matplotlib.pyplot as plt\n",
    "import cv2\n",
    "import os\n",
    "import pandas as pd\n",
    "from PIL import Image\n",
    "import timeit,time\n",
    "from compert.plot_utils import Plotter \n",
    "import torch\n",
    "from compert.training_utils import *\n",
    "import json\n",
    "import sys"
   ]
  },
  {
   "cell_type": "code",
   "execution_count": 3,
   "id": "42ee9f92-2f3f-4c2e-a4e2-4eedeb205593",
   "metadata": {},
   "outputs": [],
   "source": [
    "config = Config(config_path = '/home/icb/alessandro.palma/imCPA/configs/config_sigma_vae.json')"
   ]
  },
  {
   "cell_type": "code",
   "execution_count": 4,
   "id": "55749d71-a5d7-47d5-8e19-1fc0cdc43c1a",
   "metadata": {
    "tags": []
   },
   "outputs": [
    {
     "name": "stdout",
     "output_type": "stream",
     "text": [
      "Working on device: cuda\n",
      "Lodading the data...\n",
      "Successfully loaded the data\n",
      "Create output directories for the experiment\n"
     ]
    }
   ],
   "source": [
    "t = Trainer(config)"
   ]
  },
  {
   "cell_type": "code",
   "execution_count": null,
   "id": "63536df2-2156-423e-a7f7-ccf840405f3a",
   "metadata": {},
   "outputs": [
    {
     "name": "stdout",
     "output_type": "stream",
     "text": [
      "Beginning training with epochs 1\n"
     ]
    },
    {
     "name": "stderr",
     "output_type": "stream",
     "text": [
      " 74%|███████▍  | 2182/2957 [00:15<00:04, 166.22it/s]"
     ]
    }
   ],
   "source": [
    "t.train()"
   ]
  },
  {
   "cell_type": "code",
   "execution_count": null,
   "id": "4cb22eaf-155b-4258-8823-a7990971fe32",
   "metadata": {},
   "outputs": [],
   "source": [
    "t.model.module.history"
   ]
  },
  {
   "cell_type": "code",
   "execution_count": null,
   "id": "55dc4e4e-8cab-444c-a4c0-153e99e38cdb",
   "metadata": {},
   "outputs": [],
   "source": [
    "t.model.module.training"
   ]
  },
  {
   "cell_type": "code",
   "execution_count": null,
   "id": "45788bf8-b474-4fd2-969e-669e7e19196b",
   "metadata": {},
   "outputs": [],
   "source": [
    "model = t.model.module\n",
    "checkpoint = torch.load('/home/icb/alessandro.palma/checkpoints/vae_run_res_100')\n",
    "model.load_state_dict(checkpoint['model_state_dict'])"
   ]
  },
  {
   "cell_type": "code",
   "execution_count": null,
   "id": "424163fe-3775-402b-8414-54e368d0fff7",
   "metadata": {},
   "outputs": [],
   "source": [
    "data = next(iter(t.loader_train))"
   ]
  },
  {
   "cell_type": "code",
   "execution_count": null,
   "id": "a4d29c3d-6dcd-44a2-a871-241770128fcf",
   "metadata": {},
   "outputs": [],
   "source": [
    "data.keys()"
   ]
  },
  {
   "cell_type": "code",
   "execution_count": null,
   "id": "0502a864-4ee2-4d23-a833-42af99a30945",
   "metadata": {},
   "outputs": [],
   "source": [
    "Plotter('').plot_channel_panel(tensor_to_image(data['X'][249]), 2, False, True, rgb = False)"
   ]
  },
  {
   "cell_type": "code",
   "execution_count": null,
   "id": "b4c23bff-a6fb-41d5-9846-88f97b1acee1",
   "metadata": {},
   "outputs": [],
   "source": [
    "data['smile_id']"
   ]
  },
  {
   "cell_type": "code",
   "execution_count": null,
   "id": "b969c909-81e0-40e8-996c-402e71457d19",
   "metadata": {},
   "outputs": [],
   "source": [
    "Plotter.plot_channel_panel()"
   ]
  }
 ],
 "metadata": {
  "kernelspec": {
   "display_name": "Python 3",
   "language": "python",
   "name": "python3"
  },
  "language_info": {
   "codemirror_mode": {
    "name": "ipython",
    "version": 3
   },
   "file_extension": ".py",
   "mimetype": "text/x-python",
   "name": "python",
   "nbconvert_exporter": "python",
   "pygments_lexer": "ipython3",
   "version": "3.9.7"
  }
 },
 "nbformat": 4,
 "nbformat_minor": 5
}
