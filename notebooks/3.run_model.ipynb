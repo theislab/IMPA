{
 "cells": [
  {
   "cell_type": "code",
   "execution_count": 1,
   "id": "d636aaff-6d7f-4da3-b77f-d21b23507f6a",
   "metadata": {},
   "outputs": [
    {
     "name": "stdout",
     "output_type": "stream",
     "text": [
      "/mnt/home/icb/alessandro.palma/imCPA\n"
     ]
    }
   ],
   "source": [
    "cd ~/imCPA"
   ]
  },
  {
   "cell_type": "code",
   "execution_count": 2,
   "id": "e8c5c0b7-6144-4026-a215-84cbcb5f3fc5",
   "metadata": {},
   "outputs": [],
   "source": [
    "# Import the files \n",
    "import tarfile\n",
    "import numpy as np\n",
    "import matplotlib.pyplot as plt\n",
    "import cv2\n",
    "import os\n",
    "import pandas as pd\n",
    "from PIL import Image\n",
    "import timeit,time\n",
    "from compert.plot_utils import Plotter \n",
    "import torch\n",
    "from compert.training_utils import *\n",
    "import json\n",
    "import sys"
   ]
  },
  {
   "cell_type": "code",
   "execution_count": 3,
   "id": "833b0fdf-7664-4787-9c89-f40a1af1022d",
   "metadata": {},
   "outputs": [],
   "source": [
    "torch.cuda.set_per_process_memory_fraction(1.0, device=None)"
   ]
  },
  {
   "cell_type": "code",
   "execution_count": 4,
   "id": "42ee9f92-2f3f-4c2e-a4e2-4eedeb205593",
   "metadata": {},
   "outputs": [],
   "source": [
    "config = Config(config_path = '/home/icb/alessandro.palma/imCPA/configs/config_sigma_vae.json')"
   ]
  },
  {
   "cell_type": "code",
   "execution_count": 5,
   "id": "55749d71-a5d7-47d5-8e19-1fc0cdc43c1a",
   "metadata": {
    "tags": []
   },
   "outputs": [
    {
     "name": "stdout",
     "output_type": "stream",
     "text": [
      "Working on device: cuda\n",
      "Lodading the data...\n",
      "Successfully loaded the data\n"
     ]
    }
   ],
   "source": [
    "t = Trainer(config)"
   ]
  },
  {
   "cell_type": "code",
   "execution_count": 6,
   "id": "63536df2-2156-423e-a7f7-ccf840405f3a",
   "metadata": {},
   "outputs": [
    {
     "name": "stdout",
     "output_type": "stream",
     "text": [
      "Beginning training with epochs 1\n",
      "Running epoch 1\n"
     ]
    },
    {
     "name": "stderr",
     "output_type": "stream",
     "text": [
      "100%|██████████| 142/142 [01:54<00:00,  1.24it/s]\n"
     ]
    },
    {
     "name": "stdout",
     "output_type": "stream",
     "text": [
      "Mean loss after epoch 1: -29243.15170120857\n",
      "Mean reconstruction loss after epoch 1: -44355.47634586818\n",
      "Mean kl divergence after epoch 1: 367.6050140605846\n",
      "Mean autoencoder loss after epoch 1: -43987.87126224142\n",
      "Mean adversarial loss after epoch 1: 1023.3162298202515\n",
      "rmse = 15.147687911987305\n",
      "bpd = 1.2798285152090347\n",
      "batches = 0\n"
     ]
    },
    {
     "name": "stderr",
     "output_type": "stream",
     "text": [
      "100%|██████████| 2957/2957 [00:27<00:00, 108.47it/s]\n"
     ]
    },
    {
     "name": "stdout",
     "output_type": "stream",
     "text": [
      "Average validation loss: -53672.69921875\n",
      "Average validation reconstruction loss: -53932.05859375\n",
      "Average kld reconstruction loss: 259.2856750488281\n",
      "rmse = 248.97946166992188\n",
      "bpd = 1.556150197982788\n",
      "batches = 0\n",
      "precision = 0.000427376926201906\n",
      "recall = 0.001078105722691468\n",
      "F1 = 0.0005479069848878592\n"
     ]
    },
    {
     "name": "stderr",
     "output_type": "stream",
     "text": [
      "100%|██████████| 2957/2957 [00:27<00:00, 108.11it/s]\n"
     ]
    },
    {
     "name": "stdout",
     "output_type": "stream",
     "text": [
      "Training discriminator network on drug latent space\n"
     ]
    },
    {
     "name": "stderr",
     "output_type": "stream",
     "text": [
      "100%|██████████| 400/400 [00:17<00:00, 22.86it/s]\n"
     ]
    },
    {
     "name": "stdout",
     "output_type": "stream",
     "text": [
      "Training discriminator network on drug latent space\n",
      "Training discriminator network on drug latent space\n"
     ]
    },
    {
     "name": "stderr",
     "output_type": "stream",
     "text": [
      "100%|██████████| 400/400 [00:17<00:00, 23.00it/s]\n"
     ]
    },
    {
     "name": "stdout",
     "output_type": "stream",
     "text": [
      "Training discriminator network on drug latent space\n",
      "Average validation loss: -53684.4296875\n",
      "Average validation reconstruction loss: -53943.65234375\n",
      "Average kld reconstruction loss: 259.2852783203125\n",
      "rmse = 248.93154907226562\n",
      "bpd = 1.5564848184585571\n",
      "batches = 0\n",
      "precision = 0.00025940337224383917\n",
      "recall = 0.0002986302236563222\n",
      "F1 = 0.00027763807641517483\n",
      "disentanglement_score_basal = 1.0\n",
      "disentanglement_score_z = 1.0\n",
      "difference_disentanglement = 0.0\n",
      "silhouette_score_basal = -0.09682721644639969\n",
      "silhouette_score_z = 0.11219847202301025\n",
      "difference_silhouette = 0.20902568101882935\n"
     ]
    }
   ],
   "source": [
    "t.train()"
   ]
  },
  {
   "cell_type": "code",
   "execution_count": null,
   "id": "55dc4e4e-8cab-444c-a4c0-153e99e38cdb",
   "metadata": {},
   "outputs": [],
   "source": [
    "t.model.module.training"
   ]
  },
  {
   "cell_type": "code",
   "execution_count": null,
   "id": "45788bf8-b474-4fd2-969e-669e7e19196b",
   "metadata": {},
   "outputs": [],
   "source": [
    "model = t.model.module\n",
    "checkpoint = torch.load('/home/icb/alessandro.palma/checkpoints/vae_run_res_100')\n",
    "model.load_state_dict(checkpoint['model_state_dict'])"
   ]
  },
  {
   "cell_type": "code",
   "execution_count": null,
   "id": "424163fe-3775-402b-8414-54e368d0fff7",
   "metadata": {},
   "outputs": [],
   "source": [
    "data = next(iter(t.loader_train))"
   ]
  },
  {
   "cell_type": "code",
   "execution_count": null,
   "id": "a4d29c3d-6dcd-44a2-a871-241770128fcf",
   "metadata": {},
   "outputs": [],
   "source": [
    "data.keys()"
   ]
  },
  {
   "cell_type": "code",
   "execution_count": null,
   "id": "0502a864-4ee2-4d23-a833-42af99a30945",
   "metadata": {},
   "outputs": [],
   "source": [
    "Plotter('').plot_channel_panel(tensor_to_image(data['X'][249]), 2, False, True, rgb = False)"
   ]
  },
  {
   "cell_type": "code",
   "execution_count": null,
   "id": "b4c23bff-a6fb-41d5-9846-88f97b1acee1",
   "metadata": {},
   "outputs": [],
   "source": [
    "data['smile_id']"
   ]
  },
  {
   "cell_type": "code",
   "execution_count": 17,
   "id": "b969c909-81e0-40e8-996c-402e71457d19",
   "metadata": {},
   "outputs": [
    {
     "ename": "TypeError",
     "evalue": "plot_channel_panel() missing 5 required positional arguments: 'self', 'image', 'epoch', 'save', and 'plot'",
     "output_type": "error",
     "traceback": [
      "\u001b[0;31m---------------------------------------------------------------------------\u001b[0m",
      "\u001b[0;31mTypeError\u001b[0m                                 Traceback (most recent call last)",
      "\u001b[0;32m<ipython-input-17-9b07ec6b50a5>\u001b[0m in \u001b[0;36m<module>\u001b[0;34m\u001b[0m\n\u001b[0;32m----> 1\u001b[0;31m \u001b[0mPlotter\u001b[0m\u001b[0;34m.\u001b[0m\u001b[0mplot_channel_panel\u001b[0m\u001b[0;34m(\u001b[0m\u001b[0;34m)\u001b[0m\u001b[0;34m\u001b[0m\u001b[0;34m\u001b[0m\u001b[0m\n\u001b[0m",
      "\u001b[0;31mTypeError\u001b[0m: plot_channel_panel() missing 5 required positional arguments: 'self', 'image', 'epoch', 'save', and 'plot'"
     ]
    }
   ],
   "source": [
    "Plotter.plot_channel_panel()"
   ]
  }
 ],
 "metadata": {
  "kernelspec": {
   "display_name": "Python 3",
   "language": "python",
   "name": "python3"
  },
  "language_info": {
   "codemirror_mode": {
    "name": "ipython",
    "version": 3
   },
   "file_extension": ".py",
   "mimetype": "text/x-python",
   "name": "python",
   "nbconvert_exporter": "python",
   "pygments_lexer": "ipython3",
   "version": "3.9.7"
  }
 },
 "nbformat": 4,
 "nbformat_minor": 5
}
