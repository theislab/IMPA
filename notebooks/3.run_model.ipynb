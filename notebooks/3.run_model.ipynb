{
 "cells": [
  {
   "cell_type": "code",
   "execution_count": 1,
   "id": "d636aaff-6d7f-4da3-b77f-d21b23507f6a",
   "metadata": {},
   "outputs": [
    {
     "name": "stdout",
     "output_type": "stream",
     "text": [
      "/mnt/home/icb/alessandro.palma/imCPA\n"
     ]
    }
   ],
   "source": [
    "cd ~/imCPA"
   ]
  },
  {
   "cell_type": "code",
   "execution_count": 2,
   "id": "e8c5c0b7-6144-4026-a215-84cbcb5f3fc5",
   "metadata": {},
   "outputs": [],
   "source": [
    "# Import the files \n",
    "import tarfile\n",
    "import numpy as np\n",
    "import matplotlib.pyplot as plt\n",
    "import cv2\n",
    "import os\n",
    "import pandas as pd\n",
    "from PIL import Image\n",
    "import timeit,time\n",
    "from plot_utils import Plotter \n",
    "import torch\n",
    "from training_utils import *\n",
    "import json\n",
    "import sys"
   ]
  },
  {
   "cell_type": "code",
   "execution_count": 3,
   "id": "833b0fdf-7664-4787-9c89-f40a1af1022d",
   "metadata": {},
   "outputs": [],
   "source": [
    "torch.cuda.set_per_process_memory_fraction(1.0, device=None)"
   ]
  },
  {
   "cell_type": "code",
   "execution_count": 4,
   "id": "42ee9f92-2f3f-4c2e-a4e2-4eedeb205593",
   "metadata": {},
   "outputs": [],
   "source": [
    "config = Config(config_path = '/home/icb/alessandro.palma/imCPA/configs/config_sigma_vae.json') "
   ]
  },
  {
   "cell_type": "code",
   "execution_count": 5,
   "id": "55749d71-a5d7-47d5-8e19-1fc0cdc43c1a",
   "metadata": {
    "tags": []
   },
   "outputs": [
    {
     "name": "stdout",
     "output_type": "stream",
     "text": [
      "Working on device: cuda\n",
      "Lodading the data...\n",
      "Load the data\n",
      "Successfully loaded the data\n"
     ]
    }
   ],
   "source": [
    "t = Trainer(config)"
   ]
  },
  {
   "cell_type": "code",
   "execution_count": null,
   "id": "63536df2-2156-423e-a7f7-ccf840405f3a",
   "metadata": {},
   "outputs": [
    {
     "name": "stdout",
     "output_type": "stream",
     "text": [
      "Create output directories for the experiment\n",
      "Beginning training with epochs 100\n",
      "Running epoch 1\n"
     ]
    },
    {
     "name": "stderr",
     "output_type": "stream",
     "text": [
      "100%|██████████| 401/401 [06:46<00:00,  1.01s/it]"
     ]
    },
    {
     "name": "stdout",
     "output_type": "stream",
     "text": [
      "Mean loss after epoch 1: -53261.83017127591\n",
      "Mean reconstruction loss after epoch 1: -53750.43874444748\n",
      "Mean kl divergence after epoch 1: -488.6086182855906\n",
      "Seen batches 0\n",
      "Rmse = 33.95563888549805\n",
      "LLH in bit/dim = 1.5509098284444076\n"
     ]
    },
    {
     "name": "stderr",
     "output_type": "stream",
     "text": [
      "\n"
     ]
    },
    {
     "name": "stdout",
     "output_type": "stream",
     "text": [
      "Average validation loss: -65427.241286057695\n",
      "Average validation reconstruction loss: -66525.01802884616\n",
      "Average kld reconstruction loss: -1097.7767380934495\n",
      "Seen batches 0\n",
      "Rmse = 1.6609231233596802\n",
      "LLH in bit/dim = 1.919506272105305\n",
      "New best loss is -65427.241286057695\n",
      "Save new checkpoint at /home/icb/alessandro.palma/checkpoints/vae_resid10_dim100\n",
      "Running epoch 2\n"
     ]
    },
    {
     "name": "stderr",
     "output_type": "stream",
     "text": [
      "100%|██████████| 401/401 [06:45<00:00,  1.01s/it]"
     ]
    },
    {
     "name": "stdout",
     "output_type": "stream",
     "text": [
      "Mean loss after epoch 2: -73372.14142378428\n",
      "Mean reconstruction loss after epoch 2: -74685.4802252182\n",
      "Mean kl divergence after epoch 2: -1313.3386250255708\n",
      "Seen batches 0\n",
      "Rmse = 21.798311233520508\n",
      "LLH in bit/dim = 2.1549674389466604\n"
     ]
    },
    {
     "name": "stderr",
     "output_type": "stream",
     "text": [
      "\n"
     ]
    },
    {
     "name": "stdout",
     "output_type": "stream",
     "text": [
      "Average validation loss: -77310.18419471153\n",
      "Average validation reconstruction loss: -78728.60456730769\n",
      "Average kld reconstruction loss: -1418.4207528921274\n",
      "Seen batches 0\n",
      "Rmse = 1.3000138998031616\n",
      "LLH in bit/dim = 2.27162734770726\n",
      "New best loss is -77310.18419471153\n",
      "Save new checkpoint at /home/icb/alessandro.palma/checkpoints/vae_resid10_dim100\n",
      "Running epoch 3\n"
     ]
    },
    {
     "name": "stderr",
     "output_type": "stream",
     "text": [
      "100%|██████████| 401/401 [06:45<00:00,  1.01s/it]"
     ]
    },
    {
     "name": "stdout",
     "output_type": "stream",
     "text": [
      "Mean loss after epoch 3: -79525.38279301746\n",
      "Mean reconstruction loss after epoch 3: -80979.85210801123\n",
      "Mean kl divergence after epoch 3: -1454.4693207776456\n",
      "Seen batches 0\n",
      "Rmse = 19.165836334228516\n",
      "LLH in bit/dim = 2.3365846209629897\n"
     ]
    },
    {
     "name": "stderr",
     "output_type": "stream",
     "text": [
      "\n"
     ]
    },
    {
     "name": "stdout",
     "output_type": "stream",
     "text": [
      "Average validation loss: -78760.90354567308\n",
      "Average validation reconstruction loss: -80239.90234375\n",
      "Average kld reconstruction loss: -1478.9993802584136\n",
      "Seen batches 0\n",
      "Rmse = 1.2611312866210938\n",
      "LLH in bit/dim = 2.315234183854857\n",
      "New best loss is -78760.90354567308\n",
      "Save new checkpoint at /home/icb/alessandro.palma/checkpoints/vae_resid10_dim100\n",
      "Running epoch 4\n"
     ]
    },
    {
     "name": "stderr",
     "output_type": "stream",
     "text": [
      "100%|██████████| 401/401 [06:45<00:00,  1.01s/it]"
     ]
    },
    {
     "name": "stdout",
     "output_type": "stream",
     "text": [
      "Mean loss after epoch 4: -81520.35956982544\n",
      "Mean reconstruction loss after epoch 4: -83005.90192487532\n",
      "Mean kl divergence after epoch 4: -1485.5425163896898\n",
      "Seen batches 0\n",
      "Rmse = 18.399581909179688\n",
      "LLH in bit/dim = 2.395044061430666\n"
     ]
    },
    {
     "name": "stderr",
     "output_type": "stream",
     "text": [
      "\n"
     ]
    },
    {
     "name": "stdout",
     "output_type": "stream",
     "text": [
      "Average validation loss: -79653.01592548077\n",
      "Average validation reconstruction loss: -81139.14423076923\n",
      "Average kld reconstruction loss: -1486.1282207782451\n",
      "Seen batches 0\n",
      "Rmse = 1.2385203838348389\n",
      "LLH in bit/dim = 2.3411808200741024\n",
      "New best loss is -79653.01592548077\n",
      "Save new checkpoint at /home/icb/alessandro.palma/checkpoints/vae_resid10_dim100\n",
      "Running epoch 5\n"
     ]
    },
    {
     "name": "stderr",
     "output_type": "stream",
     "text": [
      "100%|██████████| 401/401 [06:45<00:00,  1.01s/it]"
     ]
    },
    {
     "name": "stdout",
     "output_type": "stream",
     "text": [
      "Mean loss after epoch 5: -82889.71545745012\n",
      "Mean reconstruction loss after epoch 5: -84398.6424953242\n",
      "Mean kl divergence after epoch 5: -1508.9270969305253\n",
      "Seen batches 0\n",
      "Rmse = 17.891155242919922\n",
      "LLH in bit/dim = 2.435230059715295\n"
     ]
    },
    {
     "name": "stderr",
     "output_type": "stream",
     "text": [
      "\n"
     ]
    },
    {
     "name": "stdout",
     "output_type": "stream",
     "text": [
      "Average validation loss: -83131.88942307692\n",
      "Average validation reconstruction loss: -84628.60036057692\n",
      "Average kld reconstruction loss: -1496.71096097506\n",
      "Seen batches 0\n",
      "Rmse = 1.154645323753357\n",
      "LLH in bit/dim = 2.4418652411515653\n",
      "New best loss is -83131.88942307692\n",
      "Save new checkpoint at /home/icb/alessandro.palma/checkpoints/vae_resid10_dim100\n",
      "Running epoch 6\n"
     ]
    },
    {
     "name": "stderr",
     "output_type": "stream",
     "text": [
      "100%|██████████| 401/401 [06:45<00:00,  1.01s/it]"
     ]
    },
    {
     "name": "stdout",
     "output_type": "stream",
     "text": [
      "Mean loss after epoch 6: -83815.56353257482\n",
      "Mean reconstruction loss after epoch 6: -85344.60374454489\n",
      "Mean kl divergence after epoch 6: -1529.0403504787835\n",
      "Seen batches 0\n",
      "Rmse = 17.554306030273438\n",
      "LLH in bit/dim = 2.4625247317777714\n"
     ]
    },
    {
     "name": "stderr",
     "output_type": "stream",
     "text": [
      "\n"
     ]
    },
    {
     "name": "stdout",
     "output_type": "stream",
     "text": [
      "Average validation loss: -83686.97836538461\n",
      "Average validation reconstruction loss: -85217.69651442308\n",
      "Average kld reconstruction loss: -1530.7187640850361\n",
      "Seen batches 0\n",
      "Rmse = 1.1410338878631592\n",
      "LLH in bit/dim = 2.4588629631467778\n",
      "New best loss is -83686.97836538461\n",
      "Save new checkpoint at /home/icb/alessandro.palma/checkpoints/vae_resid10_dim100\n",
      "Running epoch 7\n"
     ]
    },
    {
     "name": "stderr",
     "output_type": "stream",
     "text": [
      "100%|██████████| 401/401 [06:45<00:00,  1.01s/it]"
     ]
    },
    {
     "name": "stdout",
     "output_type": "stream",
     "text": [
      "Mean loss after epoch 7: -84785.9783938591\n",
      "Mean reconstruction loss after epoch 7: -86332.86529769326\n",
      "Mean kl divergence after epoch 7: -1546.8869418860077\n",
      "Seen batches 0\n",
      "Rmse = 17.20826530456543\n",
      "LLH in bit/dim = 2.4910399326143393\n"
     ]
    },
    {
     "name": "stderr",
     "output_type": "stream",
     "text": [
      "\n"
     ]
    },
    {
     "name": "stdout",
     "output_type": "stream",
     "text": [
      "Average validation loss: -83926.04056490384\n",
      "Average validation reconstruction loss: -85471.50150240384\n",
      "Average kld reconstruction loss: -1545.4610501802886\n",
      "Seen batches 0\n",
      "Rmse = 1.1352505683898926\n",
      "LLH in bit/dim = 2.4661862270970323\n"
     ]
    },
    {
     "name": "stderr",
     "output_type": "stream",
     "text": [
      "/mnt/home/icb/alessandro.palma/imCPA/plot_utils.py:49: RuntimeWarning: More than 20 figures have been opened. Figures created through the pyplot interface (`matplotlib.pyplot.figure`) are retained until explicitly closed and may consume too much memory. (To control this warning, see the rcParam `figure.max_open_warning`).\n",
      "  fig = plt.figure(figsize  = (3,3))\n"
     ]
    },
    {
     "name": "stdout",
     "output_type": "stream",
     "text": [
      "New best loss is -83926.04056490384\n",
      "Save new checkpoint at /home/icb/alessandro.palma/checkpoints/vae_resid10_dim100\n",
      "Running epoch 8\n"
     ]
    },
    {
     "name": "stderr",
     "output_type": "stream",
     "text": [
      "100%|██████████| 401/401 [06:45<00:00,  1.01s/it]"
     ]
    },
    {
     "name": "stdout",
     "output_type": "stream",
     "text": [
      "Mean loss after epoch 8: -85427.0775405237\n",
      "Mean reconstruction loss after epoch 8: -86985.05940227555\n",
      "Mean kl divergence after epoch 8: -1557.9819138067917\n",
      "Seen batches 0\n",
      "Rmse = 16.984176635742188\n",
      "LLH in bit/dim = 2.509858276621897\n"
     ]
    },
    {
     "name": "stderr",
     "output_type": "stream",
     "text": [
      "\n"
     ]
    },
    {
     "name": "stdout",
     "output_type": "stream",
     "text": [
      "Average validation loss: -81066.21514423077\n",
      "Average validation reconstruction loss: -82607.04717548077\n",
      "Average kld reconstruction loss: -1540.832270695613\n",
      "Seen batches 0\n",
      "Rmse = 1.20252525806427\n",
      "LLH in bit/dim = 2.383535546050935\n",
      "Running epoch 9\n"
     ]
    },
    {
     "name": "stderr",
     "output_type": "stream",
     "text": [
      "100%|██████████| 401/401 [06:46<00:00,  1.01s/it]"
     ]
    },
    {
     "name": "stdout",
     "output_type": "stream",
     "text": [
      "Mean loss after epoch 9: -86019.64333307356\n",
      "Mean reconstruction loss after epoch 9: -87588.85849828554\n",
      "Mean kl divergence after epoch 9: -1569.215237967094\n",
      "Seen batches 0\n",
      "Rmse = 16.77890968322754\n",
      "LLH in bit/dim = 2.5272802358520337\n"
     ]
    },
    {
     "name": "stderr",
     "output_type": "stream",
     "text": [
      "\n"
     ]
    },
    {
     "name": "stdout",
     "output_type": "stream",
     "text": [
      "Average validation loss: -84017.77463942308\n",
      "Average validation reconstruction loss: -85530.99068509616\n",
      "Average kld reconstruction loss: -1513.216557429387\n",
      "Seen batches 0\n",
      "Rmse = 1.133927583694458\n",
      "LLH in bit/dim = 2.467902722074167\n",
      "New best loss is -84017.77463942308\n",
      "Save new checkpoint at /home/icb/alessandro.palma/checkpoints/vae_resid10_dim100\n",
      "Running epoch 10\n"
     ]
    },
    {
     "name": "stderr",
     "output_type": "stream",
     "text": [
      "100%|██████████| 401/401 [06:46<00:00,  1.01s/it]"
     ]
    },
    {
     "name": "stdout",
     "output_type": "stream",
     "text": [
      "Mean loss after epoch 10: -86504.58570370948\n",
      "Mean reconstruction loss after epoch 10: -88082.4954021197\n",
      "Mean kl divergence after epoch 10: -1577.909627481589\n",
      "Seen batches 0\n",
      "Rmse = 16.61306381225586\n",
      "LLH in bit/dim = 2.5415235861152605\n"
     ]
    },
    {
     "name": "stderr",
     "output_type": "stream",
     "text": [
      "\n"
     ]
    },
    {
     "name": "stdout",
     "output_type": "stream",
     "text": [
      "Average validation loss: -83074.25120192308\n",
      "Average validation reconstruction loss: -84577.10126201923\n",
      "Average kld reconstruction loss: -1502.8502197265625\n",
      "Seen batches 0\n",
      "Rmse = 1.1558631658554077\n",
      "LLH in bit/dim = 2.440379291269577\n",
      "Running epoch 11\n"
     ]
    },
    {
     "name": "stderr",
     "output_type": "stream",
     "text": [
      "100%|██████████| 401/401 [06:46<00:00,  1.01s/it]"
     ]
    },
    {
     "name": "stdout",
     "output_type": "stream",
     "text": [
      "Mean loss after epoch 11: -86931.02240492518\n",
      "Mean reconstruction loss after epoch 11: -88517.45980751247\n",
      "Mean kl divergence after epoch 11: -1586.4373639266094\n",
      "Seen batches 0\n",
      "Rmse = 16.468738555908203\n",
      "LLH in bit/dim = 2.5540740059277276\n"
     ]
    },
    {
     "name": "stderr",
     "output_type": "stream",
     "text": [
      "\n"
     ]
    },
    {
     "name": "stdout",
     "output_type": "stream",
     "text": [
      "Average validation loss: -85169.0625\n",
      "Average validation reconstruction loss: -86774.15144230769\n",
      "Average kld reconstruction loss: -1605.0888155423677\n",
      "Seen batches 0\n",
      "Rmse = 1.105975866317749\n",
      "LLH in bit/dim = 2.503772759263304\n",
      "New best loss is -85169.0625\n",
      "Save new checkpoint at /home/icb/alessandro.palma/checkpoints/vae_resid10_dim100\n",
      "Running epoch 12\n"
     ]
    },
    {
     "name": "stderr",
     "output_type": "stream",
     "text": [
      "100%|██████████| 401/401 [06:46<00:00,  1.01s/it]"
     ]
    },
    {
     "name": "stdout",
     "output_type": "stream",
     "text": [
      "Mean loss after epoch 12: -87378.58681421446\n",
      "Mean reconstruction loss after epoch 12: -88975.08632715087\n",
      "Mean kl divergence after epoch 12: -1596.4995789944085\n",
      "Seen batches 0\n",
      "Rmse = 16.317155838012695\n",
      "LLH in bit/dim = 2.5672783161369597\n"
     ]
    },
    {
     "name": "stderr",
     "output_type": "stream",
     "text": [
      "\n"
     ]
    },
    {
     "name": "stdout",
     "output_type": "stream",
     "text": [
      "Average validation loss: -86039.40444711539\n",
      "Average validation reconstruction loss: -87608.85697115384\n",
      "Average kld reconstruction loss: -1569.4529325045073\n",
      "Seen batches 0\n",
      "Rmse = 1.0874768495559692\n",
      "LLH in bit/dim = 2.527857269804683\n",
      "New best loss is -86039.40444711539\n",
      "Save new checkpoint at /home/icb/alessandro.palma/checkpoints/vae_resid10_dim100\n",
      "Running epoch 13\n"
     ]
    },
    {
     "name": "stderr",
     "output_type": "stream",
     "text": [
      "100%|██████████| 401/401 [06:45<00:00,  1.01s/it]"
     ]
    },
    {
     "name": "stdout",
     "output_type": "stream",
     "text": [
      "Mean loss after epoch 13: -87685.27943812344\n",
      "Mean reconstruction loss after epoch 13: -89287.59186019326\n",
      "Mean kl divergence after epoch 13: -1602.3124665143782\n",
      "Seen batches 0\n",
      "Rmse = 16.21495819091797\n",
      "LLH in bit/dim = 2.576295319792372\n"
     ]
    },
    {
     "name": "stderr",
     "output_type": "stream",
     "text": [
      "\n"
     ]
    },
    {
     "name": "stdout",
     "output_type": "stream",
     "text": [
      "Average validation loss: -85280.24368990384\n",
      "Average validation reconstruction loss: -86861.78064903847\n",
      "Average kld reconstruction loss: -1581.5360436072717\n",
      "Seen batches 0\n",
      "Rmse = 1.1039761304855347\n",
      "LLH in bit/dim = 2.5063012037030545\n",
      "Running epoch 14\n"
     ]
    },
    {
     "name": "stderr",
     "output_type": "stream",
     "text": [
      "100%|██████████| 401/401 [06:46<00:00,  1.01s/it]"
     ]
    },
    {
     "name": "stdout",
     "output_type": "stream",
     "text": [
      "Mean loss after epoch 14: -88116.32309850374\n",
      "Mean reconstruction loss after epoch 14: -89725.97722490648\n",
      "Mean kl divergence after epoch 14: -1609.6540798272872\n",
      "Seen batches 0\n",
      "Rmse = 16.072256088256836\n",
      "LLH in bit/dim = 2.5889444476257735\n"
     ]
    },
    {
     "name": "stderr",
     "output_type": "stream",
     "text": [
      "\n"
     ]
    },
    {
     "name": "stdout",
     "output_type": "stream",
     "text": [
      "Average validation loss: -83214.92067307692\n",
      "Average validation reconstruction loss: -84828.20222355769\n",
      "Average kld reconstruction loss: -1613.2818838266226\n",
      "Seen batches 0\n",
      "Rmse = 1.1500027179718018\n",
      "LLH in bit/dim = 2.4476245335090563\n",
      "Running epoch 15\n"
     ]
    },
    {
     "name": "stderr",
     "output_type": "stream",
     "text": [
      "100%|██████████| 401/401 [06:46<00:00,  1.01s/it]"
     ]
    },
    {
     "name": "stdout",
     "output_type": "stream",
     "text": [
      "Mean loss after epoch 15: -88421.62420121572\n",
      "Mean reconstruction loss after epoch 15: -90038.16581592892\n",
      "Mean kl divergence after epoch 15: -1616.5415544390976\n",
      "Seen batches 0\n",
      "Rmse = 15.971701622009277\n",
      "LLH in bit/dim = 2.597952306267577\n"
     ]
    },
    {
     "name": "stderr",
     "output_type": "stream",
     "text": [
      "\n"
     ]
    },
    {
     "name": "stdout",
     "output_type": "stream",
     "text": [
      "Average validation loss: -86801.55649038461\n",
      "Average validation reconstruction loss: -88394.98016826923\n",
      "Average kld reconstruction loss: -1593.423832820012\n",
      "Seen batches 0\n",
      "Rmse = 1.070376992225647\n",
      "LLH in bit/dim = 2.550539990564806\n",
      "New best loss is -86801.55649038461\n",
      "Save new checkpoint at /home/icb/alessandro.palma/checkpoints/vae_resid10_dim100\n",
      "Running epoch 16\n"
     ]
    },
    {
     "name": "stderr",
     "output_type": "stream",
     "text": [
      "100%|██████████| 401/401 [06:46<00:00,  1.01s/it]"
     ]
    },
    {
     "name": "stdout",
     "output_type": "stream",
     "text": [
      "Mean loss after epoch 16: -88845.96043095387\n",
      "Mean reconstruction loss after epoch 16: -90470.5588372818\n",
      "Mean kl divergence after epoch 16: -1624.5982395086503\n",
      "Seen batches 0\n",
      "Rmse = 15.83332347869873\n",
      "LLH in bit/dim = 2.6104285316199927\n"
     ]
    },
    {
     "name": "stderr",
     "output_type": "stream",
     "text": [
      "\n"
     ]
    },
    {
     "name": "stdout",
     "output_type": "stream",
     "text": [
      "Average validation loss: -86470.97385817308\n",
      "Average validation reconstruction loss: -88076.88792067308\n",
      "Average kld reconstruction loss: -1605.9142456054688\n",
      "Seen batches 0\n",
      "Rmse = 1.0772724151611328\n",
      "LLH in bit/dim = 2.541361788401762\n",
      "Running epoch 17\n"
     ]
    },
    {
     "name": "stderr",
     "output_type": "stream",
     "text": [
      "  8%|▊         | 34/401 [00:37<06:08,  1.00s/it]"
     ]
    }
   ],
   "source": [
    "t.train()"
   ]
  },
  {
   "cell_type": "code",
   "execution_count": 47,
   "id": "45788bf8-b474-4fd2-969e-669e7e19196b",
   "metadata": {},
   "outputs": [
    {
     "data": {
      "text/plain": [
       "<All keys matched successfully>"
      ]
     },
     "execution_count": 47,
     "metadata": {},
     "output_type": "execute_result"
    }
   ],
   "source": [
    "model = t.model.module\n",
    "checkpoint = torch.load('/home/icb/alessandro.palma/checkpoints/vae_run_res_100')\n",
    "model.load_state_dict(checkpoint['model_state_dict'])"
   ]
  },
  {
   "cell_type": "code",
   "execution_count": 48,
   "id": "424163fe-3775-402b-8414-54e368d0fff7",
   "metadata": {},
   "outputs": [],
   "source": [
    "data = next(iter(t.loader_train))"
   ]
  },
  {
   "cell_type": "code",
   "execution_count": null,
   "id": "bdd5b4a9-2094-4e3c-a8a6-3b0a47466cdd",
   "metadata": {},
   "outputs": [],
   "source": [
    "z = model(data['X'].to(t.device))['z']"
   ]
  },
  {
   "cell_type": "code",
   "execution_count": 65,
   "id": "7a6409f9-08fd-4d7f-af52-bf1031232260",
   "metadata": {},
   "outputs": [
    {
     "data": {
      "text/plain": [
       "tensor(0., device='cuda:0', grad_fn=<ExpBackward>)"
      ]
     },
     "execution_count": 65,
     "metadata": {},
     "output_type": "execute_result"
    }
   ],
   "source": [
    "torch.exp(-F.gaussian_nll_loss(torch.zeros(512, 512).to(t.device), z, \n",
    "                                torch.ones(512).to(t.device), eps=1e-06, reduction='mean'))"
   ]
  },
  {
   "cell_type": "code",
   "execution_count": 66,
   "id": "8c2c364e-fd9f-4f47-a710-f5259d6e63b7",
   "metadata": {},
   "outputs": [
    {
     "data": {
      "text/plain": [
       "tensor([[-1.2789, -0.9533, -1.0354,  ..., -2.0077,  1.3127, -0.5311],\n",
       "        [ 2.5931, -1.5500, -0.3522,  ...,  1.3378,  0.8420,  0.2340],\n",
       "        [-1.3245, -1.9780, -1.4683,  ...,  1.5472,  0.8240,  1.3067],\n",
       "        ...,\n",
       "        [ 0.0954,  0.5935,  2.5115,  ..., -1.1101,  1.4514, -1.8272],\n",
       "        [-0.8832,  0.3693, -0.8817,  ...,  0.1720, -1.3942,  0.9655],\n",
       "        [-1.2281,  1.4231, -1.7817,  ...,  0.8463, -0.4898, -1.2811]],\n",
       "       device='cuda:0', grad_fn=<AddBackward0>)"
      ]
     },
     "execution_count": 66,
     "metadata": {},
     "output_type": "execute_result"
    }
   ],
   "source": [
    "z\n"
   ]
  }
 ],
 "metadata": {
  "kernelspec": {
   "display_name": "Python 3",
   "language": "python",
   "name": "python3"
  },
  "language_info": {
   "codemirror_mode": {
    "name": "ipython",
    "version": 3
   },
   "file_extension": ".py",
   "mimetype": "text/x-python",
   "name": "python",
   "nbconvert_exporter": "python",
   "pygments_lexer": "ipython3",
   "version": "3.9.7"
  }
 },
 "nbformat": 4,
 "nbformat_minor": 5
}
