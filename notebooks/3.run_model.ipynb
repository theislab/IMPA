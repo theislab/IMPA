{
 "cells": [
  {
   "cell_type": "code",
   "execution_count": 30,
   "id": "d636aaff-6d7f-4da3-b77f-d21b23507f6a",
   "metadata": {},
   "outputs": [
    {
     "name": "stdout",
     "output_type": "stream",
     "text": [
      "/mnt/home/icb/alessandro.palma/imCPA\n"
     ]
    }
   ],
   "source": [
    "cd ~/imCPA"
   ]
  },
  {
   "cell_type": "code",
   "execution_count": 31,
   "id": "e8c5c0b7-6144-4026-a215-84cbcb5f3fc5",
   "metadata": {},
   "outputs": [],
   "source": [
    "# Import the files \n",
    "import tarfile\n",
    "import numpy as np\n",
    "import matplotlib.pyplot as plt\n",
    "import cv2\n",
    "import os\n",
    "import pandas as pd\n",
    "from PIL import Image\n",
    "import timeit,time\n",
    "from plot_utils import Plotter \n",
    "import torch\n",
    "from training_utils import *\n",
    "import json\n",
    "import sys"
   ]
  },
  {
   "cell_type": "code",
   "execution_count": 32,
   "id": "833b0fdf-7664-4787-9c89-f40a1af1022d",
   "metadata": {},
   "outputs": [],
   "source": [
    "torch.cuda.set_per_process_memory_fraction(1.0, device=None)"
   ]
  },
  {
   "cell_type": "code",
   "execution_count": 33,
   "id": "42ee9f92-2f3f-4c2e-a4e2-4eedeb205593",
   "metadata": {},
   "outputs": [],
   "source": [
    "config = Config(config_path = '/home/icb/alessandro.palma/imCPA/configs/config_sigma_vae.json') "
   ]
  },
  {
   "cell_type": "code",
   "execution_count": 34,
   "id": "55749d71-a5d7-47d5-8e19-1fc0cdc43c1a",
   "metadata": {
    "tags": []
   },
   "outputs": [
    {
     "name": "stdout",
     "output_type": "stream",
     "text": [
      "Working on device: cuda\n",
      "Lodading the data...\n",
      "Successfully loaded the data\n"
     ]
    }
   ],
   "source": [
    "t = Trainer(config)"
   ]
  },
  {
   "cell_type": "code",
   "execution_count": null,
   "id": "63536df2-2156-423e-a7f7-ccf840405f3a",
   "metadata": {},
   "outputs": [],
   "source": [
    "t.train()"
   ]
  },
  {
   "cell_type": "code",
   "execution_count": null,
   "id": "45788bf8-b474-4fd2-969e-669e7e19196b",
   "metadata": {},
   "outputs": [],
   "source": [
    "model = t.model.module\n",
    "checkpoint = torch.load('/home/icb/alessandro.palma/checkpoints/vae_run_res_100')\n",
    "model.load_state_dict(checkpoint['model_state_dict'])"
   ]
  },
  {
   "cell_type": "code",
   "execution_count": 7,
   "id": "424163fe-3775-402b-8414-54e368d0fff7",
   "metadata": {},
   "outputs": [],
   "source": [
    "data = next(iter(t.loader_train))"
   ]
  },
  {
   "cell_type": "code",
   "execution_count": 9,
   "id": "a4d29c3d-6dcd-44a2-a871-241770128fcf",
   "metadata": {},
   "outputs": [
    {
     "data": {
      "text/plain": [
       "dict_keys(['X', 'file_name', 'mol_name', 'mol_one_hot', 'assay_labels', 'state', 'drug_embedding'])"
      ]
     },
     "execution_count": 8,
     "metadata": {},
     "output_type": "execute_result"
    }
   ],
   "source": [
    "data.keys()"
   ]
  },
  {
   "cell_type": "code",
   "execution_count": 28,
   "id": "0502a864-4ee2-4d23-a833-42af99a30945",
   "metadata": {},
   "outputs": [
    {
     "data": {
      "text/plain": [
       "tensor([ 6168,  5245,  9216,  4171,   557,  7284,  8059, 10144,  5976,  6447,\n",
       "         6149,  9310,  7424,  3761,  5256,  8870,  4332,  5973,  7354, 10171,\n",
       "         9865,  2063,   919,  9715,  4936, 10160,  1164,  2535,  9571,  9509,\n",
       "         6767,  3688,  7078,  4581,  6255, 10260,  9308,     1,  4821,  2439,\n",
       "         7255,  4887,  3905,  9744,  5123,  3002,  8438,  9270,  9411,  9550,\n",
       "         4097,  9023,  6856,  8996,  4649,  5165,  3717,  5786,  9464,  1073,\n",
       "         1767,  9777,  7230,  6677,  4067,  5095,  9771, 10118,  9515,  8356,\n",
       "         4914,  8126,  9029,  9391,  1103,   391,  9023,  1619,  2820,  8929,\n",
       "         3890,  2371,  4276, 10068,  9510,  6226,  7997,   631,  1137,  7242,\n",
       "         4117,   125,  1514,  7992,  1726,  1705,  6828,  8124,  1502,  2298,\n",
       "         5312,  6061,  9023,  5207,  8840, 10069,  8720,  6989,  9747,  1758,\n",
       "         5456,  7848,  9814,  4907,  1250,   695,  9013,  9244,  7719,  5386,\n",
       "         8941,  5800,  8442,  9715,  2207,  2946,  9462,  4314])"
      ]
     },
     "execution_count": 9,
     "metadata": {},
     "output_type": "execute_result"
    }
   ],
   "source": [
    "np.argmax(data['mol_one_hot'],  1)"
   ]
  },
  {
   "cell_type": "code",
   "execution_count": 30,
   "id": "f6706e2e-dc59-4516-818f-0211bbbfafee",
   "metadata": {},
   "outputs": [
    {
     "name": "stdout",
     "output_type": "stream",
     "text": [
      "['BRD-K61105570', 'BRD-K48612418', 'RS 39604', 'BRD-K34029905', 'BRD-A24067767', 'BRD-K76144394', 'BRD-K86845405', 'sulfapyridine', 'BRD-K58498516', 'BRD-K64544620', 'BRD-K60894184', 'Y27632', 'BRD-K78142829', 'BRD-K28134384', 'BRD-K48788686', 'BRD-K98303556', 'BRD-K36196444', 'BRD-K58486677', 'BRD-K77162186', 'thiamphenicol', 'methapyrilene', 'BRD-K05299321', 'BRD-A50048201', 'fusaric acid', 'BRD-K44464569', 'telenzepine', 'BRD-A64849281', 'BRD-K11237957', 'diazepam', 'cinoxacin', 'BRD-K68756555', 'BRD-K27279217', 'BRD-K73319967', 'BRD-K39597125', 'BRD-K62191543', 'zopiclone', 'XE 991', '(+)-UH 232', 'BRD-K43011399', 'BRD-K09944219', 'BRD-K75777117', 'BRD-K43873821', 'BRD-K30063533', 'hesperidin', 'BRD-K47001216', 'BRD-K17606413', 'BRD-K92014291', 'SKI-II', 'benzo(a)pyrene', 'cytisine', 'BRD-K32818886', 'DMSO', 'BRD-K70021293', 'CCMQ', 'BRD-K40472535', 'BRD-K47615243', 'BRD-K27618188', 'BRD-K56209150', 'carbacyclin', 'BRD-A59790839', 'BRD-K01367395', 'indometacin', 'BRD-K75439260', 'BRD-K67632015', 'BRD-K32373560', 'BRD-K46715633', 'immepip', 'sodium phenylbutyrate', 'clemastine', 'BRD-K90915722', 'BRD-K44183355', 'BRD-K87669186', 'EICOSADIENOIC ACID (20:2 n-6)', 'atenolol', 'BRD-A61437901', 'BRD-A13280254', 'DMSO', 'BRD-A96824985', 'BRD-K14971326', 'BRD-K99347713', 'BRD-K29783983', 'BRD-K08900543', 'BRD-K35541136', 'quinethazone', 'ciprofibrate', 'BRD-K61780473', 'BRD-K86033856', 'BRD-A29522922', 'BRD-A63501481', 'BRD-K75656771', 'BRD-K33239740', '6-chloromelatonin', 'BRD-A89983325', 'BRD-K85965830', 'BRD-K00877314', 'BRD-K00605115', 'BRD-K69586787', 'BRD-K87648058', 'BRD-A89366962', 'BRD-K08036779', 'BRD-K49464210', 'BRD-K59761728', 'DMSO', 'BRD-K48189030', 'BRD-K98040878', 'quinidine gluconate', 'BRD-K96218183', 'BRD-K71875073', 'hinokitiol', 'BRD-K01250897', 'BRD-K51490301', 'BRD-K83877780', 'letrozole', 'BRD-K44122401', 'BRD-A70582390', 'BRD-A34826857', 'Cdk1 inhibitor', 'SB-218795', 'BRD-K82019575', 'BRD-K50476476', 'BRD-K99554417', 'BRD-K56384677', 'BRD-K92057158', 'fusaric acid', 'BRD-K06888640', 'BRD-K16791875', 'capsazepine', 'BRD-K36007927']\n"
     ]
    }
   ],
   "source": [
    "print(data['mol_name'])"
   ]
  },
  {
   "cell_type": "code",
   "execution_count": 29,
   "id": "22b9d57f-f733-4086-bdc3-9ceb2fa6aa9e",
   "metadata": {},
   "outputs": [
    {
     "data": {
      "text/plain": [
       "tensor([[ 0.,  0.,  0.,  ...,  0.,  0., -1.],\n",
       "        [ 0.,  0.,  0.,  ...,  0.,  0.,  0.],\n",
       "        [ 0.,  0.,  0.,  ...,  0.,  0.,  0.],\n",
       "        ...,\n",
       "        [ 0.,  0.,  0.,  ...,  0.,  0.,  0.],\n",
       "        [ 0.,  0.,  0.,  ...,  0.,  0.,  0.],\n",
       "        [ 0.,  0.,  0.,  ...,  0.,  0.,  0.]], dtype=torch.float64)"
      ]
     },
     "execution_count": 29,
     "metadata": {},
     "output_type": "execute_result"
    }
   ],
   "source": [
    "data['assay_labels']"
   ]
  },
  {
   "cell_type": "code",
   "execution_count": null,
   "id": "bdd5b4a9-2094-4e3c-a8a6-3b0a47466cdd",
   "metadata": {},
   "outputs": [],
   "source": [
    "z = model(data['X'].to(t.device))['z']"
   ]
  },
  {
   "cell_type": "code",
   "execution_count": 65,
   "id": "7a6409f9-08fd-4d7f-af52-bf1031232260",
   "metadata": {},
   "outputs": [
    {
     "data": {
      "text/plain": [
       "tensor(0., device='cuda:0', grad_fn=<ExpBackward>)"
      ]
     },
     "execution_count": 65,
     "metadata": {},
     "output_type": "execute_result"
    }
   ],
   "source": [
    "torch.exp(-F.gaussian_nll_loss(torch.zeros(512, 512).to(t.device), z, \n",
    "                                torch.ones(512).to(t.device), eps=1e-06, reduction='mean'))"
   ]
  }
 ],
 "metadata": {
  "kernelspec": {
   "display_name": "Python 3",
   "language": "python",
   "name": "python3"
  },
  "language_info": {
   "codemirror_mode": {
    "name": "ipython",
    "version": 3
   },
   "file_extension": ".py",
   "mimetype": "text/x-python",
   "name": "python",
   "nbconvert_exporter": "python",
   "pygments_lexer": "ipython3",
   "version": "3.9.7"
  }
 },
 "nbformat": 4,
 "nbformat_minor": 5
}
