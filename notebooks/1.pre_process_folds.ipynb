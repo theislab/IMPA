{
 "cells": [
  {
   "cell_type": "code",
   "execution_count": 2,
   "id": "3c8af91f-7457-45f9-a558-b29f2bffe90f",
   "metadata": {},
   "outputs": [],
   "source": [
    "import torch\n",
    "import os\n",
    "import pandas as pd\n",
    "from scipy.io import mmread\n",
    "import numpy as np"
   ]
  },
  {
   "cell_type": "markdown",
   "id": "f8879de7-338d-4174-a61f-6b0cdc8dcfcf",
   "metadata": {},
   "source": [
    "# Create new training, test and validation "
   ]
  },
  {
   "cell_type": "code",
   "execution_count": 1,
   "id": "9a0fe2b8-fc4c-4762-b5c8-0ce369f97283",
   "metadata": {},
   "outputs": [],
   "source": [
    "# Select the type of dataset you want to perform the splitting on \n",
    "ds_type = 'integrated'  # integrated or original "
   ]
  },
  {
   "cell_type": "code",
   "execution_count": 6,
   "id": "b96f1568-0c38-491f-8817-b097fa95e161",
   "metadata": {},
   "outputs": [],
   "source": [
    "# Get datasplit files\n",
    "if ds_type == 'original':\n",
    "    file_train = pd.read_csv('/home/icb/alessandro.palma/data/metadata/original/datasplit1-train.csv')\n",
    "    file_test = pd.read_csv('/home/icb/alessandro.palma/data/metadata/original/datasplit1-test.csv')\n",
    "    file_val = pd.read_csv('/home/icb/alessandro.palma/data/metadata/original/datasplit1-val.csv')\n",
    "    # get the whole data\n",
    "    dataset = pd.concat([file_train, file_test, file_val], ignore_index=True)\n",
    "\n",
    "else: \n",
    "    dataset = pd.read_csv('/home/icb/alessandro.palma/data/metadata/integrated/splits/total_dataset.csv')"
   ]
  },
  {
   "cell_type": "code",
   "execution_count": 41,
   "id": "91f7abb7-dbaf-4d1a-8cd6-2597a9b30548",
   "metadata": {},
   "outputs": [],
   "source": [
    "# Pick the heldout dataset from the Mol2Img paper \n",
    "unseen_examples = pd.read_csv('/home/icb/alessandro.palma/data/metadata/original/splits_mol2img/eval_heldout_set.csv')"
   ]
  },
  {
   "cell_type": "code",
   "execution_count": 44,
   "id": "30964f2d-ead6-48e3-a2a5-50f8c1973d6d",
   "metadata": {},
   "outputs": [
    {
     "name": "stdout",
     "output_type": "stream",
     "text": [
      "Index(['Unnamed: 0', 'SAMPLE_KEY', 'BROAD_ID', 'PLATE_ID', 'WELL_POSITION',\n",
      "       'SITE', 'SAMPLE_ID', 'CPD_NAME', 'CPD_NAME_TYPE', 'SMILES', 'STATE',\n",
      "       'ROW_NR_LABEL_MAT'],\n",
      "      dtype='object')\n"
     ]
    }
   ],
   "source": [
    "# Check column names of the new dataset \n",
    "print(dataset.columns)"
   ]
  },
  {
   "cell_type": "code",
   "execution_count": 45,
   "id": "281d650d-34a9-49e8-a50c-093199764005",
   "metadata": {},
   "outputs": [
    {
     "data": {
      "text/plain": [
       "10561"
      ]
     },
     "execution_count": 45,
     "metadata": {},
     "output_type": "execute_result"
    }
   ],
   "source": [
    "# Sample 8.5K molecules that will be seen from the training set\n",
    "molecules = np.unique(dataset.CPD_NAME)\n",
    "len(np.unique(dataset.CPD_NAME))"
   ]
  },
  {
   "cell_type": "code",
   "execution_count": 49,
   "id": "d36175ee-c74a-4469-854b-bf2574d3e5d7",
   "metadata": {},
   "outputs": [],
   "source": [
    "# Sample the seen molecules \n",
    "n = len(dataset)\n",
    "train_perc, test_perc, valid_perc = np.round(n*0.80), np.round(n*0.20),  np.round(n*0.10)\n",
    "\n",
    "# Each molecule counts either 48 or 24 entries "
   ]
  },
  {
   "cell_type": "code",
   "execution_count": 50,
   "id": "23e42c85-fd3e-48f7-b884-b97768565b40",
   "metadata": {},
   "outputs": [],
   "source": [
    "np.random.seed(42)\n",
    "unseen = list(np.unique(unseen_examples.CPD_NAME))\n",
    "seen = list(set(dataset.CPD_NAME)-set(unseen)) "
   ]
  },
  {
   "cell_type": "code",
   "execution_count": 54,
   "id": "05d6b51f-a3e7-4241-8a29-0c89d9ad77a2",
   "metadata": {},
   "outputs": [
    {
     "data": {
      "text/plain": [
       "set()"
      ]
     },
     "execution_count": 54,
     "metadata": {},
     "output_type": "execute_result"
    }
   ],
   "source": [
    "# Check the seen and unseen do not collide\n",
    "set(seen).intersection(unseen)"
   ]
  },
  {
   "cell_type": "code",
   "execution_count": 55,
   "id": "85daed8b-315d-4662-973f-b9ae7163d104",
   "metadata": {},
   "outputs": [],
   "source": [
    "seen_rows = [i for i in range(n) if dataset.CPD_NAME[i] in seen]\n",
    "unseen_rows = [i for i in range(n) if dataset.CPD_NAME[i] not in seen]"
   ]
  },
  {
   "cell_type": "code",
   "execution_count": 57,
   "id": "f368f90a-5f74-414e-9561-60d01a071e01",
   "metadata": {},
   "outputs": [],
   "source": [
    "if ds_type == 'original':\n",
    "    np.savez('/home/icb/alessandro.palma/data/metadata_processed/original/drugs_metadata/seen_unseen_compounds.npz', seen = seen, unseen = unseen) \n",
    "else:\n",
    "    np.savez('/home/icb/alessandro.palma/data/metadata_processed/integrated/drugs_metadata/seen_unseen_compounds.npz', seen = seen, unseen = unseen) "
   ]
  },
  {
   "cell_type": "code",
   "execution_count": 58,
   "id": "44fbd6b1-cc5d-4448-8c4e-dbeddaa41e95",
   "metadata": {},
   "outputs": [],
   "source": [
    "# Split training and validation set \n",
    "np.random.seed(42)\n",
    "def split_train_val_test(df, seen, unseen):\n",
    "    # Indices for training, test and validation indexes \n",
    "    train_set, test_set, valid_set, ood_set = pd.DataFrame(), pd.DataFrame(), pd.DataFrame(), pd.DataFrame()\n",
    "    # For each molecule shared\n",
    "    for seen_mol in seen:\n",
    "        # Slice of dataset for a molecule\n",
    "        ds_slice = dataset.iloc[dataset.CPD_NAME.values == seen_mol]\n",
    "        n_slice = len(ds_slice)\n",
    "        n_train, n_test, n_valid = int(np.round(n_slice*0.70)), int(np.round(n_slice*0.20)), int(np.round(n_slice*0.10))\n",
    "        # Separate the slice observations belonging to the three sets (randomly)\n",
    "        df_slice_shuffled = ds_slice.sample(frac=1)\n",
    "        slice_train = df_slice_shuffled.iloc[0:n_train+1]\n",
    "        slice_test = df_slice_shuffled.iloc[(n_train+1):(n_train+n_test+1)]\n",
    "        slice_valid = df_slice_shuffled.iloc[(n_train+n_test+1):]\n",
    "        # Stack the datasets under the empty frames\n",
    "        train_set  = pd.concat([train_set, slice_train])\n",
    "        test_set = pd.concat([test_set, slice_test])\n",
    "        valid_set = pd.concat([valid_set, slice_valid])\n",
    "    \n",
    "    for unseen_mol in unseen:\n",
    "        ds_slice = dataset.iloc[dataset.CPD_NAME.values == unseen_mol]\n",
    "        ood_set = pd.concat([ood_set, ds_slice])\n",
    "    # Set the column names\n",
    "    train_set.columns, test_set.columns, valid_set.columns, ood_set.columns = df.columns, df.columns, df.columns, df.columns\n",
    "    return train_set, test_set, valid_set, ood_set\n",
    "\n",
    "train_set, test_set, valid_set, ood_set = split_train_val_test(dataset, seen, unseen)"
   ]
  },
  {
   "cell_type": "code",
   "execution_count": null,
   "id": "d6885109-888e-4d7e-98f1-b1bef4e03351",
   "metadata": {},
   "outputs": [],
   "source": [
    "train_set.to_csv(f'/home/icb/alessandro.palma/data/metadata_processed/{ds_type}/splits/datasplit-train.csv')\n",
    "test_set.to_csv(f'/home/icb/alessandro.palma/data/metadata_processed/{ds_type}/splits/datasplit-test.csv')\n",
    "valid_set.to_csv(f'/home/icb/alessandro.palma/data/metadata_processed/{ds_type}/splits/datasplit-val.csv')\n",
    "ood_set.to_csv(f'/home/icb/alessandro.palma/data/metadata_processed/{ds_type}/splits//datasplit-ood.csv')"
   ]
  },
  {
   "cell_type": "markdown",
   "id": "40029292-f20e-4835-b0ad-d0f0729bc421",
   "metadata": {
    "tags": []
   },
   "source": [
    "## Create training, test and valdation npy files with labels"
   ]
  },
  {
   "cell_type": "code",
   "execution_count": 8,
   "id": "511ec1ca-8a80-4389-b82a-16d4d1e46b38",
   "metadata": {},
   "outputs": [],
   "source": [
    "# Read files again if not in memory\n",
    "# Get datasplit files\n",
    "file_train = pd.read_csv(f'/home/icb/alessandro.palma/data/metadata_processed/{ds_type}/50k/splits/datasplit-train.csv')\n",
    "file_test = pd.read_csv(f'/home/icb/alessandro.palma/data/metadata_processed/{ds_type}/50k//splits/datasplit-test.csv')\n",
    "file_val = pd.read_csv(f'/home/icb/alessandro.palma/data/metadata_processed/{ds_type}/50k//splits/datasplit-val.csv')\n",
    "file_ood = pd.read_csv(f'/home/icb/alessandro.palma/data/metadata_processed/{ds_type}/50k//splits/datasplit-ood.csv')"
   ]
  },
  {
   "cell_type": "code",
   "execution_count": null,
   "id": "c9aa0d08-b2b4-4f95-a9f9-6df51cb0de2b",
   "metadata": {},
   "outputs": [],
   "source": [
    "np.intersect1d(file_train.SAMPLE_KEY.values, file_test.SAMPLE_KEY.values)"
   ]
  },
  {
   "cell_type": "markdown",
   "id": "a9c829cf-53fb-440e-98ed-75124175053d",
   "metadata": {},
   "source": [
    "### Assay labels"
   ]
  },
  {
   "cell_type": "code",
   "execution_count": 15,
   "id": "96dd8be0-7f1e-4cc7-afd0-0a035a1ccfe1",
   "metadata": {},
   "outputs": [],
   "source": [
    "# Get the label matrix\n",
    "label_mat = mmread(f'/home/icb/alessandro.palma/data/metadata/{ds_type}/label_matrix/label-matrix.mtx').tocsr()\n",
    "col_labels = pd.read_csv(f'/home/icb/alessandro.palma/data/metadata/{ds_type}/label_matrix/column-assay-index.csv')\n",
    "row_labels = pd.read_csv(f'/home/icb/alessandro.palma/data/metadata/{ds_type}/label_matrix/row-compound-index.csv')"
   ]
  },
  {
   "cell_type": "code",
   "execution_count": 16,
   "id": "6f22bf33-c8ce-41e1-9113-18be6e91a640",
   "metadata": {},
   "outputs": [
    {
     "data": {
      "text/plain": [
       "<10575x209 sparse matrix of type '<class 'numpy.float64'>'\n",
       "\twith 55751 stored elements in Compressed Sparse Row format>"
      ]
     },
     "execution_count": 16,
     "metadata": {},
     "output_type": "execute_result"
    }
   ],
   "source": [
    "label_mat"
   ]
  },
  {
   "cell_type": "code",
   "execution_count": 20,
   "id": "85e9de0b-8557-4d7b-a0a4-d6207338521d",
   "metadata": {},
   "outputs": [],
   "source": [
    "def add_assay_label_to_samples(file,\n",
    "                        label_mat):\n",
    "    \"\"\"\n",
    "    To each observation add its vector of labels \n",
    "    \"\"\"\n",
    "    file_rows = file.ROW_NR_LABEL_MAT  # Row on the assay label matrix \n",
    "    y_assays = []  # List of the assay labels for the dataset \n",
    "    for row in file_rows:\n",
    "        y_assay = label_mat[row].todense()\n",
    "        y_assays.append(np.array(y_assay))\n",
    "    return np.array(y_assays).squeeze()"
   ]
  },
  {
   "cell_type": "code",
   "execution_count": 18,
   "id": "96b6849f-1d9e-401c-8bdf-58f8188626c5",
   "metadata": {},
   "outputs": [],
   "source": [
    "train_assay_labels = add_assay_label_to_samples(file_train, label_mat)\n",
    "test_assay_labels = add_assay_label_to_samples(file_test, label_mat)\n",
    "val_assay_labels = add_assay_label_to_samples(file_val, label_mat)\n",
    "ood_assay_labels = add_assay_label_to_samples(file_ood, label_mat)"
   ]
  },
  {
   "cell_type": "code",
   "execution_count": 21,
   "id": "b3055639-d400-45f5-a281-85f287e51f3f",
   "metadata": {},
   "outputs": [
    {
     "data": {
      "text/plain": [
       "36143"
      ]
     },
     "execution_count": 21,
     "metadata": {},
     "output_type": "execute_result"
    }
   ],
   "source": [
    "len(train_assay_labels)"
   ]
  },
  {
   "cell_type": "code",
   "execution_count": 23,
   "id": "1e961e8e-2432-4367-8191-b72068d6fb43",
   "metadata": {},
   "outputs": [],
   "source": [
    "# Save labels\n",
    "np.savez(f'/home/icb/alessandro.palma/data/metadata_processed/{ds_type}/50k/labels/labels_train.npz', assay_labs = train_assay_labels)\n",
    "np.savez(f'/home/icb/alessandro.palma/data/metadata_processed/{ds_type}/50k//labels/labels_test.npz', assay_labs = test_assay_labels)\n",
    "np.savez(f'/home/icb/alessandro.palma/data/metadata_processed/{ds_type}/50k//labels/labels_valid.npz', assay_labs = val_assay_labels)\n",
    "np.savez(f'/home/icb/alessandro.palma/data/metadata_processed/{ds_type}/50k//labels/labels_ood.npz', assay_labs = ood_assay_labels)"
   ]
  },
  {
   "cell_type": "markdown",
   "id": "15e24b54-f723-46f2-a567-43e13141936f",
   "metadata": {},
   "source": [
    "## Data check"
   ]
  },
  {
   "cell_type": "code",
   "execution_count": 24,
   "id": "7a0c7815-aa27-4995-8f8e-294efd19155d",
   "metadata": {},
   "outputs": [
    {
     "data": {
      "text/plain": [
       "Index(['Unnamed: 0', 'SAMPLE_KEY', 'BROAD_ID', 'PLATE_ID', 'WELL_POSITION',\n",
       "       'SITE', 'SAMPLE_ID', 'CPD_NAME', 'CPD_NAME_TYPE', 'SMILES', 'STATE',\n",
       "       'ROW_NR_LABEL_MAT'],\n",
       "      dtype='object')"
      ]
     },
     "execution_count": 24,
     "metadata": {},
     "output_type": "execute_result"
    }
   ],
   "source": [
    "dataset.columns"
   ]
  },
  {
   "cell_type": "code",
   "execution_count": 25,
   "id": "6d07c44b-d8c0-488a-8351-491c45d6aa2c",
   "metadata": {},
   "outputs": [
    {
     "data": {
      "text/plain": [
       "array([   6,   12,   13,   14,   15,   16,   17,   18,   23,   24,   36,\n",
       "         42,   48,   60,   66,   72,   90,   96,  144, 6168])"
      ]
     },
     "execution_count": 25,
     "metadata": {},
     "output_type": "execute_result"
    }
   ],
   "source": [
    "np.unique(np.unique(dataset.CPD_NAME, return_counts=True)[1])"
   ]
  }
 ],
 "metadata": {
  "kernelspec": {
   "display_name": "Python 3",
   "language": "python",
   "name": "python3"
  },
  "language_info": {
   "codemirror_mode": {
    "name": "ipython",
    "version": 3
   },
   "file_extension": ".py",
   "mimetype": "text/x-python",
   "name": "python",
   "nbconvert_exporter": "python",
   "pygments_lexer": "ipython3",
   "version": "3.9.7"
  }
 },
 "nbformat": 4,
 "nbformat_minor": 5
}
