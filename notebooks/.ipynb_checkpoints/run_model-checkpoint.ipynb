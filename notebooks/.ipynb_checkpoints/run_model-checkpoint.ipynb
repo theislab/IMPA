{
 "cells": [
  {
   "cell_type": "code",
   "execution_count": 1,
   "id": "08cb738c-878a-47f5-8216-37858e7fa003",
   "metadata": {},
   "outputs": [
    {
     "name": "stdout",
     "output_type": "stream",
     "text": [
      "/mnt/home/icb/alessandro.palma/imCPA\n"
     ]
    }
   ],
   "source": [
    "cd .."
   ]
  },
  {
   "cell_type": "code",
   "execution_count": 2,
   "id": "e8c5c0b7-6144-4026-a215-84cbcb5f3fc5",
   "metadata": {},
   "outputs": [],
   "source": [
    "# Import the files \n",
    "import tarfile\n",
    "import numpy as np\n",
    "import matplotlib.pyplot as plt\n",
    "import cv2\n",
    "import os\n",
    "import pandas as pd\n",
    "from PIL import Image\n",
    "import timeit,time\n",
    "from plot_utils import Plotter \n",
    "import torch\n",
    "from training_utils import *\n",
    "import json"
   ]
  },
  {
   "cell_type": "code",
   "execution_count": 3,
   "id": "42ee9f92-2f3f-4c2e-a4e2-4eedeb205593",
   "metadata": {},
   "outputs": [],
   "source": [
    "config = Config(config_path = '/home/icb/alessandro.palma/imCPA/configs/config_glow.json') "
   ]
  },
  {
   "cell_type": "code",
   "execution_count": 4,
   "id": "55749d71-a5d7-47d5-8e19-1fc0cdc43c1a",
   "metadata": {
    "tags": []
   },
   "outputs": [
    {
     "name": "stdout",
     "output_type": "stream",
     "text": [
      "Create output directories for the experiment\n",
      "Working on device: cuda\n",
      "Lodading the data...\n",
      "Successfully loaded the data\n"
     ]
    }
   ],
   "source": [
    "t = Trainer(config)"
   ]
  },
  {
   "cell_type": "code",
   "execution_count": null,
   "id": "8b70298d-5bea-4ed6-852d-9ca85eab1fd0",
   "metadata": {
    "tags": []
   },
   "outputs": [
    {
     "name": "stdout",
     "output_type": "stream",
     "text": [
      "Beginning training with epochs 100\n",
      "Running epoch 1\n"
     ]
    },
    {
     "name": "stderr",
     "output_type": "stream",
     "text": [
      "100%|██████████| 776/776 [04:30<00:00,  2.87it/s]"
     ]
    },
    {
     "name": "stdout",
     "output_type": "stream",
     "text": [
      "Mean loss after epoch 1: 4.84504528021075\n"
     ]
    },
    {
     "name": "stderr",
     "output_type": "stream",
     "text": [
      "\n"
     ]
    },
    {
     "name": "stdout",
     "output_type": "stream",
     "text": [
      "Average validation loss: 4.569486618041992\n",
      "The validation rmse is 0.00028770306380465627\n",
      "New best loss is 4.569486618041992\n",
      "Save new checkpoint at /home/icb/alessandro.palma/imCPA/glow_res/Run_glow_20220222-113432/checkpoint.pt\n",
      "Running epoch 2\n"
     ]
    },
    {
     "name": "stderr",
     "output_type": "stream",
     "text": [
      "100%|██████████| 776/776 [04:29<00:00,  2.88it/s]"
     ]
    },
    {
     "name": "stdout",
     "output_type": "stream",
     "text": [
      "Mean loss after epoch 2: 4.470031687279337\n"
     ]
    },
    {
     "name": "stderr",
     "output_type": "stream",
     "text": [
      "\n"
     ]
    },
    {
     "name": "stdout",
     "output_type": "stream",
     "text": [
      "Average validation loss: 4.390319347381592\n",
      "The validation rmse is 6.517742440337315e-05\n",
      "New best loss is 4.390319347381592\n",
      "Save new checkpoint at /home/icb/alessandro.palma/imCPA/glow_res/Run_glow_20220222-113432/checkpoint.pt\n",
      "Running epoch 3\n"
     ]
    },
    {
     "name": "stderr",
     "output_type": "stream",
     "text": [
      "100%|██████████| 776/776 [04:30<00:00,  2.87it/s]"
     ]
    },
    {
     "name": "stdout",
     "output_type": "stream",
     "text": [
      "Mean loss after epoch 3: 4.328917449897098\n"
     ]
    },
    {
     "name": "stderr",
     "output_type": "stream",
     "text": [
      "\n"
     ]
    },
    {
     "name": "stdout",
     "output_type": "stream",
     "text": [
      "Average validation loss: 4.247565269470215\n",
      "The validation rmse is 6.244384712772444e-05\n",
      "New best loss is 4.247565269470215\n",
      "Save new checkpoint at /home/icb/alessandro.palma/imCPA/glow_res/Run_glow_20220222-113432/checkpoint.pt\n",
      "Running epoch 4\n"
     ]
    },
    {
     "name": "stderr",
     "output_type": "stream",
     "text": [
      "100%|██████████| 776/776 [04:29<00:00,  2.88it/s]"
     ]
    },
    {
     "name": "stdout",
     "output_type": "stream",
     "text": [
      "Mean loss after epoch 4: 4.234390652671303\n"
     ]
    },
    {
     "name": "stderr",
     "output_type": "stream",
     "text": [
      "\n"
     ]
    },
    {
     "name": "stdout",
     "output_type": "stream",
     "text": [
      "Average validation loss: 4.19027853012085\n",
      "The validation rmse is 4.510310463956557e-05\n",
      "New best loss is 4.19027853012085\n",
      "Save new checkpoint at /home/icb/alessandro.palma/imCPA/glow_res/Run_glow_20220222-113432/checkpoint.pt\n",
      "Running epoch 5\n"
     ]
    },
    {
     "name": "stderr",
     "output_type": "stream",
     "text": [
      "100%|██████████| 776/776 [04:30<00:00,  2.87it/s]"
     ]
    },
    {
     "name": "stdout",
     "output_type": "stream",
     "text": [
      "Mean loss after epoch 5: 4.159161307148097\n"
     ]
    },
    {
     "name": "stderr",
     "output_type": "stream",
     "text": [
      "\n"
     ]
    },
    {
     "name": "stdout",
     "output_type": "stream",
     "text": [
      "Average validation loss: 4.1066694259643555\n",
      "The validation rmse is 4.1063180105993524e-05\n",
      "New best loss is 4.1066694259643555\n",
      "Save new checkpoint at /home/icb/alessandro.palma/imCPA/glow_res/Run_glow_20220222-113432/checkpoint.pt\n",
      "Running epoch 6\n"
     ]
    },
    {
     "name": "stderr",
     "output_type": "stream",
     "text": [
      "100%|██████████| 776/776 [04:29<00:00,  2.87it/s]"
     ]
    },
    {
     "name": "stdout",
     "output_type": "stream",
     "text": [
      "Mean loss after epoch 6: 4.103860877223851\n"
     ]
    },
    {
     "name": "stderr",
     "output_type": "stream",
     "text": [
      "\n"
     ]
    },
    {
     "name": "stdout",
     "output_type": "stream",
     "text": [
      "Average validation loss: 4.062812328338623\n",
      "The validation rmse is 3.796510281972587e-05\n",
      "New best loss is 4.062812328338623\n",
      "Save new checkpoint at /home/icb/alessandro.palma/imCPA/glow_res/Run_glow_20220222-113432/checkpoint.pt\n",
      "Running epoch 7\n"
     ]
    },
    {
     "name": "stderr",
     "output_type": "stream",
     "text": [
      "100%|██████████| 776/776 [04:30<00:00,  2.87it/s]"
     ]
    },
    {
     "name": "stdout",
     "output_type": "stream",
     "text": [
      "Mean loss after epoch 7: 4.059049107979253\n"
     ]
    },
    {
     "name": "stderr",
     "output_type": "stream",
     "text": [
      "\n"
     ]
    },
    {
     "name": "stdout",
     "output_type": "stream",
     "text": [
      "Average validation loss: 4.021021842956543\n",
      "The validation rmse is 3.3760381484171376e-05\n",
      "New best loss is 4.021021842956543\n",
      "Save new checkpoint at /home/icb/alessandro.palma/imCPA/glow_res/Run_glow_20220222-113432/checkpoint.pt\n",
      "Running epoch 8\n"
     ]
    },
    {
     "name": "stderr",
     "output_type": "stream",
     "text": [
      "100%|██████████| 776/776 [04:30<00:00,  2.87it/s]"
     ]
    },
    {
     "name": "stdout",
     "output_type": "stream",
     "text": [
      "Mean loss after epoch 8: 4.021533092579891\n"
     ]
    },
    {
     "name": "stderr",
     "output_type": "stream",
     "text": [
      "\n"
     ]
    },
    {
     "name": "stdout",
     "output_type": "stream",
     "text": [
      "Average validation loss: 3.9763834476470947\n",
      "The validation rmse is 3.2371321140090004e-05\n",
      "New best loss is 3.9763834476470947\n",
      "Save new checkpoint at /home/icb/alessandro.palma/imCPA/glow_res/Run_glow_20220222-113432/checkpoint.pt\n",
      "Running epoch 9\n"
     ]
    },
    {
     "name": "stderr",
     "output_type": "stream",
     "text": [
      "100%|██████████| 776/776 [04:29<00:00,  2.88it/s]"
     ]
    },
    {
     "name": "stdout",
     "output_type": "stream",
     "text": [
      "Mean loss after epoch 9: 3.991065014883415\n"
     ]
    },
    {
     "name": "stderr",
     "output_type": "stream",
     "text": [
      "\n"
     ]
    },
    {
     "name": "stdout",
     "output_type": "stream",
     "text": [
      "Average validation loss: 3.956594944000244\n",
      "The validation rmse is 3.416733306949027e-05\n",
      "New best loss is 3.956594944000244\n",
      "Save new checkpoint at /home/icb/alessandro.palma/imCPA/glow_res/Run_glow_20220222-113432/checkpoint.pt\n",
      "Running epoch 10\n"
     ]
    },
    {
     "name": "stderr",
     "output_type": "stream",
     "text": [
      "100%|██████████| 776/776 [04:28<00:00,  2.89it/s]"
     ]
    },
    {
     "name": "stdout",
     "output_type": "stream",
     "text": [
      "Mean loss after epoch 10: 3.9622962723687754\n"
     ]
    },
    {
     "name": "stderr",
     "output_type": "stream",
     "text": [
      "\n"
     ]
    },
    {
     "name": "stdout",
     "output_type": "stream",
     "text": [
      "Average validation loss: 3.934380054473877\n",
      "The validation rmse is 3.375438245711848e-05\n",
      "New best loss is 3.934380054473877\n",
      "Save new checkpoint at /home/icb/alessandro.palma/imCPA/glow_res/Run_glow_20220222-113432/checkpoint.pt\n",
      "Running epoch 11\n"
     ]
    },
    {
     "name": "stderr",
     "output_type": "stream",
     "text": [
      "100%|██████████| 776/776 [04:29<00:00,  2.88it/s]"
     ]
    },
    {
     "name": "stdout",
     "output_type": "stream",
     "text": [
      "Mean loss after epoch 11: 3.938964282728962\n"
     ]
    },
    {
     "name": "stderr",
     "output_type": "stream",
     "text": [
      "\n"
     ]
    },
    {
     "name": "stdout",
     "output_type": "stream",
     "text": [
      "Average validation loss: 3.9181723594665527\n",
      "The validation rmse is 3.3161726605612785e-05\n"
     ]
    },
    {
     "name": "stderr",
     "output_type": "stream",
     "text": [
      "/mnt/home/icb/alessandro.palma/imCPA/plot_utils.py:12: RuntimeWarning: More than 20 figures have been opened. Figures created through the pyplot interface (`matplotlib.pyplot.figure`) are retained until explicitly closed and may consume too much memory. (To control this warning, see the rcParam `figure.max_open_warning`).\n",
      "  fig = plt.figure(constrained_layout=True, figsize = (10,10))\n"
     ]
    },
    {
     "name": "stdout",
     "output_type": "stream",
     "text": [
      "New best loss is 3.9181723594665527\n",
      "Save new checkpoint at /home/icb/alessandro.palma/imCPA/glow_res/Run_glow_20220222-113432/checkpoint.pt\n",
      "Running epoch 12\n"
     ]
    },
    {
     "name": "stderr",
     "output_type": "stream",
     "text": [
      "100%|██████████| 776/776 [04:30<00:00,  2.87it/s]"
     ]
    },
    {
     "name": "stdout",
     "output_type": "stream",
     "text": [
      "Mean loss after epoch 12: 3.9157927082371464\n"
     ]
    },
    {
     "name": "stderr",
     "output_type": "stream",
     "text": [
      "\n"
     ]
    },
    {
     "name": "stdout",
     "output_type": "stream",
     "text": [
      "Average validation loss: 3.8864073753356934\n",
      "The validation rmse is 3.0398452508961782e-05\n",
      "New best loss is 3.8864073753356934\n",
      "Save new checkpoint at /home/icb/alessandro.palma/imCPA/glow_res/Run_glow_20220222-113432/checkpoint.pt\n",
      "Running epoch 13\n"
     ]
    },
    {
     "name": "stderr",
     "output_type": "stream",
     "text": [
      " 36%|███▋      | 283/776 [01:39<02:50,  2.89it/s]"
     ]
    }
   ],
   "source": [
    "t.train()"
   ]
  },
  {
   "cell_type": "code",
   "execution_count": null,
   "id": "374f1926-11a4-4516-8dbb-b7eb4d692b9d",
   "metadata": {},
   "outputs": [],
   "source": [
    " torch.cuda.device_count()"
   ]
  },
  {
   "cell_type": "code",
   "execution_count": null,
   "id": "0cbbbea7-fb33-4914-8d43-0872b42806bd",
   "metadata": {},
   "outputs": [],
   "source": [
    "%load_ext tensorboard\n",
    "%tensorboard --logdir=/home/icb/alessandro.palma/imCPA/VAE_res/Run_glow_20220219-125453/logs"
   ]
  },
  {
   "cell_type": "code",
   "execution_count": 167,
   "id": "04cae082-ffc5-49bd-bedc-404361a3bd63",
   "metadata": {},
   "outputs": [],
   "source": [
    "res = res"
   ]
  },
  {
   "cell_type": "code",
   "execution_count": 210,
   "id": "28edd719-d59d-4f56-a1c0-8639f1a0f832",
   "metadata": {},
   "outputs": [],
   "source": [
    "res = t.model.module.sample(1, 0.9, 'cuda')\n",
    "#res = torch.sigmoid(res)"
   ]
  },
  {
   "cell_type": "code",
   "execution_count": null,
   "id": "d97ce273-4be4-4b9e-9277-a0ad638a70bc",
   "metadata": {},
   "outputs": [],
   "source": [
    "print(t.model)"
   ]
  }
 ],
 "metadata": {
  "kernelspec": {
   "display_name": "Python 3",
   "language": "python",
   "name": "python3"
  },
  "language_info": {
   "codemirror_mode": {
    "name": "ipython",
    "version": 3
   },
   "file_extension": ".py",
   "mimetype": "text/x-python",
   "name": "python",
   "nbconvert_exporter": "python",
   "pygments_lexer": "ipython3",
   "version": "3.9.7"
  }
 },
 "nbformat": 4,
 "nbformat_minor": 5
}
