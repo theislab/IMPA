{
 "cells": [
  {
   "cell_type": "code",
   "execution_count": null,
   "id": "15bab8f2-04b2-416a-a3af-6fd3145b062b",
   "metadata": {},
   "outputs": [],
   "source": [
    "# Import the files \n",
    "import tarfile\n",
    "import numpy as np\n",
    "import matplotlib.pyplot as plt\n",
    "import cv2\n",
    "import os\n",
    "import pandas as pd\n",
    "from PIL import Image\n",
    "import timeit,time\n",
    "import shutil\n",
    "from utils import *"
   ]
  },
  {
   "cell_type": "code",
   "execution_count": null,
   "id": "fcc30cbd-d591-4ae8-ab18-132b4ddb5052",
   "metadata": {},
   "outputs": [],
   "source": [
    "cd .."
   ]
  },
  {
   "cell_type": "markdown",
   "id": "f756d0f7-2f34-4d81-b14f-30016ef0f2c1",
   "metadata": {},
   "source": [
    "## Create the npz files containing the data "
   ]
  },
  {
   "cell_type": "code",
   "execution_count": 7,
   "id": "be8460c9-d91c-4a7a-8af3-8a78c984be89",
   "metadata": {},
   "outputs": [
    {
     "name": "stdout",
     "output_type": "stream",
     "text": [
      "/mnt/home/icb/alessandro.palma/imCPA/data/metadata\n"
     ]
    }
   ],
   "source": [
    "cd /home/icb/alessandro.palma/imCPA/data/metadata"
   ]
  },
  {
   "cell_type": "code",
   "execution_count": 8,
   "id": "9b64cd12-a406-453a-a2bc-2b6a3f84624f",
   "metadata": {},
   "outputs": [
    {
     "name": "stdout",
     "output_type": "stream",
     "text": [
      "datasplit1-test.csv   datasplit2-test.csv   datasplit3-test.csv\n",
      "datasplit1-train.csv  datasplit2-train.csv  datasplit3-train.csv\n",
      "datasplit1-val.csv    datasplit2-val.csv    datasplit3-val.csv\n"
     ]
    }
   ],
   "source": [
    "ls"
   ]
  },
  {
   "cell_type": "code",
   "execution_count": 9,
   "id": "135b5f1d-92da-4ec5-b1c7-555b594d4d80",
   "metadata": {},
   "outputs": [],
   "source": [
    "split = '1'"
   ]
  },
  {
   "cell_type": "code",
   "execution_count": 10,
   "id": "a0bcda07-4f67-435f-97e9-158342d45587",
   "metadata": {},
   "outputs": [],
   "source": [
    "train = pd.read_csv(f'datasplit{split}-train.csv')\n",
    "test  = pd.read_csv(f'datasplit{split}-test.csv')\n",
    "val  = pd.read_csv(f'datasplit{split}-val.csv')"
   ]
  },
  {
   "cell_type": "code",
   "execution_count": 11,
   "id": "4990a12d-0123-4e2f-b7f1-599b22d87dd2",
   "metadata": {},
   "outputs": [
    {
     "data": {
      "text/plain": [
       "array(['24277-A03-1', '24277-A03-2', '24277-A03-3', ..., '26795-P16-4',\n",
       "       '26795-P16-5', '26795-P16-6'], dtype=object)"
      ]
     },
     "execution_count": 11,
     "metadata": {},
     "output_type": "execute_result"
    }
   ],
   "source": [
    "train['SAMPLE_KEY'].values"
   ]
  },
  {
   "cell_type": "markdown",
   "id": "3ebe5f18-8f40-4bc8-b830-a5858e324c9a",
   "metadata": {},
   "source": [
    "Dump .npz data files"
   ]
  },
  {
   "cell_type": "code",
   "execution_count": 14,
   "id": "f0f0a4ab-3fe4-44c8-b1e9-48fe678aa266",
   "metadata": {},
   "outputs": [],
   "source": [
    "train_files, train_mol_names, train_SMILES = extract_filenames_and_molecules(train, '/home/icb/alessandro.palma/data/cellpainting_64', 'train')"
   ]
  },
  {
   "cell_type": "code",
   "execution_count": 15,
   "id": "d67a6b18-77a1-4c1f-a230-baecd16d3c13",
   "metadata": {},
   "outputs": [],
   "source": [
    "val_files, val_mol_names, val_SMILES = extract_filenames_and_molecules(val, '/home/icb/alessandro.palma/data/cellpainting_64', 'val')"
   ]
  },
  {
   "cell_type": "code",
   "execution_count": 16,
   "id": "2b12c48d-a6a7-4f06-93bd-01f5aa6f581f",
   "metadata": {},
   "outputs": [],
   "source": [
    "test_files, test_mol_names, test_SMILES = extract_filenames_and_molecules(test, '/home/icb/alessandro.palma/data/cellpainting_64', 'test')"
   ]
  },
  {
   "cell_type": "markdown",
   "id": "aafc8726-588c-48ad-a703-baea7f6d0bda",
   "metadata": {},
   "source": [
    "## Collect files into folders"
   ]
  },
  {
   "cell_type": "code",
   "execution_count": 19,
   "id": "e9f16754-7fd1-428a-95dc-8636e735964a",
   "metadata": {},
   "outputs": [],
   "source": [
    "path = '/home/icb/alessandro.palma/data/cellpainting_64'"
   ]
  },
  {
   "cell_type": "code",
   "execution_count": 10,
   "id": "714166db-0b12-4b18-b575-b0d9317f25cb",
   "metadata": {},
   "outputs": [],
   "source": [
    "samples = []\n",
    "for file in os.listdir(path): \n",
    "    if file.endswith('npz'):\n",
    "        sample_name = file.split('-')[0]\n",
    "\n",
    "        source = os.path.join(path, file)\n",
    "        dest = os.path.join(path, sample_name, file)\n",
    "\n",
    "        if sample_name not in samples:\n",
    "            samples.append(sample_name)\n",
    "            if not os.path.exists(os.path.join(path, sample_name)):\n",
    "                os.mkdir(os.path.join(path, sample_name))\n",
    "\n",
    "        shutil.move(source, dest)"
   ]
  },
  {
   "cell_type": "code",
   "execution_count": 11,
   "id": "3524d9f8-bd25-4e04-9d5e-cc04864ecc79",
   "metadata": {},
   "outputs": [],
   "source": [
    "c = 0\n",
    "for file in os.listdir(path): \n",
    "    dire = os.path.join(path, file)\n",
    "    for file in os.listdir(dire):\n",
    "        c+=1 "
   ]
  },
  {
   "cell_type": "code",
   "execution_count": 27,
   "id": "1f428aae-d447-422a-842a-5e125d1b896d",
   "metadata": {},
   "outputs": [],
   "source": [
    "# For all folders in the data folder\n",
    "for sample in os.listdir(path):\n",
    "    if not sample.endswith('npz'):\n",
    "        wells = []\n",
    "        # For all the files in the data folder \n",
    "        for file in os.listdir(os.path.join(path, sample)):\n",
    "            # Name of the well \n",
    "            well_name = file.split('-')[1].split('-')[0]\n",
    "            \n",
    "            # Source and destination files\n",
    "            source = os.path.join(path, sample, file)\n",
    "            dest = os.path.join(path, sample, well_name, file)\n",
    "\n",
    "            if well_name not in wells:\n",
    "                wells.append(well_name)\n",
    "                if not os.path.exists(os.path.join(path, sample, well_name)):\n",
    "                    os.mkdir(os.path.join(path, sample, well_name))\n",
    "\n",
    "            shutil.move(source, dest)"
   ]
  },
  {
   "cell_type": "code",
   "execution_count": null,
   "id": "2395764e-31fd-4c58-b17e-37d7a944719d",
   "metadata": {},
   "outputs": [],
   "source": []
  }
 ],
 "metadata": {
  "kernelspec": {
   "display_name": "Python 3",
   "language": "python",
   "name": "python3"
  },
  "language_info": {
   "codemirror_mode": {
    "name": "ipython",
    "version": 3
   },
   "file_extension": ".py",
   "mimetype": "text/x-python",
   "name": "python",
   "nbconvert_exporter": "python",
   "pygments_lexer": "ipython3",
   "version": "3.9.7"
  }
 },
 "nbformat": 4,
 "nbformat_minor": 5
}
